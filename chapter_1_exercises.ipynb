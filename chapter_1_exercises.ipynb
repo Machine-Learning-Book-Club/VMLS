{
 "cells": [
  {
   "cell_type": "code",
   "execution_count": 3,
   "metadata": {},
   "outputs": [],
   "source": [
    "import numpy as np"
   ]
  },
  {
   "cell_type": "markdown",
   "metadata": {},
   "source": [
    "# Exercises Answers for Chapter 1\n",
    "\n",
    "These solutions are from the book club collaboration and discussion on the exercises.\n",
    "\n",
    "## Exercise 1\n",
    "- 1a has good notation and is true.\n",
    "- 1b is not valid mathematical notation.\n",
    "- 1c is valid notation and we went back and forth on this one a bit. $(1, (2, 1)) = ((1, 2), 1)$ is the question. \n",
    "    - This is valid mathematical notation\n",
    "    - If this were programming notation, this would be false... but we're not programming...|\n",
    "    - $(a, (b, c)) = ((a, b), c)$ works out to be the same stacked vector, so this is true.\n",
    "    - Stacked vectors have an associative property!"
   ]
  },
  {
   "cell_type": "code",
   "execution_count": 16,
   "metadata": {},
   "outputs": [
    {
     "data": {
      "text/plain": [
       "True"
      ]
     },
     "execution_count": 16,
     "metadata": {},
     "output_type": "execute_result"
    }
   ],
   "source": [
    "# Numpy proof of Exercise 1c\n",
    "\n",
    "a = np.array([1, 2])\n",
    "b = np.array([3, 4])\n",
    "c = np.array([5, 6])\n",
    "\n",
    "inner = np.concatenate((b, c)) # first concatenate b and c together\n",
    "left_side = np.concatenate((a, inner)) # then concatenate\n",
    "\n",
    "inner = np.concatenate((a, b)) # first, concatenate a and b together\n",
    "right_side = np.concatenate((inner, c)) # then concatenate (a, b) with c\n",
    "\n",
    "np.array_equal(left_side, right_side)"
   ]
  },
  {
   "cell_type": "markdown",
   "metadata": {},
   "source": [
    "## Exercise 2.\n",
    "- 2a is valid because we're adding/subtracting 3 vectors of the same size\n",
    "- 2b where we have $(a, b, c[3:13])$ is valid because it's a stacked vector and the vectors we're stacking don't need to have the same size\n",
    "- 2c is invalid because the vectors have different sizes\n",
    "- 2d is valid\n",
    "- 2e is valid\n",
    "- 2f is invalid because of the invalid vector notation (the in-line square brackets are not valid)\n",
    "- 2g is valid"
   ]
  },
  {
   "cell_type": "markdown",
   "metadata": {},
   "source": [
    "## Exercise 3\n",
    "- 3a has correct notation and is true (because of the context of the 0 vector being able to take on the size it needs to)\n",
    "- 3b is correct notation but false, because the sizes of the vectors will be different\n",
    "- 3c is correct notation and true, but it's ambiguous\n",
    "- 3d is valid notation but false, because while 0 can take on the size it needs to, if we remove it, the statement is `a = b` and those vectors have different sizes"
   ]
  },
  {
   "cell_type": "markdown",
   "metadata": {},
   "source": [
    "## Exercise 4\n",
    "- 4a is $w = (d, d, d, d, d, d, d)$ because the `w` vector is composed of 7 identical vectors `d`.\n",
    "- 4b is $w_{1:24}$"
   ]
  },
  {
   "cell_type": "markdown",
   "metadata": {},
   "source": [
    "## Exercise 5\n",
    "_Interpeting Sparsity_\n",
    "\n",
    "- 5a if $x$ is a daily cashflow vector over $n$ days and it's sparse, then then there's not a lot of cashflow happening in or out. It's super quiet!\n",
    "- 5b is x represents the annual dollar value purchases by a customer of $n$ products or services, then a sparse vector $x$ means that they are purchasing only a few products/services offered\n",
    "- 5c If there's a sparse vector of a portfolio $x$ then it means that there are many stocks with zero holdings.\n",
    "- 5d If a bill of materials vector is sparse, then \n",
    "- 5e, A sparse image vector means there's lots of white space\n",
    "- 5f, a sparse rainfall vector means very little rainfall at all."
   ]
  },
  {
   "cell_type": "code",
   "execution_count": null,
   "metadata": {},
   "outputs": [],
   "source": []
  }
 ],
 "metadata": {
  "kernelspec": {
   "display_name": "Python 3",
   "language": "python",
   "name": "python3"
  },
  "language_info": {
   "codemirror_mode": {
    "name": "ipython",
    "version": 3
   },
   "file_extension": ".py",
   "mimetype": "text/x-python",
   "name": "python",
   "nbconvert_exporter": "python",
   "pygments_lexer": "ipython3",
   "version": "3.7.3"
  }
 },
 "nbformat": 4,
 "nbformat_minor": 4
}
