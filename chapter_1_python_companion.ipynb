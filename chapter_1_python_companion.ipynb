{
 "cells": [
  {
   "cell_type": "code",
   "execution_count": 1,
   "metadata": {},
   "outputs": [],
   "source": [
    "import numpy as np"
   ]
  },
  {
   "cell_type": "code",
   "execution_count": 2,
   "metadata": {},
   "outputs": [],
   "source": [
    "# Orientation for \"assert\" statements\n",
    "# assert statements check actual vs. expected values\n",
    "# if the assert fails, Python throws an Assert Error then prints the string after the comma\n",
    "assert True == True, \"If the assert fails, the Assert Error prints this string to the screen\""
   ]
  },
  {
   "cell_type": "markdown",
   "metadata": {},
   "source": [
    "# Vectors\n",
    "- A vector is an ordered finite list of numbers.\n",
    "- Elements of a vector can be called entries, coefficients, or components \n",
    "- The size (called the dimension or length) is the number of elements the vector contains.\n",
    "- A vector of size $n$ is called an n-vector.\n",
    "    - The vector $(1)$ is a 1-vector\n",
    "    - The vector $(0, 1)$ is a 2-vector\n",
    "    - The vector $(1, 2, 3)$ is called a 3-vector.\n",
    "    - etc..."
   ]
  },
  {
   "cell_type": "code",
   "execution_count": 3,
   "metadata": {},
   "outputs": [
    {
     "data": {
      "text/plain": [
       "1"
      ]
     },
     "execution_count": 3,
     "metadata": {},
     "output_type": "execute_result"
    }
   ],
   "source": [
    "x = np.array([1])\n",
    "x.size"
   ]
  },
  {
   "cell_type": "code",
   "execution_count": 4,
   "metadata": {},
   "outputs": [
    {
     "data": {
      "text/plain": [
       "2"
      ]
     },
     "execution_count": 4,
     "metadata": {},
     "output_type": "execute_result"
    }
   ],
   "source": [
    "x = np.array([1, 2])\n",
    "x.size"
   ]
  },
  {
   "cell_type": "code",
   "execution_count": 5,
   "metadata": {},
   "outputs": [
    {
     "data": {
      "text/plain": [
       "3"
      ]
     },
     "execution_count": 5,
     "metadata": {},
     "output_type": "execute_result"
    }
   ],
   "source": [
    "# A vector of size n is called an n-vector\n",
    "# x is a 3-vector\n",
    "x = np.array([1, 2, 3])\n",
    "\n",
    "assert x.size == 3, \"The size of the vector with 3 items is 3\" \n",
    "x.size"
   ]
  },
  {
   "cell_type": "markdown",
   "metadata": {},
   "source": [
    "## Built-in Python vs. numpy tools\n",
    "- `len` is built into Python (for iterables) returns the size of only the 1st dimension.\n",
    "- The `.size` property from numpy arrays works the same way, only on 1 dimensional vectors\n",
    "- We'll use `.size` since it's the mathematically accurate definition"
   ]
  },
  {
   "cell_type": "markdown",
   "metadata": {},
   "source": [
    "## A 1-vector containing only one number is the same as the number itself\n",
    "- The 1 vector containing a scalar is the same as that scalar"
   ]
  },
  {
   "cell_type": "code",
   "execution_count": 6,
   "metadata": {},
   "outputs": [
    {
     "data": {
      "text/plain": [
       "True"
      ]
     },
     "execution_count": 6,
     "metadata": {},
     "output_type": "execute_result"
    }
   ],
   "source": [
    "np.array(1) == 1"
   ]
  },
  {
   "cell_type": "code",
   "execution_count": 7,
   "metadata": {},
   "outputs": [
    {
     "data": {
      "text/plain": [
       "True"
      ]
     },
     "execution_count": 7,
     "metadata": {},
     "output_type": "execute_result"
    }
   ],
   "source": [
    "1 == np.array(1)"
   ]
  },
  {
   "cell_type": "code",
   "execution_count": 8,
   "metadata": {},
   "outputs": [
    {
     "data": {
      "text/plain": [
       "array(1)"
      ]
     },
     "execution_count": 8,
     "metadata": {},
     "output_type": "execute_result"
    }
   ],
   "source": [
    "np.array(1)"
   ]
  },
  {
   "cell_type": "code",
   "execution_count": 9,
   "metadata": {},
   "outputs": [],
   "source": [
    "# A 1-vector is considered to be the same as the number itself\n",
    "assert [1.3] != 1.3, \"Python built-in lists are not proper vectors\"\n",
    "assert np.array(1.3) == 1.3, \"A numpy array of a single number is the same as that number\""
   ]
  },
  {
   "cell_type": "markdown",
   "metadata": {},
   "source": [
    "## Vector Equality\n",
    "- Two vectors are equal if they have the same size and all the entries are the same\n",
    "\n",
    "### Use `np.array_equals` to get the equality of vectors\n",
    "- Using `np.array_equal(a, b)` is the same as the math notation saying $a = b$.\n",
    "- The result is a single boolean value of `True` or `False`\n",
    "\n",
    "### Using `==` or `np.equals` produces an array of booleans comparing each index, not a single boolean"
   ]
  },
  {
   "cell_type": "code",
   "execution_count": 10,
   "metadata": {},
   "outputs": [
    {
     "data": {
      "text/plain": [
       "True"
      ]
     },
     "execution_count": 10,
     "metadata": {},
     "output_type": "execute_result"
    }
   ],
   "source": [
    "a = np.array([1, 2, 3])\n",
    "b = np.array([1, 2, 3])\n",
    "\n",
    "# array_equal returns True/False if the arrays are completely equal\n",
    "np.array_equal(a, b)"
   ]
  },
  {
   "cell_type": "code",
   "execution_count": 11,
   "metadata": {},
   "outputs": [
    {
     "data": {
      "text/plain": [
       "False"
      ]
     },
     "execution_count": 11,
     "metadata": {},
     "output_type": "execute_result"
    }
   ],
   "source": [
    "a = np.array([3, 3, 3])\n",
    "b = np.array([4, 5, 6])\n",
    "np.array_equal(a, b)"
   ]
  },
  {
   "cell_type": "code",
   "execution_count": 12,
   "metadata": {},
   "outputs": [
    {
     "data": {
      "text/plain": [
       "True"
      ]
     },
     "execution_count": 12,
     "metadata": {},
     "output_type": "execute_result"
    }
   ],
   "source": [
    "np.array_equal(a, a)"
   ]
  },
  {
   "cell_type": "code",
   "execution_count": 13,
   "metadata": {},
   "outputs": [
    {
     "data": {
      "text/plain": [
       "True"
      ]
     },
     "execution_count": 13,
     "metadata": {},
     "output_type": "execute_result"
    }
   ],
   "source": [
    "x = np.array(1)\n",
    "np.array_equal(x, 1)"
   ]
  },
  {
   "cell_type": "code",
   "execution_count": 14,
   "metadata": {},
   "outputs": [
    {
     "data": {
      "text/plain": [
       "array([False,  True, False])"
      ]
     },
     "execution_count": 14,
     "metadata": {},
     "output_type": "execute_result"
    }
   ],
   "source": [
    "# `==` or `np.equals` compares each and every element to produce a boolean for that specific index\n",
    "x = np.array([0, 2, 3])\n",
    "y = np.array([1, 2, 4])\n",
    "x == y"
   ]
  },
  {
   "cell_type": "code",
   "execution_count": 15,
   "metadata": {},
   "outputs": [
    {
     "data": {
      "text/plain": [
       "True"
      ]
     },
     "execution_count": 15,
     "metadata": {},
     "output_type": "execute_result"
    }
   ],
   "source": [
    "# Use all to return True or False if all the entries are True\n",
    "all(x == x)"
   ]
  },
  {
   "cell_type": "code",
   "execution_count": 16,
   "metadata": {},
   "outputs": [
    {
     "data": {
      "text/plain": [
       "False"
      ]
     },
     "execution_count": 16,
     "metadata": {},
     "output_type": "execute_result"
    }
   ],
   "source": [
    "# Use all to return True or False if all the entries are True\n",
    "all(x == y)"
   ]
  },
  {
   "cell_type": "code",
   "execution_count": 17,
   "metadata": {},
   "outputs": [
    {
     "name": "stdout",
     "output_type": "stream",
     "text": [
      "[0 2 3]\n",
      "[1 2 4]\n"
     ]
    }
   ],
   "source": [
    "print(x)\n",
    "print(y)"
   ]
  },
  {
   "cell_type": "markdown",
   "metadata": {},
   "source": [
    "### Block or stacked vectors\n",
    "- Block or stacked vectors mean to add all of the elements together, end to end, like boxcars.\n",
    "- In programming, we'll call this \"concatenating\" vectors. \n",
    "- Consider $c = (a, b)$\n",
    "- The size of $c$ is the sum of the sizes of $a$ and $b$\n",
    "- If $a$ is $(1, 2)$ and $b$ is $(3, 4)$\n",
    "- Then $c$ is the vector $(1, 2, 3, 4)$"
   ]
  },
  {
   "cell_type": "code",
   "execution_count": 18,
   "metadata": {},
   "outputs": [
    {
     "data": {
      "text/plain": [
       "array([1, 2, 3, 4])"
      ]
     },
     "execution_count": 18,
     "metadata": {},
     "output_type": "execute_result"
    }
   ],
   "source": [
    "# Create block/stacked vectors with np.concatenate\n",
    "# https://numpy.org/doc/stable/reference/generated/numpy.concatenate.html?highlight=concatenate#numpy.concatenate\n",
    "a = np.array([1, 2])\n",
    "b = np.array([3, 4])\n",
    "c = np.concatenate((a, b))\n",
    "\n",
    "assert c.size == a.size + b.size\n",
    "c"
   ]
  },
  {
   "cell_type": "markdown",
   "metadata": {},
   "source": [
    "### Subvectors\n",
    "- Consider $c = (a, b)$ where $a=(1, 2)$ and $b=(3, 4)$\n",
    "- $a$ and $b$ are subvectors, or slices, of $c$\n",
    "- $(2, 3)$ is also a subvector of $c$\n",
    "- Python's built-in `in` operator is insufficient for checking if a subvector exists in a vector.\n",
    "- We can use `np.isin` function to check if a vector is a subvector in another vector."
   ]
  },
  {
   "cell_type": "code",
   "execution_count": 19,
   "metadata": {},
   "outputs": [
    {
     "data": {
      "text/plain": [
       "array([ True,  True])"
      ]
     },
     "execution_count": 19,
     "metadata": {},
     "output_type": "execute_result"
    }
   ],
   "source": [
    "# Setup 3 vectors\n",
    "a = np.array([1, 2])\n",
    "b = np.array([3, 4])\n",
    "c = np.concatenate((a, b))\n",
    "\n",
    "# the np.isin syntax is np.isin(needle, haystack)\n",
    "# [1, 2] is a subvector of [1, 2, 3, 4]\n",
    "np.isin(a, c)"
   ]
  },
  {
   "cell_type": "code",
   "execution_count": 20,
   "metadata": {},
   "outputs": [
    {
     "data": {
      "text/plain": [
       "array([ True,  True])"
      ]
     },
     "execution_count": 20,
     "metadata": {},
     "output_type": "execute_result"
    }
   ],
   "source": [
    "# Check if [3, 4] is a subvector of [1, 2, 3, 4]\n",
    "np.isin(b, c)"
   ]
  },
  {
   "cell_type": "code",
   "execution_count": 21,
   "metadata": {},
   "outputs": [
    {
     "data": {
      "text/plain": [
       "array(True)"
      ]
     },
     "execution_count": 21,
     "metadata": {},
     "output_type": "execute_result"
    }
   ],
   "source": [
    "# 1-vector containing 3 is also a subvector of [1, 2, 3, 4]\n",
    "np.isin(np.array(3), c)"
   ]
  },
  {
   "cell_type": "code",
   "execution_count": 22,
   "metadata": {},
   "outputs": [
    {
     "data": {
      "text/plain": [
       "array(True)"
      ]
     },
     "execution_count": 22,
     "metadata": {},
     "output_type": "execute_result"
    }
   ],
   "source": [
    "np.isin(3, c)"
   ]
  },
  {
   "cell_type": "code",
   "execution_count": 23,
   "metadata": {},
   "outputs": [
    {
     "data": {
      "text/plain": [
       "array([ True,  True])"
      ]
     },
     "execution_count": 23,
     "metadata": {},
     "output_type": "execute_result"
    }
   ],
   "source": [
    "# [2, 3]  is also a subvector of [1, 2, 3, 4]\n",
    "np.isin(np.array([2, 3]), c)"
   ]
  },
  {
   "cell_type": "markdown",
   "metadata": {},
   "source": [
    "### Indexing\n",
    "- Vector indexes, in mathematics, start at 1\n",
    "- In mathematical notation, for an $n$-vector, the index goes from $i=1$  to $i = n$\n",
    "- Vector indexes, in Python/numpy, start at 0\n",
    "- For Python indexing, indexes start at $i=0$ and go to $i=n-1$"
   ]
  },
  {
   "cell_type": "markdown",
   "metadata": {},
   "source": [
    "### Zero vectors\n",
    "- A zero vector is a vector with all elements equa to zero\n",
    "- Sometimes the 0 vector is denoted with $0_n$, where $n$ is the size.\n",
    "- Usually, a zero vector is denoted with just $0$ and the size is implied by that vector's context\n",
    "- If $a$ is a 9-vector and we're told that $a=0$ then the $0$ on the right hand side must be of size 9."
   ]
  },
  {
   "cell_type": "code",
   "execution_count": 24,
   "metadata": {},
   "outputs": [
    {
     "data": {
      "text/plain": [
       "array([ True,  True])"
      ]
     },
     "execution_count": 24,
     "metadata": {},
     "output_type": "execute_result"
    }
   ],
   "source": [
    "# Python/numpy compares each element, rather than the whole vector/array\n",
    "np.array([0, 0]) == 0"
   ]
  },
  {
   "cell_type": "code",
   "execution_count": 25,
   "metadata": {},
   "outputs": [
    {
     "data": {
      "text/plain": [
       "array([0., 0., 0., 0., 0., 0., 0., 0., 0.])"
      ]
     },
     "execution_count": 25,
     "metadata": {},
     "output_type": "execute_result"
    }
   ],
   "source": [
    "# Setup a zero vector of size 9\n",
    "np.zeros(9)"
   ]
  },
  {
   "cell_type": "code",
   "execution_count": 26,
   "metadata": {},
   "outputs": [
    {
     "data": {
      "text/plain": [
       "array([ True,  True,  True])"
      ]
     },
     "execution_count": 26,
     "metadata": {},
     "output_type": "execute_result"
    }
   ],
   "source": [
    "# We get a boolean array w/ == \n",
    "a = np.array([0, 0, 0])\n",
    "a == 0"
   ]
  },
  {
   "cell_type": "code",
   "execution_count": 27,
   "metadata": {},
   "outputs": [
    {
     "data": {
      "text/plain": [
       "array([ True,  True,  True])"
      ]
     },
     "execution_count": 27,
     "metadata": {},
     "output_type": "execute_result"
    }
   ],
   "source": [
    "# We get a boolean array when using .equal\n",
    "a = np.array([0, 0, 0])\n",
    "np.equal(a, 0)"
   ]
  },
  {
   "cell_type": "code",
   "execution_count": 28,
   "metadata": {},
   "outputs": [
    {
     "data": {
      "text/plain": [
       "False"
      ]
     },
     "execution_count": 28,
     "metadata": {},
     "output_type": "execute_result"
    }
   ],
   "source": [
    "# The mathematical notation here breaks down w/ Python\n",
    "np.array_equal(a, 0)"
   ]
  },
  {
   "cell_type": "code",
   "execution_count": 29,
   "metadata": {},
   "outputs": [
    {
     "data": {
      "text/plain": [
       "True"
      ]
     },
     "execution_count": 29,
     "metadata": {},
     "output_type": "execute_result"
    }
   ],
   "source": [
    "# Comparing the numpy array of zeros to the python list of zeros returns true\n",
    "np.array_equal(a, [0, 0, 0])"
   ]
  },
  {
   "cell_type": "code",
   "execution_count": 30,
   "metadata": {},
   "outputs": [
    {
     "data": {
      "text/plain": [
       "array([0., 0., 0., 0., 0., 0., 0., 0., 0., 0.])"
      ]
     },
     "execution_count": 30,
     "metadata": {},
     "output_type": "execute_result"
    }
   ],
   "source": [
    "np.zeros(10)"
   ]
  },
  {
   "cell_type": "markdown",
   "metadata": {},
   "source": [
    "## Ones Vector\n",
    "- All the members are 1\n",
    "- The vector 1 is sometimes called the ones vector.\n"
   ]
  },
  {
   "cell_type": "code",
   "execution_count": 31,
   "metadata": {},
   "outputs": [
    {
     "data": {
      "text/plain": [
       "array([1., 1., 1., 1., 1., 1., 1., 1., 1., 1., 1., 1.])"
      ]
     },
     "execution_count": 31,
     "metadata": {},
     "output_type": "execute_result"
    }
   ],
   "source": [
    "np.ones(12)"
   ]
  },
  {
   "cell_type": "code",
   "execution_count": 32,
   "metadata": {},
   "outputs": [
    {
     "data": {
      "text/plain": [
       "array([1., 1.])"
      ]
     },
     "execution_count": 32,
     "metadata": {},
     "output_type": "execute_result"
    }
   ],
   "source": [
    "np.ones(2)"
   ]
  },
  {
   "cell_type": "markdown",
   "metadata": {},
   "source": [
    "### Unit Vectors\n",
    "- A vector will all elements zero except for one\n",
    "- The $i$th unit-vector of size $n$ is the unit vector with $i$th element as its one value\n",
    "- This is denoted $e_i$\n",
    "- That means that the subscript number is the index of the value that holds the value of $1$"
   ]
  },
  {
   "cell_type": "code",
   "execution_count": 33,
   "metadata": {},
   "outputs": [],
   "source": [
    "e1 = np.array([1, 0, 0])\n",
    "e2 = np.array([0, 1, 0])\n",
    "e3 = np.array([0, 0, 1])\n",
    "e4 = np.array([0, 0, 0, 1])"
   ]
  },
  {
   "cell_type": "markdown",
   "metadata": {},
   "source": [
    "## Sparsity\n",
    "- a vector is *sparse* if many of its entries are zero\n",
    "- A zeros vector is the most sparse vector possible\n",
    "- Unit vectors are sparese, since there's only one non-zero entry\n",
    "- **nnz(x)** is a function of that tells us the number of non-zeros in a vector\n",
    "- Sparse vectors arise in many applications"
   ]
  },
  {
   "cell_type": "code",
   "execution_count": 34,
   "metadata": {},
   "outputs": [
    {
     "name": "stdout",
     "output_type": "stream",
     "text": [
      "[False  True  True  True  True False False  True]\n"
     ]
    },
    {
     "data": {
      "text/plain": [
       "5"
      ]
     },
     "execution_count": 34,
     "metadata": {},
     "output_type": "execute_result"
    }
   ],
   "source": [
    "# Let's manually count non-zeros in a numpy array\n",
    "a = np.array([0, 1, 2, 3, 4, 0, 0, 5])\n",
    "print(a != 0) # print out the boolean array of values that match\n",
    "\n",
    "# create a variable to hold the array of booleans\n",
    "non_zeros = a != 0\n",
    "\n",
    "non_zeros.sum() # sum up all the non-zeros"
   ]
  },
  {
   "cell_type": "code",
   "execution_count": 35,
   "metadata": {},
   "outputs": [
    {
     "data": {
      "text/plain": [
       "5"
      ]
     },
     "execution_count": 35,
     "metadata": {},
     "output_type": "execute_result"
    }
   ],
   "source": [
    "# one step function to count the number of non-zeros\n",
    "a = np.array([0, 1, 2, 3, 4, 0, 0, 5])\n",
    "np.count_nonzero(a)"
   ]
  },
  {
   "cell_type": "code",
   "execution_count": 36,
   "metadata": {},
   "outputs": [
    {
     "data": {
      "text/plain": [
       "0"
      ]
     },
     "execution_count": 36,
     "metadata": {},
     "output_type": "execute_result"
    }
   ],
   "source": [
    "b = np.zeros(10)\n",
    "np.count_nonzero(b)"
   ]
  },
  {
   "cell_type": "code",
   "execution_count": 37,
   "metadata": {},
   "outputs": [
    {
     "data": {
      "text/plain": [
       "10"
      ]
     },
     "execution_count": 37,
     "metadata": {},
     "output_type": "execute_result"
    }
   ],
   "source": [
    "c = np.ones(10)\n",
    "np.count_nonzero(c)"
   ]
  },
  {
   "cell_type": "markdown",
   "metadata": {},
   "source": [
    "# Examples of Vectors"
   ]
  },
  {
   "cell_type": "markdown",
   "metadata": {},
   "source": [
    "- location \n",
    "- displacement\n",
    "- color\n",
    "- quantities\n",
    "- values across a population\n",
    "- proportions\n",
    "- time series\n",
    "- daily return\n",
    "- cash flow\n",
    "- images\n",
    "- video\n",
    "- word counts\n",
    "- customer purchases\n",
    "- occurence or subsets\n",
    "- features or attributes\n",
    "- vector entry labels"
   ]
  },
  {
   "cell_type": "code",
   "execution_count": 38,
   "metadata": {},
   "outputs": [
    {
     "data": {
      "text/plain": [
       "\"San Antonio's location is [29.4241 98.4936]\""
      ]
     },
     "execution_count": 38,
     "metadata": {},
     "output_type": "execute_result"
    }
   ],
   "source": [
    "# location \n",
    "latitude = 29.4241\n",
    "longitude = 98.4936\n",
    "san_antonio = np.array([latitude, longitude])\n",
    "f\"San Antonio's location is {san_antonio}\""
   ]
  },
  {
   "cell_type": "code",
   "execution_count": 47,
   "metadata": {},
   "outputs": [
    {
     "data": {
      "text/plain": [
       "'A fridge has the following displacements [36 30 70]'"
      ]
     },
     "execution_count": 47,
     "metadata": {},
     "output_type": "execute_result"
    }
   ],
   "source": [
    "# displacement\n",
    "height = 70\n",
    "depth = 30\n",
    "width = 36\n",
    "appliance_displacement = np.array([width, depth, height])\n",
    "f\"A fridge has the following displacements {appliance_displacement}\""
   ]
  },
  {
   "cell_type": "code",
   "execution_count": 49,
   "metadata": {},
   "outputs": [
    {
     "name": "stdout",
     "output_type": "stream",
     "text": [
      "There is no red, no green, and pure solid blue.\n"
     ]
    },
    {
     "data": {
      "text/plain": [
       "array([0. , 0. , 0.1])"
      ]
     },
     "execution_count": 49,
     "metadata": {},
     "output_type": "execute_result"
    }
   ],
   "source": [
    "red = 0\n",
    "green = 0\n",
    "blue = 0.1\n",
    "print(\"There is no red, no green, and pure solid blue.\")\n",
    "np.array([red, green, blue])"
   ]
  },
  {
   "cell_type": "code",
   "execution_count": 80,
   "metadata": {},
   "outputs": [
    {
     "name": "stdout",
     "output_type": "stream",
     "text": [
      "('mashed avocados', 7)\n",
      "('chopped onions', 2)\n",
      "('chilis', 2)\n",
      "('juiced limes', 5)\n"
     ]
    }
   ],
   "source": [
    "# Quantities\n",
    "# An n-vector can represent the amounts or quantities of n different resources\n",
    "\n",
    "labels = np.array([\"mashed avocados\", \"chopped onions\", \"chilis\", \"juiced limes\"])\n",
    "guacamole_bill_of_materials = np.array([7, 2, 2, 5])\n",
    "\n",
    "# print each label and amount at the same index\n",
    "for entry in zip(labels, guacamole_bill_of_materials):\n",
    "    print(entry)"
   ]
  },
  {
   "cell_type": "code",
   "execution_count": 79,
   "metadata": {},
   "outputs": [
    {
     "name": "stdout",
     "output_type": "stream",
     "text": [
      "SYMBOL | SHARES\n",
      "AAPL      5\n",
      "AMZN      10\n",
      "AMD      25\n",
      "KMI      10\n",
      "INTC      -50\n"
     ]
    }
   ],
   "source": [
    "# Portfolio\n",
    "# an n-vector can represent a stock portfolio or investment of n different assets\n",
    "labels = np.array([\"AAPL\", \"AMZN\", \"AMD\", \"KMI\", \"INTC\"])\n",
    "holdings = np.array([5, 10, 25, 10, -50])\n",
    "\n",
    "print(\"SYMBOL | SHARES\")\n",
    "for i, label in enumerate(labels):\n",
    "    print(f\"{label}      {holdings[i]}\")"
   ]
  },
  {
   "cell_type": "code",
   "execution_count": 83,
   "metadata": {},
   "outputs": [
    {
     "name": "stdout",
     "output_type": "stream",
     "text": [
      "The proporition of heads to tails on a fair con is the vector [0.5 0.5]\n"
     ]
    }
   ],
   "source": [
    "# Proportions\n",
    "chances = np.array([0.5, 0.5])\n",
    "print(f\"The proporition of heads to tails on a fair con is the vector {chances}\")"
   ]
  },
  {
   "cell_type": "code",
   "execution_count": 91,
   "metadata": {},
   "outputs": [
    {
     "name": "stdout",
     "output_type": "stream",
     "text": [
      "Number of observations 24\n",
      "[100  98  97  98  91  90  89 103  88  93 102  89  98  93 102  94  90  95\n",
      " 104  98 100  93  89  97]\n"
     ]
    }
   ],
   "source": [
    "# Time Series\n",
    "temperatures_in_san_antonio = np.random.randint(86, 105, 24)\n",
    "print(\"Number of observations\", temperatures_in_san_antonio.size)\n",
    "print(temperatures_in_san_antonio)"
   ]
  },
  {
   "cell_type": "code",
   "execution_count": 94,
   "metadata": {},
   "outputs": [
    {
     "data": {
      "text/plain": [
       "365.0"
      ]
     },
     "execution_count": 94,
     "metadata": {},
     "output_type": "execute_result"
    }
   ],
   "source": [
    "# Daily Return\n",
    "dollar_a_day_for_a_year = np.ones(365)\n",
    "dollar_a_day_for_a_year.sum()"
   ]
  },
  {
   "cell_type": "code",
   "execution_count": 101,
   "metadata": {},
   "outputs": [
    {
     "name": "stdout",
     "output_type": "stream",
     "text": [
      "$1 growing with compound 1% return for a year is $3678.0\n"
     ]
    }
   ],
   "source": [
    "# Daily return\n",
    "# 1% compounding growth per day for a year\n",
    "one_percent_compounding = [1.01 ** x for x in range(365)]\n",
    "\n",
    "# Convert the Python list into a numpy array\n",
    "one_percent_compounding = np.array(one_percent_compounding)\n",
    "\n",
    "# Sum the results and round.\n",
    "annual_return = one_percent_compounding.sum().round()\n",
    "print(f\"$1 growing with compound 1% return for a year is ${annual_return}\")"
   ]
  },
  {
   "cell_type": "code",
   "execution_count": 119,
   "metadata": {},
   "outputs": [
    {
     "name": "stdout",
     "output_type": "stream",
     "text": [
      "Notice how the elements that are zero correspond with the white in the image in the next cell\n"
     ]
    },
    {
     "data": {
      "text/plain": [
       "array([[ 0.,  0.,  5., 13.,  9.,  1.,  0.,  0.],\n",
       "       [ 0.,  0., 13., 15., 10., 15.,  5.,  0.],\n",
       "       [ 0.,  3., 15.,  2.,  0., 11.,  8.,  0.],\n",
       "       [ 0.,  4., 12.,  0.,  0.,  8.,  8.,  0.],\n",
       "       [ 0.,  5.,  8.,  0.,  0.,  9.,  8.,  0.],\n",
       "       [ 0.,  4., 11.,  0.,  1., 12.,  7.,  0.],\n",
       "       [ 0.,  2., 14.,  5., 10., 12.,  0.,  0.],\n",
       "       [ 0.,  0.,  6., 13., 10.,  0.,  0.,  0.]])"
      ]
     },
     "execution_count": 119,
     "metadata": {},
     "output_type": "execute_result"
    }
   ],
   "source": [
    "# An 8 pixel by 8 pixel grayscale image \n",
    "from sklearn import datasets\n",
    "import matplotlib.pyplot as plt\n",
    "\n",
    "#Load the digits dataset\n",
    "digits = datasets.load_digits()\n",
    "\n",
    "digit = digits.images[0]\n",
    "print(\"Notice how the elements that are zero correspond with the white in the image in the next cell\")\n",
    "digit"
   ]
  },
  {
   "cell_type": "code",
   "execution_count": 118,
   "metadata": {},
   "outputs": [
    {
     "data": {
      "image/png": "[encoded data removed]",
      "text/plain": [
       "<Figure size 216x216 with 1 Axes>"
      ]
     },
     "metadata": {
      "needs_background": "light"
     },
     "output_type": "display_data"
    }
   ],
   "source": [
    "# Display the digit for Zero.\n",
    "# Notice that darker pixels correspond to higher value numbers above.\n",
    "plt.figure(1, figsize=(3, 3))\n",
    "plt.imshow(digit, cmap=plt.cm.gray_r)\n",
    "plt.show()"
   ]
  },
  {
   "cell_type": "code",
   "execution_count": 10,
   "metadata": {},
   "outputs": [
    {
     "name": "stdout",
     "output_type": "stream",
     "text": [
      "           profit_per_item  units_sold\n",
      "popcorn                  2         100\n",
      "diet coke                3          20\n"
     ]
    },
    {
     "data": {
      "text/plain": [
       "True"
      ]
     },
     "execution_count": 10,
     "metadata": {},
     "output_type": "execute_result"
    }
   ],
   "source": [
    "import pandas as pd \n",
    "\n",
    "df = pd.DataFrame()\n",
    "df[\"profit_per_item\"] = [2, 3]\n",
    "df[\"units_sold\"] = [100, 20]\n",
    "df.index = [\"popcorn\", \"diet coke\"]\n",
    "print(df)\n",
    "\n",
    "df.units_sold.dot(df.profit_per_item) == (df.units_sold * df.profit_per_item).sum()"
   ]
  },
  {
   "cell_type": "code",
   "execution_count": null,
   "metadata": {},
   "outputs": [],
   "source": []
  }
 ],
 "metadata": {
  "kernelspec": {
   "display_name": "Python 3",
   "language": "python",
   "name": "python3"
  },
  "language_info": {
   "codemirror_mode": {
    "name": "ipython",
    "version": 3
   },
   "file_extension": ".py",
   "mimetype": "text/x-python",
   "name": "python",
   "nbconvert_exporter": "python",
   "pygments_lexer": "ipython3",
   "version": "3.7.3"
  }
 },
 "nbformat": 4,
 "nbformat_minor": 4
}
