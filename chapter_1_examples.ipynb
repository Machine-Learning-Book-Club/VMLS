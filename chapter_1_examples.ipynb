{
 "cells": [
  {
   "cell_type": "code",
   "execution_count": 16,
   "metadata": {},
   "outputs": [],
   "source": [
    "import numpy as np\n",
    "import pandas as pd"
   ]
  },
  {
   "cell_type": "code",
   "execution_count": 25,
   "metadata": {},
   "outputs": [
    {
     "data": {
      "text/plain": [
       "array([4, 5])"
      ]
     },
     "execution_count": 25,
     "metadata": {},
     "output_type": "execute_result"
    }
   ],
   "source": [
    "# Subvectors\n",
    "a = np.array([4, 5, 6])\n",
    "\n",
    "start = 0 # python is zero indexed\n",
    "end = 2 # up to but not including this index\n",
    "\n",
    "a[start:end]"
   ]
  },
  {
   "cell_type": "code",
   "execution_count": 33,
   "metadata": {},
   "outputs": [
    {
     "name": "stdout",
     "output_type": "stream",
     "text": [
      "5\n",
      "6\n",
      "7\n"
     ]
    }
   ],
   "source": [
    "# Unit Vectors \"Pick out\" values with a dot product\n",
    "a = np.array([5, 6, 7])\n",
    "\n",
    "e1 = np.array([1, 0, 0])\n",
    "e2 = np.array([0, 1, 0])\n",
    "e3 = np.array([0, 0, 1])\n",
    "\n",
    "# Unit vectors\n",
    "print(a.dot(e1))\n",
    "print(a.dot(e2))\n",
    "print(a.dot(e3))"
   ]
  },
  {
   "cell_type": "markdown",
   "metadata": {},
   "source": [
    "## Associativity With Block/Stacked Vectors\n",
    "\n",
    "## $((a, b), c) = (a, (b, c))$"
   ]
  },
  {
   "cell_type": "code",
   "execution_count": 71,
   "metadata": {},
   "outputs": [],
   "source": [
    "# Block/Stack vectors (which are concatenations) seem to have an associative property\n",
    "# Meaning that the association doesn't seem to matter\n",
    "\n",
    "# Here's a \"proof\" of concept\n",
    "random_int = np.random.randint(1, 100)\n",
    "\n",
    "# is a vector of random size\n",
    "a = np.random.randint(1, 100, size=random_int)\n",
    "\n",
    "random_int = np.random.randint(1, 100)\n",
    "b = np.random.randint(1, 100, size=random_int)\n",
    "\n",
    "random_int = np.random.randint(1, 100)\n",
    "c = np.random.randint(1, 100, size=random_int)"
   ]
  },
  {
   "cell_type": "code",
   "execution_count": 73,
   "metadata": {},
   "outputs": [
    {
     "name": "stdout",
     "output_type": "stream",
     "text": [
      "((a, b), c) = (a, (b, c))\n"
     ]
    },
    {
     "data": {
      "text/plain": [
       "True"
      ]
     },
     "execution_count": 73,
     "metadata": {},
     "output_type": "execute_result"
    }
   ],
   "source": [
    "print(\"((a, b), c) = (a, (b, c))\")\n",
    "inner = np.concatenate((a, b))\n",
    "left_side = np.concatenate((inner, c))\n",
    "\n",
    "inner = np.concatenate((b, c))\n",
    "right_side = np.concatenate((a, inner))\n",
    "\n",
    "np.array_equal(left_side, right_side)"
   ]
  },
  {
   "cell_type": "markdown",
   "metadata": {},
   "source": [
    "## Another Proof\n",
    "- ### $(a, b, c)$  equals all of the following associative permutations:\n",
    "- ### $(a, (b, c))$\n",
    "- ### $((a, b), c)$"
   ]
  },
  {
   "cell_type": "code",
   "execution_count": 80,
   "metadata": {},
   "outputs": [],
   "source": [
    "# (𝑎,𝑏,𝑐) is \"first\"\n",
    "first = np.concatenate((a, b, c))"
   ]
  },
  {
   "cell_type": "code",
   "execution_count": null,
   "metadata": {},
   "outputs": [],
   "source": [
    "# (𝑎,(𝑏,𝑐))  is \"second\"\n",
    "inner = np.concatenate((b, c))\n",
    "second = np.concatenate((a, inner))"
   ]
  },
  {
   "cell_type": "code",
   "execution_count": 81,
   "metadata": {},
   "outputs": [],
   "source": [
    "# ((𝑎,𝑏),𝑐) is \"third\"\n",
    "inner = np.concatenate((a, b))\n",
    "third = np.concatenate((inner, c))"
   ]
  },
  {
   "cell_type": "code",
   "execution_count": 82,
   "metadata": {},
   "outputs": [
    {
     "data": {
      "text/plain": [
       "True"
      ]
     },
     "execution_count": 82,
     "metadata": {},
     "output_type": "execute_result"
    }
   ],
   "source": [
    "np.array_equal(first, second)"
   ]
  },
  {
   "cell_type": "code",
   "execution_count": 83,
   "metadata": {},
   "outputs": [
    {
     "data": {
      "text/plain": [
       "True"
      ]
     },
     "execution_count": 83,
     "metadata": {},
     "output_type": "execute_result"
    }
   ],
   "source": [
    "np.array_equal(first, third)"
   ]
  },
  {
   "cell_type": "code",
   "execution_count": null,
   "metadata": {},
   "outputs": [],
   "source": []
  }
 ],
 "metadata": {
  "kernelspec": {
   "display_name": "Python 3",
   "language": "python",
   "name": "python3"
  },
  "language_info": {
   "codemirror_mode": {
    "name": "ipython",
    "version": 3
   },
   "file_extension": ".py",
   "mimetype": "text/x-python",
   "name": "python",
   "nbconvert_exporter": "python",
   "pygments_lexer": "ipython3",
   "version": "3.7.3"
  }
 },
 "nbformat": 4,
 "nbformat_minor": 4
}
