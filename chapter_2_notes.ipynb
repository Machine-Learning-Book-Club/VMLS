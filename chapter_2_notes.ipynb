{
 "cells": [
  {
   "cell_type": "markdown",
   "metadata": {},
   "source": [
    "# Chapter 2 - Linear Functions"
   ]
  },
  {
   "cell_type": "markdown",
   "metadata": {},
   "source": [
    "Function notation:\n",
    "\n",
    "$f: R^n \\rightarrow R$\n",
    "\n",
    "or\n",
    "\n",
    "$f: \\mathbb{R}^n \\rightarrow \\mathbb{R}$\n",
    "\n",
    "or\n",
    "\n",
    "$f(x) = f(x_1, x_2, ... x_n)$\n",
    "\n",
    "- The $n$ exponent notation denotes the size of the vector input argument\n",
    "- For example $f: R^3 \\rightarrow R$ means the input vector is of size 3, and the output is a single number\n",
    "- Many functions are not given by formulas or equations (usually context)\n"
   ]
  },
  {
   "cell_type": "markdown",
   "metadata": {},
   "source": [
    "## Inner Product Function\n",
    "\n",
    "We define a scalar-valued function $f$ of $n$ vectors by:\n",
    "\n",
    "$f(x) = \\alpha^Tx = a_1x_1 + a_2x_2 + ... + a_nx_n$\n",
    "\n",
    "- Where $a$ is an $n$-vector\n",
    "- And $x$ is the $n$-vector argument.\n",
    "- We can think of $f$ as forming a weighted sum of the elements of $x$\n",
    "- The elements of $a$ give the weights used in forming the weighted sum"
   ]
  },
  {
   "cell_type": "markdown",
   "metadata": {},
   "source": [
    "## Superposition and linearity\n",
    "- The inner product function $f$ satisfies the superposition property\n",
    "\n",
    "$f(\\alpha x + \\beta y) = a^T(\\alpha x + \\beta y)$ \n",
    "\n",
    "$ = a^T(\\alpha x) + a^T(\\beta y)$\n",
    "\n",
    "$ = \\alpha(a^Tx) + \\beta(a^Ty)$\n",
    "\n",
    "$ = \\alpha f(x) + \\beta f(y)$\n",
    "\n"
   ]
  },
  {
   "cell_type": "code",
   "execution_count": null,
   "metadata": {},
   "outputs": [],
   "source": []
  }
 ],
 "metadata": {
  "kernelspec": {
   "display_name": "Python 3",
   "language": "python",
   "name": "python3"
  },
  "language_info": {
   "codemirror_mode": {
    "name": "ipython",
    "version": 3
   },
   "file_extension": ".py",
   "mimetype": "text/x-python",
   "name": "python",
   "nbconvert_exporter": "python",
   "pygments_lexer": "ipython3",
   "version": "3.7.3"
  }
 },
 "nbformat": 4,
 "nbformat_minor": 4
}
