{
 "cells": [
  {
   "cell_type": "markdown",
   "metadata": {},
   "source": [
    "# Chapter 2 - Linear Functions"
   ]
  },
  {
   "cell_type": "markdown",
   "metadata": {},
   "source": [
    "Function notation:\n",
    "\n",
    "$f: R^n \\rightarrow R$\n",
    "\n",
    "or\n",
    "\n",
    "$f(x) = f(x_1, x_2, ... x_n)$\n",
    "\n",
    "- The $n$ exponent notation denotes the size of the vector input argument\n",
    "- For example $f: R^3 \\rightarrow R$ means the input vector is of size 3, and the output is a single number\n",
    "- Many functions are not given by formulas or equations (usually context)\n"
   ]
  },
  {
   "cell_type": "markdown",
   "metadata": {},
   "source": [
    "## Inner Product Function\n",
    "\n",
    "We define a scalar-valued function $f$ of $n$ vectors by:\n",
    "\n",
    "$f(x) = \\alpha^Tx = a_1x_1 + a_2x_2 + ... + a_nx_n$\n",
    "\n",
    "- Where $a$ is an $n$-vector\n",
    "- And $x$ is the $n$-vector argument.\n",
    "- We can think of $f$ as forming a weighted sum of the elements of $x$\n",
    "- The elements of $a$ give the weights used in forming the weighted sum"
   ]
  },
  {
   "cell_type": "markdown",
   "metadata": {},
   "source": [
    "## Superposition and linearity\n",
    "- The inner product function $f$ satisfies the superposition property\n",
    "\n",
    "$f(\\alpha x + \\beta y) = a^T(\\alpha x + \\beta y)$ \n",
    "\n",
    "$ = a^T(\\alpha x) + a^T(\\beta y)$\n",
    "\n",
    "$ = \\alpha(a^Tx) + \\beta(a^Ty)$\n",
    "\n",
    "$ = \\alpha f(x) + \\beta f(y)$\n",
    "\n"
   ]
  },
  {
   "cell_type": "markdown",
   "metadata": {},
   "source": [
    "### Superposition Equality\n",
    "$f(\\alpha x + \\beta y) = \\alpha f(x) + \\beta f(y)$\n",
    "\n",
    "- Left side involves scalar-vector multiplication and vector addition\n",
    "- Right side involves scalar multiplication and scalar addition"
   ]
  },
  {
   "cell_type": "markdown",
   "metadata": {},
   "source": [
    "### Superposition equality is broken down into two properties\n",
    "- Homogeneity: $f(\\alpha x) = \\alpha f(x)$, scaling a vector arguments is the same as scaling the function value\n",
    "- Additivity: $f(x + y) = f(x) + f(x)$, adding vector arguments is the same as adding the function values"
   ]
  },
  {
   "cell_type": "code",
   "execution_count": 99,
   "metadata": {},
   "outputs": [],
   "source": [
    "import numpy as np\n",
    "\n",
    "x = np.arange(10)"
   ]
  },
  {
   "cell_type": "code",
   "execution_count": 100,
   "metadata": {},
   "outputs": [],
   "source": [
    "def f(x):\n",
    "    np.random.seed(2)\n",
    "    some_weights = np.random.randn(10)\n",
    "    return np.inner(x, some_weights)"
   ]
  },
  {
   "cell_type": "code",
   "execution_count": 101,
   "metadata": {},
   "outputs": [
    {
     "name": "stdout",
     "output_type": "stream",
     "text": [
      "-4141.8425188689325 -4141.8425188689325\n"
     ]
    },
    {
     "data": {
      "text/plain": [
       "True"
      ]
     },
     "execution_count": 101,
     "metadata": {},
     "output_type": "execute_result"
    }
   ],
   "source": [
    "# Proof of Homogeneity\n",
    "alpha = np.random.randint(1, 200)\n",
    "\n",
    "left_side = f(x * alpha)\n",
    "right_side = alpha * f(x)\n",
    "\n",
    "print(left_side, right_side)\n",
    "\n",
    "left_side == right_side"
   ]
  },
  {
   "cell_type": "code",
   "execution_count": 102,
   "metadata": {},
   "outputs": [
    {
     "name": "stdout",
     "output_type": "stream",
     "text": [
      "-66.26948030190292 -66.26948030190292\n"
     ]
    }
   ],
   "source": [
    "# Proof of Additivity\n",
    "left_side = f(x + x)\n",
    "right_side = f(x) + f(x)\n",
    "\n",
    "print(left_side, right_side)\n"
   ]
  },
  {
   "cell_type": "code",
   "execution_count": null,
   "metadata": {},
   "outputs": [],
   "source": []
  }
 ],
 "metadata": {
  "kernelspec": {
   "display_name": "Python 3",
   "language": "python",
   "name": "python3"
  },
  "language_info": {
   "codemirror_mode": {
    "name": "ipython",
    "version": 3
   },
   "file_extension": ".py",
   "mimetype": "text/x-python",
   "name": "python",
   "nbconvert_exporter": "python",
   "pygments_lexer": "ipython3",
   "version": "3.7.3"
  }
 },
 "nbformat": 4,
 "nbformat_minor": 4
}
