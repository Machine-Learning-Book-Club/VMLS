{
 "cells": [
  {
   "cell_type": "markdown",
   "metadata": {},
   "source": [
    "# Julia Scratchpad for VMLS"
   ]
  },
  {
   "cell_type": "code",
   "execution_count": 1,
   "metadata": {},
   "outputs": [],
   "source": [
    "# Already Installed the appropriate libraries"
   ]
  },
  {
   "cell_type": "code",
   "execution_count": 2,
   "metadata": {},
   "outputs": [],
   "source": [
    "using LinearAlgebra, SparseArrays, VMLS, Plots"
   ]
  },
  {
   "cell_type": "code",
   "execution_count": 3,
   "metadata": {},
   "outputs": [
    {
     "data": {
      "text/plain": [
       "Array{Int64,1}"
      ]
     },
     "execution_count": 3,
     "metadata": {},
     "output_type": "execute_result"
    }
   ],
   "source": [
    "a = [1, 2, 3]\n",
    "typeof(a)"
   ]
  },
  {
   "cell_type": "code",
   "execution_count": 4,
   "metadata": {},
   "outputs": [
    {
     "data": {
      "text/plain": [
       "3"
      ]
     },
     "execution_count": 4,
     "metadata": {},
     "output_type": "execute_result"
    }
   ],
   "source": [
    "length(a)"
   ]
  },
  {
   "cell_type": "code",
   "execution_count": 5,
   "metadata": {},
   "outputs": [
    {
     "data": {
      "text/plain": [
       "length (generic function with 177 methods)"
      ]
     },
     "execution_count": 5,
     "metadata": {},
     "output_type": "execute_result"
    }
   ],
   "source": [
    "# Mini-Python API for utility, error-correction, and poka-yoke (see https://www.google.com/search?q=Poka-yoke)\n",
    "type = typeof\n",
    "len = length"
   ]
  },
  {
   "cell_type": "markdown",
   "metadata": {},
   "source": [
    "## Cuidado!\n",
    "- Always remember commas between elements in Julia (or we'll get something that's not a vector)\n",
    "- Always remember square brackets for vectors/arrays or we'll get tuples"
   ]
  },
  {
   "cell_type": "code",
   "execution_count": 6,
   "metadata": {},
   "outputs": [
    {
     "data": {
      "text/plain": [
       "5"
      ]
     },
     "execution_count": 6,
     "metadata": {},
     "output_type": "execute_result"
    }
   ],
   "source": [
    "# Julia indexing is 1-index\n",
    "a = [5, 6, 7, 8]\n",
    "a[1]"
   ]
  },
  {
   "cell_type": "code",
   "execution_count": 7,
   "metadata": {},
   "outputs": [
    {
     "data": {
      "text/plain": [
       "3-element Array{Int64,1}:\n",
       " 1\n",
       " 5\n",
       " 3"
      ]
     },
     "execution_count": 7,
     "metadata": {},
     "output_type": "execute_result"
    }
   ],
   "source": [
    "# Assignment vs. copying\n",
    "# It appears that Julia assignment works like referenes to objects...\n",
    "a = [1, 2, 3]\n",
    "b = a\n",
    "b[2] = 5\n",
    "a"
   ]
  },
  {
   "cell_type": "code",
   "execution_count": 8,
   "metadata": {},
   "outputs": [
    {
     "data": {
      "text/plain": [
       "3-element Array{Int64,1}:\n",
       " 1\n",
       " 2\n",
       " 3"
      ]
     },
     "execution_count": 8,
     "metadata": {},
     "output_type": "execute_result"
    }
   ],
   "source": [
    "# So if we want a copy, we'll need to make a copy\n",
    "a = [1, 2, 3]\n",
    "b = copy(a)\n",
    "b[2] = 5\n",
    "a"
   ]
  },
  {
   "cell_type": "code",
   "execution_count": 9,
   "metadata": {},
   "outputs": [
    {
     "data": {
      "text/plain": [
       "false"
      ]
     },
     "execution_count": 9,
     "metadata": {},
     "output_type": "execute_result"
    }
   ],
   "source": [
    "# Vector Equality\n",
    "a == b"
   ]
  },
  {
   "cell_type": "code",
   "execution_count": 10,
   "metadata": {},
   "outputs": [
    {
     "data": {
      "text/plain": [
       "true"
      ]
     },
     "execution_count": 10,
     "metadata": {},
     "output_type": "execute_result"
    }
   ],
   "source": [
    "a == [1, 2, 3]"
   ]
  },
  {
   "cell_type": "code",
   "execution_count": 11,
   "metadata": {},
   "outputs": [
    {
     "data": {
      "text/plain": [
       "false"
      ]
     },
     "execution_count": 11,
     "metadata": {},
     "output_type": "execute_result"
    }
   ],
   "source": [
    "# Julia doesn't treat 1-vectors as scalars or scalars as 1-vectors, unfortunately.\n",
    "# It would be nice to expand the functionality of the data types and operators to support this...\n",
    "1 == [1]"
   ]
  },
  {
   "cell_type": "code",
   "execution_count": 12,
   "metadata": {},
   "outputs": [
    {
     "data": {
      "text/plain": [
       "true"
      ]
     },
     "execution_count": 12,
     "metadata": {},
     "output_type": "execute_result"
    }
   ],
   "source": [
    "a = [3]\n",
    "3 == a[1]"
   ]
  },
  {
   "cell_type": "code",
   "execution_count": 13,
   "metadata": {},
   "outputs": [
    {
     "data": {
      "text/plain": [
       "6-element Array{Int64,1}:\n",
       " 1\n",
       " 2\n",
       " 3\n",
       " 4\n",
       " 5\n",
       " 6"
      ]
     },
     "execution_count": 13,
     "metadata": {},
     "output_type": "execute_result"
    }
   ],
   "source": [
    "# Blocked or stacked Vectors use the semicolon operator or the vcat vertical concatenation function\n",
    "x = [1, 2, 3]\n",
    "y = [4, 5, 6]\n",
    "z = [x; y]\n",
    "z"
   ]
  },
  {
   "cell_type": "code",
   "execution_count": 14,
   "metadata": {},
   "outputs": [
    {
     "data": {
      "text/plain": [
       "6-element Array{Int64,1}:\n",
       " 1\n",
       " 2\n",
       " 3\n",
       " 4\n",
       " 5\n",
       " 6"
      ]
     },
     "execution_count": 14,
     "metadata": {},
     "output_type": "execute_result"
    }
   ],
   "source": [
    "z = vcat(x, y)\n",
    "z"
   ]
  },
  {
   "cell_type": "code",
   "execution_count": 15,
   "metadata": {},
   "outputs": [
    {
     "data": {
      "text/plain": [
       "9-element Array{Float64,1}:\n",
       " 1.0\n",
       " 2.0\n",
       " 3.0\n",
       " 3.141\n",
       " 4.0\n",
       " 5.0\n",
       " 6.0\n",
       " 4.0\n",
       " 4.0"
      ]
     },
     "execution_count": 15,
     "metadata": {},
     "output_type": "execute_result"
    }
   ],
   "source": [
    "# As with the mathematical notation, we can concatenate/block/stack vectors with scalars\n",
    "z = [x; 3.141; y; [4, 4]]"
   ]
  },
  {
   "cell_type": "code",
   "execution_count": 16,
   "metadata": {},
   "outputs": [
    {
     "data": {
      "text/plain": [
       "3-element Array{Int64,1}:\n",
       " 5\n",
       " 6\n",
       " 7"
      ]
     },
     "execution_count": 16,
     "metadata": {},
     "output_type": "execute_result"
    }
   ],
   "source": [
    "# Subvectors and slicing\n",
    "# Slicing is inclusive of beginning and ending elements\n",
    "a = [5, 6, 7, 8]\n",
    "a[1:3]"
   ]
  },
  {
   "cell_type": "code",
   "execution_count": 17,
   "metadata": {},
   "outputs": [
    {
     "data": {
      "text/plain": [
       "4-element Array{Int64,1}:\n",
       " 2\n",
       " 2\n",
       " 2\n",
       " 8"
      ]
     },
     "execution_count": 17,
     "metadata": {},
     "output_type": "execute_result"
    }
   ],
   "source": [
    "# Reassign a slice\n",
    "a[1:3] = [2, 2, 2]\n",
    "a"
   ]
  },
  {
   "cell_type": "code",
   "execution_count": 18,
   "metadata": {},
   "outputs": [
    {
     "data": {
      "text/plain": [
       "true"
      ]
     },
     "execution_count": 18,
     "metadata": {},
     "output_type": "execute_result"
    }
   ],
   "source": [
    "1 in [1, 2, 3]"
   ]
  },
  {
   "cell_type": "code",
   "execution_count": 19,
   "metadata": {},
   "outputs": [
    {
     "data": {
      "text/plain": [
       "false"
      ]
     },
     "execution_count": 19,
     "metadata": {},
     "output_type": "execute_result"
    }
   ],
   "source": [
    "# this would be cooler if it were vectorized...\n",
    "[1, 2] in [2, 2, 3]"
   ]
  },
  {
   "cell_type": "code",
   "execution_count": 20,
   "metadata": {},
   "outputs": [
    {
     "data": {
      "text/plain": [
       "true"
      ]
     },
     "execution_count": 20,
     "metadata": {},
     "output_type": "execute_result"
    }
   ],
   "source": [
    "# The issubset function works\n",
    "issubset([1, 2], [1, 2, 3])"
   ]
  },
  {
   "cell_type": "code",
   "execution_count": 21,
   "metadata": {},
   "outputs": [
    {
     "data": {
      "text/plain": [
       "true"
      ]
     },
     "execution_count": 21,
     "metadata": {},
     "output_type": "execute_result"
    }
   ],
   "source": [
    "# Holy Guacamole!\n",
    "# Use the latex symbol \\subseteq and it works\n",
    "[1, 2] ⊆ [1, 2, 3]"
   ]
  },
  {
   "cell_type": "code",
   "execution_count": 22,
   "metadata": {},
   "outputs": [
    {
     "data": {
      "text/plain": [
       "12.566370614359172"
      ]
     },
     "execution_count": 22,
     "metadata": {},
     "output_type": "execute_result"
    }
   ],
   "source": [
    "π * 4"
   ]
  },
  {
   "cell_type": "code",
   "execution_count": 23,
   "metadata": {},
   "outputs": [
    {
     "data": {
      "text/plain": [
       "true"
      ]
     },
     "execution_count": 23,
     "metadata": {},
     "output_type": "execute_result"
    }
   ],
   "source": [
    "# The latex \\leq produces the correct operator and the correct operation!\n",
    "2 ≤ 3"
   ]
  },
  {
   "cell_type": "code",
   "execution_count": 24,
   "metadata": {},
   "outputs": [
    {
     "data": {
      "text/plain": [
       "true"
      ]
     },
     "execution_count": 24,
     "metadata": {},
     "output_type": "execute_result"
    }
   ],
   "source": [
    "# The latex \\in symbol is fully operational (for scalar membership)\n",
    "2 ∈ [1, 2, 3]"
   ]
  },
  {
   "cell_type": "code",
   "execution_count": 25,
   "metadata": {},
   "outputs": [
    {
     "data": {
      "text/plain": [
       "true"
      ]
     },
     "execution_count": 25,
     "metadata": {},
     "output_type": "execute_result"
    }
   ],
   "source": [
    "[1, 2] ∈ [[1, 2], 3]"
   ]
  },
  {
   "cell_type": "code",
   "execution_count": 26,
   "metadata": {},
   "outputs": [
    {
     "data": {
      "text/plain": [
       "false"
      ]
     },
     "execution_count": 26,
     "metadata": {},
     "output_type": "execute_result"
    }
   ],
   "source": [
    "[1] ∈ [1; 2; 3]"
   ]
  },
  {
   "cell_type": "code",
   "execution_count": 27,
   "metadata": {},
   "outputs": [
    {
     "data": {
      "text/plain": [
       "3-element Array{Int64,1}:\n",
       " 3\n",
       " 4\n",
       " 5"
      ]
     },
     "execution_count": 27,
     "metadata": {},
     "output_type": "execute_result"
    }
   ],
   "source": [
    "a = [1, 2, 3, 4, 5]\n",
    "\n",
    "# the end argument is right on target!\n",
    "a[3:end]"
   ]
  },
  {
   "cell_type": "code",
   "execution_count": 28,
   "metadata": {},
   "outputs": [
    {
     "data": {
      "text/plain": [
       "5"
      ]
     },
     "execution_count": 28,
     "metadata": {},
     "output_type": "execute_result"
    }
   ],
   "source": [
    "# End returns the last element of the array\n",
    "a[end]"
   ]
  },
  {
   "cell_type": "code",
   "execution_count": 29,
   "metadata": {},
   "outputs": [
    {
     "data": {
      "text/plain": [
       "4-element Array{Int64,1}:\n",
       " -1\n",
       "  0\n",
       " -2\n",
       "  4"
      ]
     },
     "execution_count": 29,
     "metadata": {},
     "output_type": "execute_result"
    }
   ],
   "source": [
    "x = [1, 0, 0, -2, 2]\n",
    "\n",
    "# Build a vector of differences using \"end\"\n",
    "# \"end-1\" needs the operator/operands right close together\n",
    "d = x[2:end] - x[1:end-1]"
   ]
  },
  {
   "cell_type": "code",
   "execution_count": 30,
   "metadata": {},
   "outputs": [
    {
     "data": {
      "text/plain": [
       "3-element Array{Array{Int64,1},1}:\n",
       " [1, 2, 3]\n",
       " [4, 5, 6]\n",
       " [7, 8, 9]"
      ]
     },
     "execution_count": 30,
     "metadata": {},
     "output_type": "execute_result"
    }
   ],
   "source": [
    "# Making lists of vectors in Julia\n",
    "a = [1, 2, 3]\n",
    "b = [4, 5, 6]\n",
    "c = [7, 8, 9]\n",
    "list = [a, b, c]"
   ]
  },
  {
   "cell_type": "code",
   "execution_count": 31,
   "metadata": {},
   "outputs": [
    {
     "data": {
      "text/plain": [
       "3-element Array{Int64,1}:\n",
       " 4\n",
       " 5\n",
       " 6"
      ]
     },
     "execution_count": 31,
     "metadata": {},
     "output_type": "execute_result"
    }
   ],
   "source": [
    "# second element of the list\n",
    "list[2]"
   ]
  },
  {
   "cell_type": "code",
   "execution_count": 32,
   "metadata": {},
   "outputs": [],
   "source": [
    "# NOTE the difference between the list [a, b, c] (which is an array of arrays) and the block vector [a; b; c]"
   ]
  },
  {
   "cell_type": "code",
   "execution_count": 33,
   "metadata": {},
   "outputs": [
    {
     "name": "stdout",
     "output_type": "stream",
     "text": [
      "d is[1, 2, 2, 3, 3, 4]\n",
      "e is[[1, 2], [2, 3], [3, 4]]\n"
     ]
    }
   ],
   "source": [
    "# list of vectors vs. concatednated vectors\n",
    "a = [1, 2]\n",
    "b = [2, 3]\n",
    "c = [3, 4]\n",
    "\n",
    "# block/stack/concatenated vectors\n",
    "d = [a; b; c]\n",
    "\n",
    "e = [a, b, c]\n",
    "\n",
    "println(\"d is\", d)\n",
    "println(\"e is\", e)"
   ]
  },
  {
   "cell_type": "code",
   "execution_count": 34,
   "metadata": {},
   "outputs": [
    {
     "data": {
      "text/plain": [
       "2-element Array{Float64,1}:\n",
       " 0.0\n",
       " 0.0"
      ]
     },
     "execution_count": 34,
     "metadata": {},
     "output_type": "execute_result"
    }
   ],
   "source": [
    "# Zero vectors\n",
    "zeros(2)"
   ]
  },
  {
   "cell_type": "code",
   "execution_count": 35,
   "metadata": {},
   "outputs": [
    {
     "data": {
      "text/plain": [
       "2-element Array{Float64,1}:\n",
       " 0.0\n",
       " 0.0"
      ]
     },
     "execution_count": 35,
     "metadata": {},
     "output_type": "execute_result"
    }
   ],
   "source": [
    "# Creates a vector of zeros the length of a\n",
    "zeros(length(a))"
   ]
  },
  {
   "cell_type": "code",
   "execution_count": 36,
   "metadata": {},
   "outputs": [
    {
     "data": {
      "text/plain": [
       "4-element Array{Float64,1}:\n",
       " 0.0\n",
       " 1.0\n",
       " 0.0\n",
       " 0.0"
      ]
     },
     "execution_count": 36,
     "metadata": {},
     "output_type": "execute_result"
    }
   ],
   "source": [
    "# Unit vectors\n",
    "i = 2; n = 4;\n",
    "\n",
    "ei = zeros(n)\n",
    "\n",
    "# Set the i-th element to 1\n",
    "ei[i] = 1 \n",
    "ei"
   ]
  },
  {
   "cell_type": "code",
   "execution_count": 37,
   "metadata": {},
   "outputs": [
    {
     "data": {
      "text/plain": [
       "unit_vector (generic function with 1 method)"
      ]
     },
     "execution_count": 37,
     "metadata": {},
     "output_type": "execute_result"
    }
   ],
   "source": [
    "function unit_vector(i, n)\n",
    "    return [zeros(i-1); i; [zeros(n-i)]]\n",
    "end"
   ]
  },
  {
   "cell_type": "code",
   "execution_count": 38,
   "metadata": {},
   "outputs": [
    {
     "data": {
      "text/plain": [
       "unit_vector (generic function with 1 method)"
      ]
     },
     "execution_count": 38,
     "metadata": {},
     "output_type": "execute_result"
    }
   ],
   "source": [
    "# Another way to create ei\n",
    "\n",
    "# This creates a funcion\n",
    "unit_vector(i, n) = [zeros(i-1); 1; zeros(n-i)]"
   ]
  },
  {
   "cell_type": "code",
   "execution_count": 39,
   "metadata": {},
   "outputs": [
    {
     "name": "stdout",
     "output_type": "stream",
     "text": [
      "e_i for 1 is [1.0, 0.0, 0.0]\n",
      "e_i for 2 is [0.0, 1.0, 0.0]\n",
      "e_i for 3 is [0.0, 0.0, 1.0]\n"
     ]
    }
   ],
   "source": [
    "println(\"e_i for 1 is \", unit_vector(1, 3))\n",
    "println(\"e_i for 2 is \", unit_vector(2, 3))\n",
    "println(\"e_i for 3 is \", unit_vector(3, 3))"
   ]
  },
  {
   "cell_type": "code",
   "execution_count": 40,
   "metadata": {},
   "outputs": [
    {
     "data": {
      "text/plain": [
       "2-element Array{Float64,1}:\n",
       " 1.0\n",
       " 1.0"
      ]
     },
     "execution_count": 40,
     "metadata": {},
     "output_type": "execute_result"
    }
   ],
   "source": [
    "# Ones vector\n",
    "ones(2)"
   ]
  },
  {
   "cell_type": "code",
   "execution_count": 41,
   "metadata": {},
   "outputs": [
    {
     "data": {
      "text/plain": [
       "3-element Array{Float64,1}:\n",
       " 0.14320610267510614\n",
       " 0.06367431871484874\n",
       " 0.7216466021087671"
      ]
     },
     "execution_count": 41,
     "metadata": {},
     "output_type": "execute_result"
    }
   ],
   "source": [
    "# rand is a function that makes a vector of random numbers between 0 and 1\n",
    "rand(3)"
   ]
  },
  {
   "cell_type": "code",
   "execution_count": 42,
   "metadata": {},
   "outputs": [
    {
     "data": {
      "text/plain": [
       "3-element Array{Float64,1}:\n",
       " 1.8653214103709095\n",
       " 2.306965127535671\n",
       " 1.8679320372391532"
      ]
     },
     "execution_count": 42,
     "metadata": {},
     "output_type": "execute_result"
    }
   ],
   "source": [
    "# randn generates random numbers with a Gaussian distribution\n",
    "randn(3)"
   ]
  },
  {
   "cell_type": "markdown",
   "metadata": {},
   "source": [
    "## Plotting with Plots.jl"
   ]
  },
  {
   "cell_type": "code",
   "execution_count": 43,
   "metadata": {},
   "outputs": [],
   "source": [
    "# import\n",
    "using Plots"
   ]
  },
  {
   "cell_type": "code",
   "execution_count": 44,
   "metadata": {},
   "outputs": [
    {
     "data": {
      "text/plain": [
       "20-element Array{Float64,1}:\n",
       " 24.764409548687585\n",
       " 38.706178924577074\n",
       " 29.323254039516886\n",
       " 59.58703730500544\n",
       " 47.817423732178845\n",
       " 22.79032547037435\n",
       " 54.96002944359694\n",
       " 57.93055029306629\n",
       " 63.90584839416567\n",
       " 74.8991392930482\n",
       "  7.8401391970073675\n",
       "  1.4737657952928451\n",
       " 77.48291711931957\n",
       " 46.25323359477831\n",
       " 78.05680690306366\n",
       " 34.630251444676375\n",
       " 34.199497601681955\n",
       " 23.036195792631027\n",
       " 61.948778315115725\n",
       " 61.623304604290766"
      ]
     },
     "execution_count": 44,
     "metadata": {},
     "output_type": "execute_result"
    }
   ],
   "source": [
    "temps = rand(20) * 80"
   ]
  },
  {
   "cell_type": "code",
   "execution_count": 45,
   "metadata": {},
   "outputs": [
    {
     "data": {
      "image/svg+xml": [
       "<?xml version=\"1.0\" encoding=\"utf-8\"?>\n",
       "<svg xmlns=\"http://www.w3.org/2000/svg\" xmlns:xlink=\"http://www.w3.org/1999/xlink\" width=\"600\" height=\"400\" viewBox=\"0 0 2400 1600\">\n",
       "<defs>\n",
       "  <clipPath id=\"clip710\">\n",
       "    <rect x=\"0\" y=\"0\" width=\"2400\" height=\"1600\"/>\n",
       "  </clipPath>\n",
       "</defs>\n",
       "<path clip-path=\"url(#clip710)\" d=\"\n",
       "M0 1600 L2400 1600 L2400 0 L0 0  Z\n",
       "  \" fill=\"#ffffff\" fill-rule=\"evenodd\" fill-opacity=\"1\"/>\n",
       "<defs>\n",
       "  <clipPath id=\"clip711\">\n",
       "    <rect x=\"480\" y=\"0\" width=\"1681\" height=\"1600\"/>\n",
       "  </clipPath>\n",
       "</defs>\n",
       "<path clip-path=\"url(#clip710)\" d=\"\n",
       "M139.191 1486.45 L2352.76 1486.45 L2352.76 123.472 L139.191 123.472  Z\n",
       "  \" fill=\"#ffffff\" fill-rule=\"evenodd\" fill-opacity=\"1\"/>\n",
       "<defs>\n",
       "  <clipPath id=\"clip712\">\n",
       "    <rect x=\"139\" y=\"123\" width=\"2215\" height=\"1364\"/>\n",
       "  </clipPath>\n",
       "</defs>\n",
       "<polyline clip-path=\"url(#clip710)\" style=\"stroke:#000000; stroke-width:4; stroke-opacity:1; fill:none\" points=\"\n",
       "  139.191,1486.45 2352.76,1486.45 \n",
       "  \"/>\n",
       "<polyline clip-path=\"url(#clip710)\" style=\"stroke:#000000; stroke-width:4; stroke-opacity:1; fill:none\" points=\"\n",
       "  139.191,1486.45 139.191,123.472 \n",
       "  \"/>\n",
       "<polyline clip-path=\"url(#clip710)\" style=\"stroke:#000000; stroke-width:4; stroke-opacity:1; fill:none\" points=\"\n",
       "  641.475,1486.45 641.475,1470.09 \n",
       "  \"/>\n",
       "<polyline clip-path=\"url(#clip710)\" style=\"stroke:#000000; stroke-width:4; stroke-opacity:1; fill:none\" points=\"\n",
       "  1191.02,1486.45 1191.02,1470.09 \n",
       "  \"/>\n",
       "<polyline clip-path=\"url(#clip710)\" style=\"stroke:#000000; stroke-width:4; stroke-opacity:1; fill:none\" points=\"\n",
       "  1740.56,1486.45 1740.56,1470.09 \n",
       "  \"/>\n",
       "<polyline clip-path=\"url(#clip710)\" style=\"stroke:#000000; stroke-width:4; stroke-opacity:1; fill:none\" points=\"\n",
       "  2290.11,1486.45 2290.11,1470.09 \n",
       "  \"/>\n",
       "<polyline clip-path=\"url(#clip710)\" style=\"stroke:#000000; stroke-width:4; stroke-opacity:1; fill:none\" points=\"\n",
       "  139.191,1472.62 165.754,1472.62 \n",
       "  \"/>\n",
       "<polyline clip-path=\"url(#clip710)\" style=\"stroke:#000000; stroke-width:4; stroke-opacity:1; fill:none\" points=\"\n",
       "  139.191,1136.82 165.754,1136.82 \n",
       "  \"/>\n",
       "<polyline clip-path=\"url(#clip710)\" style=\"stroke:#000000; stroke-width:4; stroke-opacity:1; fill:none\" points=\"\n",
       "  139.191,801.019 165.754,801.019 \n",
       "  \"/>\n",
       "<polyline clip-path=\"url(#clip710)\" style=\"stroke:#000000; stroke-width:4; stroke-opacity:1; fill:none\" points=\"\n",
       "  139.191,465.22 165.754,465.22 \n",
       "  \"/>\n",
       "<polyline clip-path=\"url(#clip710)\" style=\"stroke:#000000; stroke-width:4; stroke-opacity:1; fill:none\" points=\"\n",
       "  139.191,129.421 165.754,129.421 \n",
       "  \"/>\n",
       "<path clip-path=\"url(#clip710)\" d=\"M 0 0 M631.752 1505.36 L650.109 1505.36 L650.109 1509.3 L636.035 1509.3 L636.035 1517.77 Q637.053 1517.42 638.072 1517.26 Q639.09 1517.07 640.109 1517.07 Q645.896 1517.07 649.275 1520.24 Q652.655 1523.42 652.655 1528.83 Q652.655 1534.41 649.183 1537.51 Q645.711 1540.59 639.391 1540.59 Q637.215 1540.59 634.947 1540.22 Q632.701 1539.85 630.294 1539.11 L630.294 1534.41 Q632.377 1535.54 634.6 1536.1 Q636.822 1536.66 639.299 1536.66 Q643.303 1536.66 645.641 1534.55 Q647.979 1532.44 647.979 1528.83 Q647.979 1525.22 645.641 1523.11 Q643.303 1521.01 639.299 1521.01 Q637.424 1521.01 635.549 1521.42 Q633.697 1521.84 631.752 1522.72 L631.752 1505.36 Z\" fill=\"#000000\" fill-rule=\"evenodd\" fill-opacity=\"1\" /><path clip-path=\"url(#clip710)\" d=\"M 0 0 M1167.89 1535.98 L1175.53 1535.98 L1175.53 1509.62 L1167.22 1511.29 L1167.22 1507.03 L1175.49 1505.36 L1180.16 1505.36 L1180.16 1535.98 L1187.8 1535.98 L1187.8 1539.92 L1167.89 1539.92 L1167.89 1535.98 Z\" fill=\"#000000\" fill-rule=\"evenodd\" fill-opacity=\"1\" /><path clip-path=\"url(#clip710)\" d=\"M 0 0 M1202.87 1508.44 Q1199.26 1508.44 1197.43 1512 Q1195.63 1515.55 1195.63 1522.67 Q1195.63 1529.78 1197.43 1533.35 Q1199.26 1536.89 1202.87 1536.89 Q1206.5 1536.89 1208.31 1533.35 Q1210.14 1529.78 1210.14 1522.67 Q1210.14 1515.55 1208.31 1512 Q1206.5 1508.44 1202.87 1508.44 M1202.87 1504.73 Q1208.68 1504.73 1211.74 1509.34 Q1214.82 1513.92 1214.82 1522.67 Q1214.82 1531.4 1211.74 1536.01 Q1208.68 1540.59 1202.87 1540.59 Q1197.06 1540.59 1193.98 1536.01 Q1190.93 1531.4 1190.93 1522.67 Q1190.93 1513.92 1193.98 1509.34 Q1197.06 1504.73 1202.87 1504.73 Z\" fill=\"#000000\" fill-rule=\"evenodd\" fill-opacity=\"1\" /><path clip-path=\"url(#clip710)\" d=\"M 0 0 M1717.94 1535.98 L1725.58 1535.98 L1725.58 1509.62 L1717.26 1511.29 L1717.26 1507.03 L1725.53 1505.36 L1730.2 1505.36 L1730.2 1535.98 L1737.84 1535.98 L1737.84 1539.92 L1717.94 1539.92 L1717.94 1535.98 Z\" fill=\"#000000\" fill-rule=\"evenodd\" fill-opacity=\"1\" /><path clip-path=\"url(#clip710)\" d=\"M 0 0 M1742.96 1505.36 L1761.32 1505.36 L1761.32 1509.3 L1747.24 1509.3 L1747.24 1517.77 Q1748.26 1517.42 1749.28 1517.26 Q1750.3 1517.07 1751.32 1517.07 Q1757.1 1517.07 1760.48 1520.24 Q1763.86 1523.42 1763.86 1528.83 Q1763.86 1534.41 1760.39 1537.51 Q1756.92 1540.59 1750.6 1540.59 Q1748.42 1540.59 1746.15 1540.22 Q1743.91 1539.85 1741.5 1539.11 L1741.5 1534.41 Q1743.58 1535.54 1745.81 1536.1 Q1748.03 1536.66 1750.51 1536.66 Q1754.51 1536.66 1756.85 1534.55 Q1759.19 1532.44 1759.19 1528.83 Q1759.19 1525.22 1756.85 1523.11 Q1754.51 1521.01 1750.51 1521.01 Q1748.63 1521.01 1746.76 1521.42 Q1744.9 1521.84 1742.96 1522.72 L1742.96 1505.36 Z\" fill=\"#000000\" fill-rule=\"evenodd\" fill-opacity=\"1\" /><path clip-path=\"url(#clip710)\" d=\"M 0 0 M2271.25 1535.98 L2287.57 1535.98 L2287.57 1539.92 L2265.63 1539.92 L2265.63 1535.98 Q2268.29 1533.23 2272.87 1528.6 Q2277.48 1523.95 2278.66 1522.61 Q2280.91 1520.08 2281.79 1518.35 Q2282.69 1516.59 2282.69 1514.9 Q2282.69 1512.14 2280.74 1510.41 Q2278.82 1508.67 2275.72 1508.67 Q2273.52 1508.67 2271.07 1509.43 Q2268.64 1510.2 2265.86 1511.75 L2265.86 1507.03 Q2268.68 1505.89 2271.14 1505.31 Q2273.59 1504.73 2275.63 1504.73 Q2281 1504.73 2284.19 1507.42 Q2287.39 1510.11 2287.39 1514.6 Q2287.39 1516.73 2286.58 1518.65 Q2285.79 1520.54 2283.68 1523.14 Q2283.11 1523.81 2280 1527.03 Q2276.9 1530.22 2271.25 1535.98 Z\" fill=\"#000000\" fill-rule=\"evenodd\" fill-opacity=\"1\" /><path clip-path=\"url(#clip710)\" d=\"M 0 0 M2302.64 1508.44 Q2299.03 1508.44 2297.2 1512 Q2295.4 1515.55 2295.4 1522.67 Q2295.4 1529.78 2297.2 1533.35 Q2299.03 1536.89 2302.64 1536.89 Q2306.28 1536.89 2308.08 1533.35 Q2309.91 1529.78 2309.91 1522.67 Q2309.91 1515.55 2308.08 1512 Q2306.28 1508.44 2302.64 1508.44 M2302.64 1504.73 Q2308.45 1504.73 2311.51 1509.34 Q2314.59 1513.92 2314.59 1522.67 Q2314.59 1531.4 2311.51 1536.01 Q2308.45 1540.59 2302.64 1540.59 Q2296.83 1540.59 2293.75 1536.01 Q2290.7 1531.4 2290.7 1522.67 Q2290.7 1513.92 2293.75 1509.34 Q2296.83 1504.73 2302.64 1504.73 Z\" fill=\"#000000\" fill-rule=\"evenodd\" fill-opacity=\"1\" /><path clip-path=\"url(#clip710)\" d=\"M 0 0 M103.247 1458.42 Q99.6354 1458.42 97.8068 1461.98 Q96.0012 1465.52 96.0012 1472.65 Q96.0012 1479.76 97.8068 1483.32 Q99.6354 1486.87 103.247 1486.87 Q106.881 1486.87 108.686 1483.32 Q110.515 1479.76 110.515 1472.65 Q110.515 1465.52 108.686 1461.98 Q106.881 1458.42 103.247 1458.42 M103.247 1454.71 Q109.057 1454.71 112.112 1459.32 Q115.191 1463.9 115.191 1472.65 Q115.191 1481.38 112.112 1485.99 Q109.057 1490.57 103.247 1490.57 Q97.4364 1490.57 94.3577 1485.99 Q91.3022 1481.38 91.3022 1472.65 Q91.3022 1463.9 94.3577 1459.32 Q97.4364 1454.71 103.247 1454.71 Z\" fill=\"#000000\" fill-rule=\"evenodd\" fill-opacity=\"1\" /><path clip-path=\"url(#clip710)\" d=\"M 0 0 M71.8578 1150.16 L88.1772 1150.16 L88.1772 1154.1 L66.2328 1154.1 L66.2328 1150.16 Q68.8949 1147.41 73.4782 1142.78 Q78.0846 1138.13 79.2652 1136.78 Q81.5105 1134.26 82.3902 1132.52 Q83.2929 1130.77 83.2929 1129.08 Q83.2929 1126.32 81.3485 1124.58 Q79.4272 1122.85 76.3254 1122.85 Q74.1263 1122.85 71.6726 1123.61 Q69.2421 1124.38 66.4643 1125.93 L66.4643 1121.21 Q69.2884 1120.07 71.7421 1119.49 Q74.1958 1118.91 76.2328 1118.91 Q81.6031 1118.91 84.7976 1121.6 Q87.992 1124.28 87.992 1128.77 Q87.992 1130.9 87.1818 1132.83 Q86.3948 1134.72 84.2883 1137.32 Q83.7096 1137.99 80.6078 1141.2 Q77.5059 1144.4 71.8578 1150.16 Z\" fill=\"#000000\" fill-rule=\"evenodd\" fill-opacity=\"1\" /><path clip-path=\"url(#clip710)\" d=\"M 0 0 M103.247 1122.62 Q99.6354 1122.62 97.8068 1126.18 Q96.0012 1129.72 96.0012 1136.85 Q96.0012 1143.96 97.8068 1147.52 Q99.6354 1151.07 103.247 1151.07 Q106.881 1151.07 108.686 1147.52 Q110.515 1143.96 110.515 1136.85 Q110.515 1129.72 108.686 1126.18 Q106.881 1122.62 103.247 1122.62 M103.247 1118.91 Q109.057 1118.91 112.112 1123.52 Q115.191 1128.1 115.191 1136.85 Q115.191 1145.58 112.112 1150.19 Q109.057 1154.77 103.247 1154.77 Q97.4364 1154.77 94.3577 1150.19 Q91.3022 1145.58 91.3022 1136.85 Q91.3022 1128.1 94.3577 1123.52 Q97.4364 1118.91 103.247 1118.91 Z\" fill=\"#000000\" fill-rule=\"evenodd\" fill-opacity=\"1\" /><path clip-path=\"url(#clip710)\" d=\"M 0 0 M78.5939 787.813 L66.7884 806.262 L78.5939 806.262 L78.5939 787.813 M77.367 783.739 L83.2466 783.739 L83.2466 806.262 L88.1772 806.262 L88.1772 810.151 L83.2466 810.151 L83.2466 818.299 L78.5939 818.299 L78.5939 810.151 L62.9921 810.151 L62.9921 805.637 L77.367 783.739 Z\" fill=\"#000000\" fill-rule=\"evenodd\" fill-opacity=\"1\" /><path clip-path=\"url(#clip710)\" d=\"M 0 0 M103.247 786.818 Q99.6354 786.818 97.8068 790.383 Q96.0012 793.924 96.0012 801.054 Q96.0012 808.16 97.8068 811.725 Q99.6354 815.267 103.247 815.267 Q106.881 815.267 108.686 811.725 Q110.515 808.16 110.515 801.054 Q110.515 793.924 108.686 790.383 Q106.881 786.818 103.247 786.818 M103.247 783.114 Q109.057 783.114 112.112 787.721 Q115.191 792.304 115.191 801.054 Q115.191 809.781 112.112 814.387 Q109.057 818.97 103.247 818.97 Q97.4364 818.97 94.3577 814.387 Q91.3022 809.781 91.3022 801.054 Q91.3022 792.304 94.3577 787.721 Q97.4364 783.114 103.247 783.114 Z\" fill=\"#000000\" fill-rule=\"evenodd\" fill-opacity=\"1\" /><path clip-path=\"url(#clip710)\" d=\"M 0 0 M76.6495 463.357 Q73.5013 463.357 71.6495 465.509 Q69.8208 467.662 69.8208 471.412 Q69.8208 475.139 71.6495 477.315 Q73.5013 479.468 76.6495 479.468 Q79.7976 479.468 81.6263 477.315 Q83.4781 475.139 83.4781 471.412 Q83.4781 467.662 81.6263 465.509 Q79.7976 463.357 76.6495 463.357 M85.9318 448.704 L85.9318 452.963 Q84.1726 452.13 82.367 451.69 Q80.5846 451.25 78.8254 451.25 Q74.1958 451.25 71.7421 454.375 Q69.3115 457.5 68.9643 463.82 Q70.33 461.806 72.3902 460.741 Q74.4504 459.653 76.9272 459.653 Q82.1355 459.653 85.1448 462.824 Q88.1772 465.972 88.1772 471.412 Q88.1772 476.736 85.029 479.954 Q81.8809 483.171 76.6495 483.171 Q70.6541 483.171 67.4828 478.588 Q64.3116 473.981 64.3116 465.255 Q64.3116 457.06 68.2004 452.199 Q72.0893 447.315 78.6402 447.315 Q80.3994 447.315 82.1818 447.662 Q83.9874 448.009 85.9318 448.704 Z\" fill=\"#000000\" fill-rule=\"evenodd\" fill-opacity=\"1\" /><path clip-path=\"url(#clip710)\" d=\"M 0 0 M103.247 451.019 Q99.6354 451.019 97.8068 454.583 Q96.0012 458.125 96.0012 465.255 Q96.0012 472.361 97.8068 475.926 Q99.6354 479.468 103.247 479.468 Q106.881 479.468 108.686 475.926 Q110.515 472.361 110.515 465.255 Q110.515 458.125 108.686 454.583 Q106.881 451.019 103.247 451.019 M103.247 447.315 Q109.057 447.315 112.112 451.921 Q115.191 456.505 115.191 465.255 Q115.191 473.981 112.112 478.588 Q109.057 483.171 103.247 483.171 Q97.4364 483.171 94.3577 478.588 Q91.3022 473.981 91.3022 465.255 Q91.3022 456.505 94.3577 451.921 Q97.4364 447.315 103.247 447.315 Z\" fill=\"#000000\" fill-rule=\"evenodd\" fill-opacity=\"1\" /><path clip-path=\"url(#clip710)\" d=\"M 0 0 M76.3254 130.289 Q72.9921 130.289 71.0708 132.071 Q69.1726 133.854 69.1726 136.979 Q69.1726 140.104 71.0708 141.886 Q72.9921 143.668 76.3254 143.668 Q79.6587 143.668 81.58 141.886 Q83.5013 140.08 83.5013 136.979 Q83.5013 133.854 81.58 132.071 Q79.6819 130.289 76.3254 130.289 M71.6495 128.298 Q68.6402 127.557 66.9504 125.497 Q65.2838 123.437 65.2838 120.474 Q65.2838 116.331 68.2236 113.923 Q71.1865 111.516 76.3254 111.516 Q81.4874 111.516 84.4272 113.923 Q87.367 116.331 87.367 120.474 Q87.367 123.437 85.6772 125.497 Q84.0105 127.557 81.0244 128.298 Q84.404 129.085 86.279 131.377 Q88.1772 133.668 88.1772 136.979 Q88.1772 142.002 85.0985 144.687 Q82.0429 147.372 76.3254 147.372 Q70.6078 147.372 67.5291 144.687 Q64.4736 142.002 64.4736 136.979 Q64.4736 133.668 66.3717 131.377 Q68.2699 129.085 71.6495 128.298 M69.9365 120.914 Q69.9365 123.599 71.6032 125.104 Q73.293 126.608 76.3254 126.608 Q79.3346 126.608 81.0244 125.104 Q82.7374 123.599 82.7374 120.914 Q82.7374 118.229 81.0244 116.724 Q79.3346 115.219 76.3254 115.219 Q73.293 115.219 71.6032 116.724 Q69.9365 118.229 69.9365 120.914 Z\" fill=\"#000000\" fill-rule=\"evenodd\" fill-opacity=\"1\" /><path clip-path=\"url(#clip710)\" d=\"M 0 0 M103.247 115.219 Q99.6354 115.219 97.8068 118.784 Q96.0012 122.326 96.0012 129.455 Q96.0012 136.562 97.8068 140.127 Q99.6354 143.668 103.247 143.668 Q106.881 143.668 108.686 140.127 Q110.515 136.562 110.515 129.455 Q110.515 122.326 108.686 118.784 Q106.881 115.219 103.247 115.219 M103.247 111.516 Q109.057 111.516 112.112 116.122 Q115.191 120.706 115.191 129.455 Q115.191 138.182 112.112 142.789 Q109.057 147.372 103.247 147.372 Q97.4364 147.372 94.3577 142.789 Q91.3022 138.182 91.3022 129.455 Q91.3022 120.706 94.3577 116.122 Q97.4364 111.516 103.247 111.516 Z\" fill=\"#000000\" fill-rule=\"evenodd\" fill-opacity=\"1\" /><path clip-path=\"url(#clip710)\" d=\"M 0 0 M667.707 18.8205 L667.707 41.5461 L677.996 41.5461 Q683.708 41.5461 686.827 38.5889 Q689.946 35.6318 689.946 30.163 Q689.946 24.7348 686.827 21.7777 Q683.708 18.8205 677.996 18.8205 L667.707 18.8205 M659.524 12.096 L677.996 12.096 Q688.164 12.096 693.349 16.714 Q698.575 21.2916 698.575 30.163 Q698.575 39.1155 693.349 43.6931 Q688.164 48.2706 677.996 48.2706 L667.707 48.2706 L667.707 72.576 L659.524 72.576 L659.524 12.096 Z\" fill=\"#000000\" fill-rule=\"evenodd\" fill-opacity=\"1\" /><path clip-path=\"url(#clip710)\" d=\"M 0 0 M706.393 9.54393 L713.847 9.54393 L713.847 72.576 L706.393 72.576 L706.393 9.54393 Z\" fill=\"#000000\" fill-rule=\"evenodd\" fill-opacity=\"1\" /><path clip-path=\"url(#clip710)\" d=\"M 0 0 M739.246 32.4315 Q733.25 32.4315 729.767 37.1306 Q726.283 41.7891 726.283 49.9314 Q726.283 58.0738 729.726 62.7728 Q733.21 67.4314 739.246 67.4314 Q745.201 67.4314 748.684 62.7323 Q752.168 58.0333 752.168 49.9314 Q752.168 41.8701 748.684 37.1711 Q745.201 32.4315 739.246 32.4315 M739.246 26.1121 Q748.968 26.1121 754.518 32.4315 Q760.067 38.7509 760.067 49.9314 Q760.067 61.0714 754.518 67.4314 Q748.968 73.7508 739.246 73.7508 Q729.483 73.7508 723.933 67.4314 Q718.424 61.0714 718.424 49.9314 Q718.424 38.7509 723.933 32.4315 Q729.483 26.1121 739.246 26.1121 Z\" fill=\"#000000\" fill-rule=\"evenodd\" fill-opacity=\"1\" /><path clip-path=\"url(#clip710)\" d=\"M 0 0 M775.258 14.324 L775.258 27.2059 L790.611 27.2059 L790.611 32.9987 L775.258 32.9987 L775.258 57.6282 Q775.258 63.1779 776.757 64.7578 Q778.297 66.3376 782.955 66.3376 L790.611 66.3376 L790.611 72.576 L782.955 72.576 Q774.327 72.576 771.045 69.3758 Q767.764 66.1351 767.764 57.6282 L767.764 32.9987 L762.295 32.9987 L762.295 27.2059 L767.764 27.2059 L767.764 14.324 L775.258 14.324 Z\" fill=\"#000000\" fill-rule=\"evenodd\" fill-opacity=\"1\" /><path clip-path=\"url(#clip710)\" d=\"M 0 0 M805.802 14.324 L805.802 27.2059 L821.155 27.2059 L821.155 32.9987 L805.802 32.9987 L805.802 57.6282 Q805.802 63.1779 807.301 64.7578 Q808.84 66.3376 813.499 66.3376 L821.155 66.3376 L821.155 72.576 L813.499 72.576 Q804.87 72.576 801.589 69.3758 Q798.308 66.1351 798.308 57.6282 L798.308 32.9987 L792.839 32.9987 L792.839 27.2059 L798.308 27.2059 L798.308 14.324 L805.802 14.324 Z\" fill=\"#000000\" fill-rule=\"evenodd\" fill-opacity=\"1\" /><path clip-path=\"url(#clip710)\" d=\"M 0 0 M828.973 27.2059 L836.427 27.2059 L836.427 72.576 L828.973 72.576 L828.973 27.2059 M828.973 9.54393 L836.427 9.54393 L836.427 18.9825 L828.973 18.9825 L828.973 9.54393 Z\" fill=\"#000000\" fill-rule=\"evenodd\" fill-opacity=\"1\" /><path clip-path=\"url(#clip710)\" d=\"M 0 0 M881.959 45.1919 L881.959 72.576 L874.505 72.576 L874.505 45.4349 Q874.505 38.994 871.994 35.7938 Q869.482 32.5936 864.459 32.5936 Q858.423 32.5936 854.94 36.4419 Q851.456 40.2903 851.456 46.9338 L851.456 72.576 L843.962 72.576 L843.962 27.2059 L851.456 27.2059 L851.456 34.2544 Q854.129 30.163 857.735 28.1376 Q861.381 26.1121 866.12 26.1121 Q873.938 26.1121 877.949 30.9732 Q881.959 35.7938 881.959 45.1919 Z\" fill=\"#000000\" fill-rule=\"evenodd\" fill-opacity=\"1\" /><path clip-path=\"url(#clip710)\" d=\"M 0 0 M919.633 49.3643 Q919.633 41.2625 916.27 36.8065 Q912.949 32.3505 906.913 32.3505 Q900.917 32.3505 897.555 36.8065 Q894.233 41.2625 894.233 49.3643 Q894.233 57.4256 897.555 61.8816 Q900.917 66.3376 906.913 66.3376 Q912.949 66.3376 916.27 61.8816 Q919.633 57.4256 919.633 49.3643 M927.086 66.9452 Q927.086 78.5308 921.942 84.1616 Q916.797 89.8329 906.184 89.8329 Q902.254 89.8329 898.77 89.2252 Q895.287 88.6581 892.005 87.4428 L892.005 80.1917 Q895.287 81.9741 898.487 82.8248 Q901.687 83.6755 905.009 83.6755 Q912.341 83.6755 915.987 79.8271 Q919.633 76.0193 919.633 68.282 L919.633 64.5957 Q917.324 68.6061 913.718 70.5911 Q910.113 72.576 905.09 72.576 Q896.745 72.576 891.641 66.2161 Q886.537 59.8562 886.537 49.3643 Q886.537 38.832 891.641 32.472 Q896.745 26.1121 905.09 26.1121 Q910.113 26.1121 913.718 28.0971 Q917.324 30.082 919.633 34.0924 L919.633 27.2059 L927.086 27.2059 L927.086 66.9452 Z\" fill=\"#000000\" fill-rule=\"evenodd\" fill-opacity=\"1\" /><path clip-path=\"url(#clip710)\" d=\"M 0 0 M990.199 28.5427 L990.199 35.5912 Q987.04 33.9709 983.637 33.1607 Q980.234 32.3505 976.588 32.3505 Q971.039 32.3505 968.243 34.0519 Q965.489 35.7533 965.489 39.156 Q965.489 41.7486 967.474 43.2475 Q969.459 44.7058 975.454 46.0426 L978.006 46.6097 Q985.946 48.3111 989.268 51.4303 Q992.63 54.509 992.63 60.0587 Q992.63 66.3781 987.607 70.0644 Q982.624 73.7508 973.874 73.7508 Q970.228 73.7508 966.258 73.0216 Q962.329 72.3329 957.954 70.9151 L957.954 63.2184 Q962.086 65.3654 966.096 66.4591 Q970.107 67.5124 974.036 67.5124 Q979.302 67.5124 982.138 65.73 Q984.974 63.9071 984.974 60.6258 Q984.974 57.5877 982.908 55.9673 Q980.882 54.3469 973.955 52.8481 L971.363 52.2405 Q964.436 50.7821 961.357 47.7845 Q958.278 44.7463 958.278 39.4801 Q958.278 33.0797 962.815 29.5959 Q967.352 26.1121 975.697 26.1121 Q979.829 26.1121 983.475 26.7198 Q987.121 27.3274 990.199 28.5427 Z\" fill=\"#000000\" fill-rule=\"evenodd\" fill-opacity=\"1\" /><path clip-path=\"url(#clip710)\" d=\"M 0 0 M1018.03 32.4315 Q1012.03 32.4315 1008.55 37.1306 Q1005.07 41.7891 1005.07 49.9314 Q1005.07 58.0738 1008.51 62.7728 Q1011.99 67.4314 1018.03 67.4314 Q1023.98 67.4314 1027.47 62.7323 Q1030.95 58.0333 1030.95 49.9314 Q1030.95 41.8701 1027.47 37.1711 Q1023.98 32.4315 1018.03 32.4315 M1018.03 26.1121 Q1027.75 26.1121 1033.3 32.4315 Q1038.85 38.7509 1038.85 49.9314 Q1038.85 61.0714 1033.3 67.4314 Q1027.75 73.7508 1018.03 73.7508 Q1008.27 73.7508 1002.72 67.4314 Q997.207 61.0714 997.207 49.9314 Q997.207 38.7509 1002.72 32.4315 Q1008.27 26.1121 1018.03 26.1121 Z\" fill=\"#000000\" fill-rule=\"evenodd\" fill-opacity=\"1\" /><path clip-path=\"url(#clip710)\" d=\"M 0 0 M1081.99 35.9153 Q1084.79 30.8922 1088.68 28.5022 Q1092.57 26.1121 1097.83 26.1121 Q1104.92 26.1121 1108.77 31.0947 Q1112.62 36.0368 1112.62 45.1919 L1112.62 72.576 L1105.12 72.576 L1105.12 45.4349 Q1105.12 38.913 1102.81 35.7533 Q1100.51 32.5936 1095.77 32.5936 Q1089.97 32.5936 1086.61 36.4419 Q1083.25 40.2903 1083.25 46.9338 L1083.25 72.576 L1075.75 72.576 L1075.75 45.4349 Q1075.75 38.8725 1073.45 35.7533 Q1071.14 32.5936 1066.32 32.5936 Q1060.6 32.5936 1057.24 36.4824 Q1053.88 40.3308 1053.88 46.9338 L1053.88 72.576 L1046.39 72.576 L1046.39 27.2059 L1053.88 27.2059 L1053.88 34.2544 Q1056.43 30.082 1060 28.0971 Q1063.56 26.1121 1068.46 26.1121 Q1073.4 26.1121 1076.85 28.6237 Q1080.33 31.1352 1081.99 35.9153 Z\" fill=\"#000000\" fill-rule=\"evenodd\" fill-opacity=\"1\" /><path clip-path=\"url(#clip710)\" d=\"M 0 0 M1159.24 48.0275 L1159.24 51.6733 L1124.97 51.6733 Q1125.46 59.3701 1129.59 63.421 Q1133.76 67.4314 1141.18 67.4314 Q1145.47 67.4314 1149.48 66.3781 Q1153.53 65.3249 1157.5 63.2184 L1157.5 70.267 Q1153.49 71.9684 1149.28 72.8596 Q1145.07 73.7508 1140.73 73.7508 Q1129.87 73.7508 1123.51 67.4314 Q1117.2 61.1119 1117.2 50.3365 Q1117.2 39.1965 1123.19 32.6746 Q1129.23 26.1121 1139.43 26.1121 Q1148.59 26.1121 1153.9 32.0264 Q1159.24 37.9003 1159.24 48.0275 M1151.79 45.84 Q1151.71 39.7232 1148.35 36.0774 Q1145.02 32.4315 1139.52 32.4315 Q1133.28 32.4315 1129.51 35.9558 Q1125.78 39.4801 1125.22 45.8805 L1151.79 45.84 Z\" fill=\"#000000\" fill-rule=\"evenodd\" fill-opacity=\"1\" /><path clip-path=\"url(#clip710)\" d=\"M 0 0 M1219.72 34.1734 Q1218.47 33.4443 1216.97 33.1202 Q1215.51 32.7556 1213.73 32.7556 Q1207.41 32.7556 1204.01 36.8875 Q1200.64 40.9789 1200.64 48.6757 L1200.64 72.576 L1193.15 72.576 L1193.15 27.2059 L1200.64 27.2059 L1200.64 34.2544 Q1202.99 30.1225 1206.76 28.1376 Q1210.53 26.1121 1215.92 26.1121 Q1216.69 26.1121 1217.62 26.2337 Q1218.55 26.3147 1219.68 26.5172 L1219.72 34.1734 Z\" fill=\"#000000\" fill-rule=\"evenodd\" fill-opacity=\"1\" /><path clip-path=\"url(#clip710)\" d=\"M 0 0 M1248.16 49.7694 Q1239.13 49.7694 1235.64 51.8354 Q1232.16 53.9013 1232.16 58.8839 Q1232.16 62.8538 1234.75 65.2034 Q1237.39 67.5124 1241.88 67.5124 Q1248.08 67.5124 1251.81 63.1374 Q1255.57 58.7219 1255.57 51.4303 L1255.57 49.7694 L1248.16 49.7694 M1263.03 46.6907 L1263.03 72.576 L1255.57 72.576 L1255.57 65.6895 Q1253.02 69.8214 1249.21 71.8063 Q1245.41 73.7508 1239.9 73.7508 Q1232.93 73.7508 1228.8 69.8619 Q1224.71 65.9325 1224.71 59.3701 Q1224.71 51.7138 1229.81 47.825 Q1234.95 43.9361 1245.12 43.9361 L1255.57 43.9361 L1255.57 43.2069 Q1255.57 38.0623 1252.17 35.2672 Q1248.81 32.4315 1242.69 32.4315 Q1238.8 32.4315 1235.12 33.3632 Q1231.43 34.295 1228.03 36.1584 L1228.03 29.2718 Q1232.12 27.692 1235.97 26.9223 Q1239.82 26.1121 1243.46 26.1121 Q1253.31 26.1121 1258.17 31.2163 Q1263.03 36.3204 1263.03 46.6907 Z\" fill=\"#000000\" fill-rule=\"evenodd\" fill-opacity=\"1\" /><path clip-path=\"url(#clip710)\" d=\"M 0 0 M1308.56 45.1919 L1308.56 72.576 L1301.11 72.576 L1301.11 45.4349 Q1301.11 38.994 1298.59 35.7938 Q1296.08 32.5936 1291.06 32.5936 Q1285.02 32.5936 1281.54 36.4419 Q1278.06 40.2903 1278.06 46.9338 L1278.06 72.576 L1270.56 72.576 L1270.56 27.2059 L1278.06 27.2059 L1278.06 34.2544 Q1280.73 30.163 1284.34 28.1376 Q1287.98 26.1121 1292.72 26.1121 Q1300.54 26.1121 1304.55 30.9732 Q1308.56 35.7938 1308.56 45.1919 Z\" fill=\"#000000\" fill-rule=\"evenodd\" fill-opacity=\"1\" /><path clip-path=\"url(#clip710)\" d=\"M 0 0 M1346.23 34.0924 L1346.23 9.54393 L1353.69 9.54393 L1353.69 72.576 L1346.23 72.576 L1346.23 65.7705 Q1343.88 69.8214 1340.28 71.8063 Q1336.71 73.7508 1331.69 73.7508 Q1323.47 73.7508 1318.28 67.1883 Q1313.14 60.6258 1313.14 49.9314 Q1313.14 39.2371 1318.28 32.6746 Q1323.47 26.1121 1331.69 26.1121 Q1336.71 26.1121 1340.28 28.0971 Q1343.88 30.0415 1346.23 34.0924 M1320.83 49.9314 Q1320.83 58.1548 1324.2 62.8538 Q1327.6 67.5124 1333.51 67.5124 Q1339.43 67.5124 1342.83 62.8538 Q1346.23 58.1548 1346.23 49.9314 Q1346.23 41.7081 1342.83 37.0496 Q1339.43 32.3505 1333.51 32.3505 Q1327.6 32.3505 1324.2 37.0496 Q1320.83 41.7081 1320.83 49.9314 Z\" fill=\"#000000\" fill-rule=\"evenodd\" fill-opacity=\"1\" /><path clip-path=\"url(#clip710)\" d=\"M 0 0 M1379.09 32.4315 Q1373.09 32.4315 1369.61 37.1306 Q1366.12 41.7891 1366.12 49.9314 Q1366.12 58.0738 1369.57 62.7728 Q1373.05 67.4314 1379.09 67.4314 Q1385.04 67.4314 1388.52 62.7323 Q1392.01 58.0333 1392.01 49.9314 Q1392.01 41.8701 1388.52 37.1711 Q1385.04 32.4315 1379.09 32.4315 M1379.09 26.1121 Q1388.81 26.1121 1394.36 32.4315 Q1399.91 38.7509 1399.91 49.9314 Q1399.91 61.0714 1394.36 67.4314 Q1388.81 73.7508 1379.09 73.7508 Q1369.32 73.7508 1363.77 67.4314 Q1358.26 61.0714 1358.26 49.9314 Q1358.26 38.7509 1363.77 32.4315 Q1369.32 26.1121 1379.09 26.1121 Z\" fill=\"#000000\" fill-rule=\"evenodd\" fill-opacity=\"1\" /><path clip-path=\"url(#clip710)\" d=\"M 0 0 M1443.05 35.9153 Q1445.85 30.8922 1449.73 28.5022 Q1453.62 26.1121 1458.89 26.1121 Q1465.98 26.1121 1469.83 31.0947 Q1473.67 36.0368 1473.67 45.1919 L1473.67 72.576 L1466.18 72.576 L1466.18 45.4349 Q1466.18 38.913 1463.87 35.7533 Q1461.56 32.5936 1456.82 32.5936 Q1451.03 32.5936 1447.67 36.4419 Q1444.31 40.2903 1444.31 46.9338 L1444.31 72.576 L1436.81 72.576 L1436.81 45.4349 Q1436.81 38.8725 1434.5 35.7533 Q1432.19 32.5936 1427.37 32.5936 Q1421.66 32.5936 1418.3 36.4824 Q1414.94 40.3308 1414.94 46.9338 L1414.94 72.576 L1407.44 72.576 L1407.44 27.2059 L1414.94 27.2059 L1414.94 34.2544 Q1417.49 30.082 1421.05 28.0971 Q1424.62 26.1121 1429.52 26.1121 Q1434.46 26.1121 1437.91 28.6237 Q1441.39 31.1352 1443.05 35.9153 Z\" fill=\"#000000\" fill-rule=\"evenodd\" fill-opacity=\"1\" /><path clip-path=\"url(#clip710)\" d=\"M 0 0 M1545.58 45.1919 L1545.58 72.576 L1538.12 72.576 L1538.12 45.4349 Q1538.12 38.994 1535.61 35.7938 Q1533.1 32.5936 1528.08 32.5936 Q1522.04 32.5936 1518.56 36.4419 Q1515.07 40.2903 1515.07 46.9338 L1515.07 72.576 L1507.58 72.576 L1507.58 27.2059 L1515.07 27.2059 L1515.07 34.2544 Q1517.75 30.163 1521.35 28.1376 Q1525 26.1121 1529.74 26.1121 Q1537.56 26.1121 1541.57 30.9732 Q1545.58 35.7938 1545.58 45.1919 Z\" fill=\"#000000\" fill-rule=\"evenodd\" fill-opacity=\"1\" /><path clip-path=\"url(#clip710)\" d=\"M 0 0 M1552.63 54.671 L1552.63 27.2059 L1560.08 27.2059 L1560.08 54.3874 Q1560.08 60.8284 1562.59 64.0691 Q1565.1 67.2693 1570.13 67.2693 Q1576.16 67.2693 1579.65 63.421 Q1583.17 59.5726 1583.17 52.9291 L1583.17 27.2059 L1590.62 27.2059 L1590.62 72.576 L1583.17 72.576 L1583.17 65.6084 Q1580.46 69.7404 1576.85 71.7658 Q1573.29 73.7508 1568.55 73.7508 Q1560.73 73.7508 1556.68 68.8897 Q1552.63 64.0286 1552.63 54.671 M1571.38 26.1121 L1571.38 26.1121 Z\" fill=\"#000000\" fill-rule=\"evenodd\" fill-opacity=\"1\" /><path clip-path=\"url(#clip710)\" d=\"M 0 0 M1633.77 35.9153 Q1636.56 30.8922 1640.45 28.5022 Q1644.34 26.1121 1649.61 26.1121 Q1656.69 26.1121 1660.54 31.0947 Q1664.39 36.0368 1664.39 45.1919 L1664.39 72.576 L1656.9 72.576 L1656.9 45.4349 Q1656.9 38.913 1654.59 35.7533 Q1652.28 32.5936 1647.54 32.5936 Q1641.75 32.5936 1638.38 36.4419 Q1635.02 40.2903 1635.02 46.9338 L1635.02 72.576 L1627.53 72.576 L1627.53 45.4349 Q1627.53 38.8725 1625.22 35.7533 Q1622.91 32.5936 1618.09 32.5936 Q1612.38 32.5936 1609.02 36.4824 Q1605.65 40.3308 1605.65 46.9338 L1605.65 72.576 L1598.16 72.576 L1598.16 27.2059 L1605.65 27.2059 L1605.65 34.2544 Q1608.21 30.082 1611.77 28.0971 Q1615.33 26.1121 1620.24 26.1121 Q1625.18 26.1121 1628.62 28.6237 Q1632.11 31.1352 1633.77 35.9153 Z\" fill=\"#000000\" fill-rule=\"evenodd\" fill-opacity=\"1\" /><path clip-path=\"url(#clip710)\" d=\"M 0 0 M1704.78 49.9314 Q1704.78 41.7081 1701.38 37.0496 Q1698.01 32.3505 1692.1 32.3505 Q1686.19 32.3505 1682.78 37.0496 Q1679.42 41.7081 1679.42 49.9314 Q1679.42 58.1548 1682.78 62.8538 Q1686.19 67.5124 1692.1 67.5124 Q1698.01 67.5124 1701.38 62.8538 Q1704.78 58.1548 1704.78 49.9314 M1679.42 34.0924 Q1681.77 30.0415 1685.33 28.0971 Q1688.94 26.1121 1693.92 26.1121 Q1702.19 26.1121 1707.33 32.6746 Q1712.52 39.2371 1712.52 49.9314 Q1712.52 60.6258 1707.33 67.1883 Q1702.19 73.7508 1693.92 73.7508 Q1688.94 73.7508 1685.33 71.8063 Q1681.77 69.8214 1679.42 65.7705 L1679.42 72.576 L1671.93 72.576 L1671.93 9.54393 L1679.42 9.54393 L1679.42 34.0924 Z\" fill=\"#000000\" fill-rule=\"evenodd\" fill-opacity=\"1\" /><path clip-path=\"url(#clip710)\" d=\"M 0 0 M1759.14 48.0275 L1759.14 51.6733 L1724.87 51.6733 Q1725.36 59.3701 1729.49 63.421 Q1733.66 67.4314 1741.07 67.4314 Q1745.37 67.4314 1749.38 66.3781 Q1753.43 65.3249 1757.4 63.2184 L1757.4 70.267 Q1753.39 71.9684 1749.18 72.8596 Q1744.96 73.7508 1740.63 73.7508 Q1729.77 73.7508 1723.41 67.4314 Q1717.09 61.1119 1717.09 50.3365 Q1717.09 39.1965 1723.09 32.6746 Q1729.12 26.1121 1739.33 26.1121 Q1748.49 26.1121 1753.79 32.0264 Q1759.14 37.9003 1759.14 48.0275 M1751.69 45.84 Q1751.61 39.7232 1748.25 36.0774 Q1744.92 32.4315 1739.41 32.4315 Q1733.18 32.4315 1729.41 35.9558 Q1725.68 39.4801 1725.11 45.8805 L1751.69 45.84 Z\" fill=\"#000000\" fill-rule=\"evenodd\" fill-opacity=\"1\" /><path clip-path=\"url(#clip710)\" d=\"M 0 0 M1793.25 34.1734 Q1791.99 33.4443 1790.5 33.1202 Q1789.04 32.7556 1787.26 32.7556 Q1780.94 32.7556 1777.53 36.8875 Q1774.17 40.9789 1774.17 48.6757 L1774.17 72.576 L1766.68 72.576 L1766.68 27.2059 L1774.17 27.2059 L1774.17 34.2544 Q1776.52 30.1225 1780.29 28.1376 Q1784.06 26.1121 1789.44 26.1121 Q1790.21 26.1121 1791.14 26.2337 Q1792.08 26.3147 1793.21 26.5172 L1793.25 34.1734 Z\" fill=\"#000000\" fill-rule=\"evenodd\" fill-opacity=\"1\" /><path clip-path=\"url(#clip710)\" d=\"M 0 0 M1829.99 28.5427 L1829.99 35.5912 Q1826.83 33.9709 1823.43 33.1607 Q1820.03 32.3505 1816.38 32.3505 Q1810.83 32.3505 1808.04 34.0519 Q1805.28 35.7533 1805.28 39.156 Q1805.28 41.7486 1807.27 43.2475 Q1809.25 44.7058 1815.25 46.0426 L1817.8 46.6097 Q1825.74 48.3111 1829.06 51.4303 Q1832.42 54.509 1832.42 60.0587 Q1832.42 66.3781 1827.4 70.0644 Q1822.42 73.7508 1813.67 73.7508 Q1810.02 73.7508 1806.05 73.0216 Q1802.12 72.3329 1797.75 70.9151 L1797.75 63.2184 Q1801.88 65.3654 1805.89 66.4591 Q1809.9 67.5124 1813.83 67.5124 Q1819.1 67.5124 1821.93 65.73 Q1824.77 63.9071 1824.77 60.6258 Q1824.77 57.5877 1822.7 55.9673 Q1820.68 54.3469 1813.75 52.8481 L1811.16 52.2405 Q1804.23 50.7821 1801.15 47.7845 Q1798.07 44.7463 1798.07 39.4801 Q1798.07 33.0797 1802.61 29.5959 Q1807.15 26.1121 1815.49 26.1121 Q1819.62 26.1121 1823.27 26.7198 Q1826.91 27.3274 1829.99 28.5427 Z\" fill=\"#000000\" fill-rule=\"evenodd\" fill-opacity=\"1\" /><polyline clip-path=\"url(#clip712)\" style=\"stroke:#009af9; stroke-width:4; stroke-opacity:1; fill:none\" points=\"\n",
       "  201.839,1056.82 311.748,822.742 421.657,980.281 531.566,472.154 641.475,669.765 751.383,1089.97 861.292,549.841 971.201,499.966 1081.11,399.641 1191.02,215.064 \n",
       "  1300.93,1340.98 1410.84,1447.87 1520.75,171.682 1630.65,696.028 1740.56,162.047 1850.47,891.177 1960.38,898.409 2070.29,1085.84 2180.2,432.5 2290.11,437.965 \n",
       "  \n",
       "  \"/>\n",
       "<circle clip-path=\"url(#clip712)\" cx=\"201.839\" cy=\"1056.82\" r=\"14\" fill=\"#009af9\" fill-rule=\"evenodd\" fill-opacity=\"1\" stroke=\"#000000\" stroke-opacity=\"1\" stroke-width=\"3.2\"/>\n",
       "<circle clip-path=\"url(#clip712)\" cx=\"311.748\" cy=\"822.742\" r=\"14\" fill=\"#009af9\" fill-rule=\"evenodd\" fill-opacity=\"1\" stroke=\"#000000\" stroke-opacity=\"1\" stroke-width=\"3.2\"/>\n",
       "<circle clip-path=\"url(#clip712)\" cx=\"421.657\" cy=\"980.281\" r=\"14\" fill=\"#009af9\" fill-rule=\"evenodd\" fill-opacity=\"1\" stroke=\"#000000\" stroke-opacity=\"1\" stroke-width=\"3.2\"/>\n",
       "<circle clip-path=\"url(#clip712)\" cx=\"531.566\" cy=\"472.154\" r=\"14\" fill=\"#009af9\" fill-rule=\"evenodd\" fill-opacity=\"1\" stroke=\"#000000\" stroke-opacity=\"1\" stroke-width=\"3.2\"/>\n",
       "<circle clip-path=\"url(#clip712)\" cx=\"641.475\" cy=\"669.765\" r=\"14\" fill=\"#009af9\" fill-rule=\"evenodd\" fill-opacity=\"1\" stroke=\"#000000\" stroke-opacity=\"1\" stroke-width=\"3.2\"/>\n",
       "<circle clip-path=\"url(#clip712)\" cx=\"751.383\" cy=\"1089.97\" r=\"14\" fill=\"#009af9\" fill-rule=\"evenodd\" fill-opacity=\"1\" stroke=\"#000000\" stroke-opacity=\"1\" stroke-width=\"3.2\"/>\n",
       "<circle clip-path=\"url(#clip712)\" cx=\"861.292\" cy=\"549.841\" r=\"14\" fill=\"#009af9\" fill-rule=\"evenodd\" fill-opacity=\"1\" stroke=\"#000000\" stroke-opacity=\"1\" stroke-width=\"3.2\"/>\n",
       "<circle clip-path=\"url(#clip712)\" cx=\"971.201\" cy=\"499.966\" r=\"14\" fill=\"#009af9\" fill-rule=\"evenodd\" fill-opacity=\"1\" stroke=\"#000000\" stroke-opacity=\"1\" stroke-width=\"3.2\"/>\n",
       "<circle clip-path=\"url(#clip712)\" cx=\"1081.11\" cy=\"399.641\" r=\"14\" fill=\"#009af9\" fill-rule=\"evenodd\" fill-opacity=\"1\" stroke=\"#000000\" stroke-opacity=\"1\" stroke-width=\"3.2\"/>\n",
       "<circle clip-path=\"url(#clip712)\" cx=\"1191.02\" cy=\"215.064\" r=\"14\" fill=\"#009af9\" fill-rule=\"evenodd\" fill-opacity=\"1\" stroke=\"#000000\" stroke-opacity=\"1\" stroke-width=\"3.2\"/>\n",
       "<circle clip-path=\"url(#clip712)\" cx=\"1300.93\" cy=\"1340.98\" r=\"14\" fill=\"#009af9\" fill-rule=\"evenodd\" fill-opacity=\"1\" stroke=\"#000000\" stroke-opacity=\"1\" stroke-width=\"3.2\"/>\n",
       "<circle clip-path=\"url(#clip712)\" cx=\"1410.84\" cy=\"1447.87\" r=\"14\" fill=\"#009af9\" fill-rule=\"evenodd\" fill-opacity=\"1\" stroke=\"#000000\" stroke-opacity=\"1\" stroke-width=\"3.2\"/>\n",
       "<circle clip-path=\"url(#clip712)\" cx=\"1520.75\" cy=\"171.682\" r=\"14\" fill=\"#009af9\" fill-rule=\"evenodd\" fill-opacity=\"1\" stroke=\"#000000\" stroke-opacity=\"1\" stroke-width=\"3.2\"/>\n",
       "<circle clip-path=\"url(#clip712)\" cx=\"1630.65\" cy=\"696.028\" r=\"14\" fill=\"#009af9\" fill-rule=\"evenodd\" fill-opacity=\"1\" stroke=\"#000000\" stroke-opacity=\"1\" stroke-width=\"3.2\"/>\n",
       "<circle clip-path=\"url(#clip712)\" cx=\"1740.56\" cy=\"162.047\" r=\"14\" fill=\"#009af9\" fill-rule=\"evenodd\" fill-opacity=\"1\" stroke=\"#000000\" stroke-opacity=\"1\" stroke-width=\"3.2\"/>\n",
       "<circle clip-path=\"url(#clip712)\" cx=\"1850.47\" cy=\"891.177\" r=\"14\" fill=\"#009af9\" fill-rule=\"evenodd\" fill-opacity=\"1\" stroke=\"#000000\" stroke-opacity=\"1\" stroke-width=\"3.2\"/>\n",
       "<circle clip-path=\"url(#clip712)\" cx=\"1960.38\" cy=\"898.409\" r=\"14\" fill=\"#009af9\" fill-rule=\"evenodd\" fill-opacity=\"1\" stroke=\"#000000\" stroke-opacity=\"1\" stroke-width=\"3.2\"/>\n",
       "<circle clip-path=\"url(#clip712)\" cx=\"2070.29\" cy=\"1085.84\" r=\"14\" fill=\"#009af9\" fill-rule=\"evenodd\" fill-opacity=\"1\" stroke=\"#000000\" stroke-opacity=\"1\" stroke-width=\"3.2\"/>\n",
       "<circle clip-path=\"url(#clip712)\" cx=\"2180.2\" cy=\"432.5\" r=\"14\" fill=\"#009af9\" fill-rule=\"evenodd\" fill-opacity=\"1\" stroke=\"#000000\" stroke-opacity=\"1\" stroke-width=\"3.2\"/>\n",
       "<circle clip-path=\"url(#clip712)\" cx=\"2290.11\" cy=\"437.965\" r=\"14\" fill=\"#009af9\" fill-rule=\"evenodd\" fill-opacity=\"1\" stroke=\"#000000\" stroke-opacity=\"1\" stroke-width=\"3.2\"/>\n",
       "</svg>\n"
      ]
     },
     "execution_count": 45,
     "metadata": {},
     "output_type": "execute_result"
    }
   ],
   "source": [
    "plot(temps, marker = :circle, legend=false, grid=false, title=\"Plotting some random numbers\")"
   ]
  },
  {
   "cell_type": "code",
   "execution_count": 46,
   "metadata": {},
   "outputs": [
    {
     "data": {
      "image/svg+xml": [
       "<?xml version=\"1.0\" encoding=\"utf-8\"?>\n",
       "<svg xmlns=\"http://www.w3.org/2000/svg\" xmlns:xlink=\"http://www.w3.org/1999/xlink\" width=\"600\" height=\"400\" viewBox=\"0 0 2400 1600\">\n",
       "<defs>\n",
       "  <clipPath id=\"clip750\">\n",
       "    <rect x=\"0\" y=\"0\" width=\"2400\" height=\"1600\"/>\n",
       "  </clipPath>\n",
       "</defs>\n",
       "<path clip-path=\"url(#clip750)\" d=\"\n",
       "M0 1600 L2400 1600 L2400 0 L0 0  Z\n",
       "  \" fill=\"#ffffff\" fill-rule=\"evenodd\" fill-opacity=\"1\"/>\n",
       "<defs>\n",
       "  <clipPath id=\"clip751\">\n",
       "    <rect x=\"480\" y=\"0\" width=\"1681\" height=\"1600\"/>\n",
       "  </clipPath>\n",
       "</defs>\n",
       "<path clip-path=\"url(#clip750)\" d=\"\n",
       "M174.862 1486.45 L2352.76 1486.45 L2352.76 47.2441 L174.862 47.2441  Z\n",
       "  \" fill=\"#ffffff\" fill-rule=\"evenodd\" fill-opacity=\"1\"/>\n",
       "<defs>\n",
       "  <clipPath id=\"clip752\">\n",
       "    <rect x=\"174\" y=\"47\" width=\"2179\" height=\"1440\"/>\n",
       "  </clipPath>\n",
       "</defs>\n",
       "<polyline clip-path=\"url(#clip752)\" style=\"stroke:#000000; stroke-width:2; stroke-opacity:0.1; fill:none\" points=\"\n",
       "  464.791,1486.45 464.791,47.2441 \n",
       "  \"/>\n",
       "<polyline clip-path=\"url(#clip752)\" style=\"stroke:#000000; stroke-width:2; stroke-opacity:0.1; fill:none\" points=\"\n",
       "  921.373,1486.45 921.373,47.2441 \n",
       "  \"/>\n",
       "<polyline clip-path=\"url(#clip752)\" style=\"stroke:#000000; stroke-width:2; stroke-opacity:0.1; fill:none\" points=\"\n",
       "  1377.95,1486.45 1377.95,47.2441 \n",
       "  \"/>\n",
       "<polyline clip-path=\"url(#clip752)\" style=\"stroke:#000000; stroke-width:2; stroke-opacity:0.1; fill:none\" points=\"\n",
       "  1834.54,1486.45 1834.54,47.2441 \n",
       "  \"/>\n",
       "<polyline clip-path=\"url(#clip752)\" style=\"stroke:#000000; stroke-width:2; stroke-opacity:0.1; fill:none\" points=\"\n",
       "  2291.12,1486.45 2291.12,47.2441 \n",
       "  \"/>\n",
       "<polyline clip-path=\"url(#clip752)\" style=\"stroke:#000000; stroke-width:2; stroke-opacity:0.1; fill:none\" points=\"\n",
       "  174.862,1466.4 2352.76,1466.4 \n",
       "  \"/>\n",
       "<polyline clip-path=\"url(#clip752)\" style=\"stroke:#000000; stroke-width:2; stroke-opacity:0.1; fill:none\" points=\"\n",
       "  174.862,1121.16 2352.76,1121.16 \n",
       "  \"/>\n",
       "<polyline clip-path=\"url(#clip752)\" style=\"stroke:#000000; stroke-width:2; stroke-opacity:0.1; fill:none\" points=\"\n",
       "  174.862,775.922 2352.76,775.922 \n",
       "  \"/>\n",
       "<polyline clip-path=\"url(#clip752)\" style=\"stroke:#000000; stroke-width:2; stroke-opacity:0.1; fill:none\" points=\"\n",
       "  174.862,430.684 2352.76,430.684 \n",
       "  \"/>\n",
       "<polyline clip-path=\"url(#clip752)\" style=\"stroke:#000000; stroke-width:2; stroke-opacity:0.1; fill:none\" points=\"\n",
       "  174.862,85.4464 2352.76,85.4464 \n",
       "  \"/>\n",
       "<polyline clip-path=\"url(#clip750)\" style=\"stroke:#000000; stroke-width:4; stroke-opacity:1; fill:none\" points=\"\n",
       "  174.862,1486.45 2352.76,1486.45 \n",
       "  \"/>\n",
       "<polyline clip-path=\"url(#clip750)\" style=\"stroke:#000000; stroke-width:4; stroke-opacity:1; fill:none\" points=\"\n",
       "  174.862,1486.45 174.862,47.2441 \n",
       "  \"/>\n",
       "<polyline clip-path=\"url(#clip750)\" style=\"stroke:#000000; stroke-width:4; stroke-opacity:1; fill:none\" points=\"\n",
       "  464.791,1486.45 464.791,1469.18 \n",
       "  \"/>\n",
       "<polyline clip-path=\"url(#clip750)\" style=\"stroke:#000000; stroke-width:4; stroke-opacity:1; fill:none\" points=\"\n",
       "  921.373,1486.45 921.373,1469.18 \n",
       "  \"/>\n",
       "<polyline clip-path=\"url(#clip750)\" style=\"stroke:#000000; stroke-width:4; stroke-opacity:1; fill:none\" points=\"\n",
       "  1377.95,1486.45 1377.95,1469.18 \n",
       "  \"/>\n",
       "<polyline clip-path=\"url(#clip750)\" style=\"stroke:#000000; stroke-width:4; stroke-opacity:1; fill:none\" points=\"\n",
       "  1834.54,1486.45 1834.54,1469.18 \n",
       "  \"/>\n",
       "<polyline clip-path=\"url(#clip750)\" style=\"stroke:#000000; stroke-width:4; stroke-opacity:1; fill:none\" points=\"\n",
       "  2291.12,1486.45 2291.12,1469.18 \n",
       "  \"/>\n",
       "<polyline clip-path=\"url(#clip750)\" style=\"stroke:#000000; stroke-width:4; stroke-opacity:1; fill:none\" points=\"\n",
       "  174.862,1466.4 200.997,1466.4 \n",
       "  \"/>\n",
       "<polyline clip-path=\"url(#clip750)\" style=\"stroke:#000000; stroke-width:4; stroke-opacity:1; fill:none\" points=\"\n",
       "  174.862,1121.16 200.997,1121.16 \n",
       "  \"/>\n",
       "<polyline clip-path=\"url(#clip750)\" style=\"stroke:#000000; stroke-width:4; stroke-opacity:1; fill:none\" points=\"\n",
       "  174.862,775.922 200.997,775.922 \n",
       "  \"/>\n",
       "<polyline clip-path=\"url(#clip750)\" style=\"stroke:#000000; stroke-width:4; stroke-opacity:1; fill:none\" points=\"\n",
       "  174.862,430.684 200.997,430.684 \n",
       "  \"/>\n",
       "<polyline clip-path=\"url(#clip750)\" style=\"stroke:#000000; stroke-width:4; stroke-opacity:1; fill:none\" points=\"\n",
       "  174.862,85.4464 200.997,85.4464 \n",
       "  \"/>\n",
       "<path clip-path=\"url(#clip750)\" d=\"M 0 0 M459.444 1535.98 L475.763 1535.98 L475.763 1539.92 L453.819 1539.92 L453.819 1535.98 Q456.481 1533.23 461.064 1528.6 Q465.671 1523.95 466.851 1522.61 Q469.097 1520.08 469.976 1518.35 Q470.879 1516.59 470.879 1514.9 Q470.879 1512.14 468.935 1510.41 Q467.014 1508.67 463.912 1508.67 Q461.713 1508.67 459.259 1509.43 Q456.828 1510.2 454.051 1511.75 L454.051 1507.03 Q456.875 1505.89 459.328 1505.31 Q461.782 1504.73 463.819 1504.73 Q469.189 1504.73 472.384 1507.42 Q475.578 1510.11 475.578 1514.6 Q475.578 1516.73 474.768 1518.65 Q473.981 1520.54 471.875 1523.14 Q471.296 1523.81 468.194 1527.03 Q465.092 1530.22 459.444 1535.98 Z\" fill=\"#000000\" fill-rule=\"evenodd\" fill-opacity=\"1\" /><path clip-path=\"url(#clip750)\" d=\"M 0 0 M924.382 1509.43 L912.577 1527.88 L924.382 1527.88 L924.382 1509.43 M923.155 1505.36 L929.035 1505.36 L929.035 1527.88 L933.965 1527.88 L933.965 1531.77 L929.035 1531.77 L929.035 1539.92 L924.382 1539.92 L924.382 1531.77 L908.78 1531.77 L908.78 1527.26 L923.155 1505.36 Z\" fill=\"#000000\" fill-rule=\"evenodd\" fill-opacity=\"1\" /><path clip-path=\"url(#clip750)\" d=\"M 0 0 M1378.36 1520.78 Q1375.21 1520.78 1373.36 1522.93 Q1371.53 1525.08 1371.53 1528.83 Q1371.53 1532.56 1373.36 1534.73 Q1375.21 1536.89 1378.36 1536.89 Q1381.51 1536.89 1383.34 1534.73 Q1385.19 1532.56 1385.19 1528.83 Q1385.19 1525.08 1383.34 1522.93 Q1381.51 1520.78 1378.36 1520.78 M1387.64 1506.12 L1387.64 1510.38 Q1385.88 1509.55 1384.08 1509.11 Q1382.29 1508.67 1380.54 1508.67 Q1375.91 1508.67 1373.45 1511.8 Q1371.02 1514.92 1370.67 1521.24 Q1372.04 1519.23 1374.1 1518.16 Q1376.16 1517.07 1378.64 1517.07 Q1383.85 1517.07 1386.85 1520.24 Q1389.89 1523.39 1389.89 1528.83 Q1389.89 1534.16 1386.74 1537.37 Q1383.59 1540.59 1378.36 1540.59 Q1372.36 1540.59 1369.19 1536.01 Q1366.02 1531.4 1366.02 1522.67 Q1366.02 1514.48 1369.91 1509.62 Q1373.8 1504.73 1380.35 1504.73 Q1382.11 1504.73 1383.89 1505.08 Q1385.7 1505.43 1387.64 1506.12 Z\" fill=\"#000000\" fill-rule=\"evenodd\" fill-opacity=\"1\" /><path clip-path=\"url(#clip750)\" d=\"M 0 0 M1834.54 1523.51 Q1831.2 1523.51 1829.28 1525.29 Q1827.38 1527.07 1827.38 1530.2 Q1827.38 1533.32 1829.28 1535.11 Q1831.2 1536.89 1834.54 1536.89 Q1837.87 1536.89 1839.79 1535.11 Q1841.71 1533.3 1841.71 1530.2 Q1841.71 1527.07 1839.79 1525.29 Q1837.89 1523.51 1834.54 1523.51 M1829.86 1521.52 Q1826.85 1520.78 1825.16 1518.72 Q1823.49 1516.66 1823.49 1513.69 Q1823.49 1509.55 1826.43 1507.14 Q1829.4 1504.73 1834.54 1504.73 Q1839.7 1504.73 1842.64 1507.14 Q1845.58 1509.55 1845.58 1513.69 Q1845.58 1516.66 1843.89 1518.72 Q1842.22 1520.78 1839.23 1521.52 Q1842.61 1522.3 1844.49 1524.6 Q1846.39 1526.89 1846.39 1530.2 Q1846.39 1535.22 1843.31 1537.91 Q1840.25 1540.59 1834.54 1540.59 Q1828.82 1540.59 1825.74 1537.91 Q1822.68 1535.22 1822.68 1530.2 Q1822.68 1526.89 1824.58 1524.6 Q1826.48 1522.3 1829.86 1521.52 M1828.15 1514.13 Q1828.15 1516.82 1829.81 1518.32 Q1831.5 1519.83 1834.54 1519.83 Q1837.55 1519.83 1839.23 1518.32 Q1840.95 1516.82 1840.95 1514.13 Q1840.95 1511.45 1839.23 1509.94 Q1837.55 1508.44 1834.54 1508.44 Q1831.5 1508.44 1829.81 1509.94 Q1828.15 1511.45 1828.15 1514.13 Z\" fill=\"#000000\" fill-rule=\"evenodd\" fill-opacity=\"1\" /><path clip-path=\"url(#clip750)\" d=\"M 0 0 M2267.99 1535.98 L2275.63 1535.98 L2275.63 1509.62 L2267.32 1511.29 L2267.32 1507.03 L2275.59 1505.36 L2280.26 1505.36 L2280.26 1535.98 L2287.9 1535.98 L2287.9 1539.92 L2267.99 1539.92 L2267.99 1535.98 Z\" fill=\"#000000\" fill-rule=\"evenodd\" fill-opacity=\"1\" /><path clip-path=\"url(#clip750)\" d=\"M 0 0 M2302.97 1508.44 Q2299.36 1508.44 2297.53 1512 Q2295.72 1515.55 2295.72 1522.67 Q2295.72 1529.78 2297.53 1533.35 Q2299.36 1536.89 2302.97 1536.89 Q2306.6 1536.89 2308.41 1533.35 Q2310.24 1529.78 2310.24 1522.67 Q2310.24 1515.55 2308.41 1512 Q2306.6 1508.44 2302.97 1508.44 M2302.97 1504.73 Q2308.78 1504.73 2311.83 1509.34 Q2314.91 1513.92 2314.91 1522.67 Q2314.91 1531.4 2311.83 1536.01 Q2308.78 1540.59 2302.97 1540.59 Q2297.16 1540.59 2294.08 1536.01 Q2291.02 1531.4 2291.02 1522.67 Q2291.02 1513.92 2294.08 1509.34 Q2297.16 1504.73 2302.97 1504.73 Z\" fill=\"#000000\" fill-rule=\"evenodd\" fill-opacity=\"1\" /><path clip-path=\"url(#clip750)\" d=\"M 0 0 M74.9365 1452.2 Q71.3254 1452.2 69.4967 1455.76 Q67.6912 1459.3 67.6912 1466.43 Q67.6912 1473.54 69.4967 1477.1 Q71.3254 1480.64 74.9365 1480.64 Q78.5707 1480.64 80.3763 1477.1 Q82.205 1473.54 82.205 1466.43 Q82.205 1459.3 80.3763 1455.76 Q78.5707 1452.2 74.9365 1452.2 M74.9365 1448.49 Q80.7467 1448.49 83.8022 1453.1 Q86.8809 1457.68 86.8809 1466.43 Q86.8809 1475.16 83.8022 1479.77 Q80.7467 1484.35 74.9365 1484.35 Q69.1264 1484.35 66.0477 1479.77 Q62.9921 1475.16 62.9921 1466.43 Q62.9921 1457.68 66.0477 1453.1 Q69.1264 1448.49 74.9365 1448.49 Z\" fill=\"#000000\" fill-rule=\"evenodd\" fill-opacity=\"1\" /><path clip-path=\"url(#clip750)\" d=\"M 0 0 M91.9503 1477.8 L96.8345 1477.8 L96.8345 1483.68 L91.9503 1483.68 L91.9503 1477.8 Z\" fill=\"#000000\" fill-rule=\"evenodd\" fill-opacity=\"1\" /><path clip-path=\"url(#clip750)\" d=\"M 0 0 M111.904 1452.2 Q108.293 1452.2 106.464 1455.76 Q104.659 1459.3 104.659 1466.43 Q104.659 1473.54 106.464 1477.1 Q108.293 1480.64 111.904 1480.64 Q115.538 1480.64 117.344 1477.1 Q119.172 1473.54 119.172 1466.43 Q119.172 1459.3 117.344 1455.76 Q115.538 1452.2 111.904 1452.2 M111.904 1448.49 Q117.714 1448.49 120.77 1453.1 Q123.848 1457.68 123.848 1466.43 Q123.848 1475.16 120.77 1479.77 Q117.714 1484.35 111.904 1484.35 Q106.094 1484.35 103.015 1479.77 Q99.9595 1475.16 99.9595 1466.43 Q99.9595 1457.68 103.015 1453.1 Q106.094 1448.49 111.904 1448.49 Z\" fill=\"#000000\" fill-rule=\"evenodd\" fill-opacity=\"1\" /><path clip-path=\"url(#clip750)\" d=\"M 0 0 M138.918 1452.2 Q135.307 1452.2 133.478 1455.76 Q131.672 1459.3 131.672 1466.43 Q131.672 1473.54 133.478 1477.1 Q135.307 1480.64 138.918 1480.64 Q142.552 1480.64 144.357 1477.1 Q146.186 1473.54 146.186 1466.43 Q146.186 1459.3 144.357 1455.76 Q142.552 1452.2 138.918 1452.2 M138.918 1448.49 Q144.728 1448.49 147.783 1453.1 Q150.862 1457.68 150.862 1466.43 Q150.862 1475.16 147.783 1479.77 Q144.728 1484.35 138.918 1484.35 Q133.107 1484.35 130.029 1479.77 Q126.973 1475.16 126.973 1466.43 Q126.973 1457.68 130.029 1453.1 Q133.107 1448.49 138.918 1448.49 Z\" fill=\"#000000\" fill-rule=\"evenodd\" fill-opacity=\"1\" /><path clip-path=\"url(#clip750)\" d=\"M 0 0 M77.5291 1106.96 Q73.918 1106.96 72.0893 1110.52 Q70.2838 1114.06 70.2838 1121.19 Q70.2838 1128.3 72.0893 1131.87 Q73.918 1135.41 77.5291 1135.41 Q81.1633 1135.41 82.9689 1131.87 Q84.7976 1128.3 84.7976 1121.19 Q84.7976 1114.06 82.9689 1110.52 Q81.1633 1106.96 77.5291 1106.96 M77.5291 1103.25 Q83.3392 1103.25 86.3948 1107.86 Q89.4735 1112.44 89.4735 1121.19 Q89.4735 1129.92 86.3948 1134.53 Q83.3392 1139.11 77.5291 1139.11 Q71.7189 1139.11 68.6402 1134.53 Q65.5847 1129.92 65.5847 1121.19 Q65.5847 1112.44 68.6402 1107.86 Q71.7189 1103.25 77.5291 1103.25 Z\" fill=\"#000000\" fill-rule=\"evenodd\" fill-opacity=\"1\" /><path clip-path=\"url(#clip750)\" d=\"M 0 0 M94.5429 1132.56 L99.4271 1132.56 L99.4271 1138.44 L94.5429 1138.44 L94.5429 1132.56 Z\" fill=\"#000000\" fill-rule=\"evenodd\" fill-opacity=\"1\" /><path clip-path=\"url(#clip750)\" d=\"M 0 0 M108.524 1134.5 L124.844 1134.5 L124.844 1138.44 L102.899 1138.44 L102.899 1134.5 Q105.561 1131.75 110.145 1127.12 Q114.751 1122.47 115.932 1121.12 Q118.177 1118.6 119.057 1116.87 Q119.959 1115.11 119.959 1113.42 Q119.959 1110.66 118.015 1108.93 Q116.094 1107.19 112.992 1107.19 Q110.793 1107.19 108.339 1107.95 Q105.909 1108.72 103.131 1110.27 L103.131 1105.55 Q105.955 1104.41 108.409 1103.83 Q110.862 1103.25 112.899 1103.25 Q118.27 1103.25 121.464 1105.94 Q124.658 1108.62 124.658 1113.12 Q124.658 1115.25 123.848 1117.17 Q123.061 1119.06 120.955 1121.66 Q120.376 1122.33 117.274 1125.55 Q114.172 1128.74 108.524 1134.5 Z\" fill=\"#000000\" fill-rule=\"evenodd\" fill-opacity=\"1\" /><path clip-path=\"url(#clip750)\" d=\"M 0 0 M129.959 1103.88 L148.316 1103.88 L148.316 1107.81 L134.242 1107.81 L134.242 1116.29 Q135.26 1115.94 136.279 1115.78 Q137.297 1115.59 138.316 1115.59 Q144.103 1115.59 147.482 1118.76 Q150.862 1121.93 150.862 1127.35 Q150.862 1132.93 147.39 1136.03 Q143.918 1139.11 137.598 1139.11 Q135.422 1139.11 133.154 1138.74 Q130.908 1138.37 128.501 1137.63 L128.501 1132.93 Q130.584 1134.06 132.807 1134.62 Q135.029 1135.18 137.506 1135.18 Q141.51 1135.18 143.848 1133.07 Q146.186 1130.96 146.186 1127.35 Q146.186 1123.74 143.848 1121.63 Q141.51 1119.53 137.506 1119.53 Q135.631 1119.53 133.756 1119.94 Q131.904 1120.36 129.959 1121.24 L129.959 1103.88 Z\" fill=\"#000000\" fill-rule=\"evenodd\" fill-opacity=\"1\" /><path clip-path=\"url(#clip750)\" d=\"M 0 0 M75.9319 761.721 Q72.3208 761.721 70.4921 765.285 Q68.6865 768.827 68.6865 775.957 Q68.6865 783.063 70.4921 786.628 Q72.3208 790.169 75.9319 790.169 Q79.5661 790.169 81.3717 786.628 Q83.2004 783.063 83.2004 775.957 Q83.2004 768.827 81.3717 765.285 Q79.5661 761.721 75.9319 761.721 M75.9319 758.017 Q81.742 758.017 84.7976 762.623 Q87.8763 767.207 87.8763 775.957 Q87.8763 784.683 84.7976 789.29 Q81.742 793.873 75.9319 793.873 Q70.1217 793.873 67.043 789.29 Q63.9875 784.683 63.9875 775.957 Q63.9875 767.207 67.043 762.623 Q70.1217 758.017 75.9319 758.017 Z\" fill=\"#000000\" fill-rule=\"evenodd\" fill-opacity=\"1\" /><path clip-path=\"url(#clip750)\" d=\"M 0 0 M92.9457 787.322 L97.8299 787.322 L97.8299 793.202 L92.9457 793.202 L92.9457 787.322 Z\" fill=\"#000000\" fill-rule=\"evenodd\" fill-opacity=\"1\" /><path clip-path=\"url(#clip750)\" d=\"M 0 0 M102.946 758.642 L121.302 758.642 L121.302 762.577 L107.228 762.577 L107.228 771.049 Q108.247 770.702 109.265 770.54 Q110.284 770.355 111.302 770.355 Q117.089 770.355 120.469 773.526 Q123.848 776.697 123.848 782.114 Q123.848 787.693 120.376 790.794 Q116.904 793.873 110.584 793.873 Q108.409 793.873 106.14 793.503 Q103.895 793.132 101.487 792.392 L101.487 787.693 Q103.571 788.827 105.793 789.382 Q108.015 789.938 110.492 789.938 Q114.496 789.938 116.834 787.831 Q119.172 785.725 119.172 782.114 Q119.172 778.503 116.834 776.396 Q114.496 774.29 110.492 774.29 Q108.617 774.29 106.742 774.707 Q104.89 775.123 102.946 776.003 L102.946 758.642 Z\" fill=\"#000000\" fill-rule=\"evenodd\" fill-opacity=\"1\" /><path clip-path=\"url(#clip750)\" d=\"M 0 0 M138.918 761.721 Q135.307 761.721 133.478 765.285 Q131.672 768.827 131.672 775.957 Q131.672 783.063 133.478 786.628 Q135.307 790.169 138.918 790.169 Q142.552 790.169 144.357 786.628 Q146.186 783.063 146.186 775.957 Q146.186 768.827 144.357 765.285 Q142.552 761.721 138.918 761.721 M138.918 758.017 Q144.728 758.017 147.783 762.623 Q150.862 767.207 150.862 775.957 Q150.862 784.683 147.783 789.29 Q144.728 793.873 138.918 793.873 Q133.107 793.873 130.029 789.29 Q126.973 784.683 126.973 775.957 Q126.973 767.207 130.029 762.623 Q133.107 758.017 138.918 758.017 Z\" fill=\"#000000\" fill-rule=\"evenodd\" fill-opacity=\"1\" /><path clip-path=\"url(#clip750)\" d=\"M 0 0 M76.8346 416.483 Q73.2236 416.483 71.3949 420.048 Q69.5893 423.589 69.5893 430.719 Q69.5893 437.825 71.3949 441.39 Q73.2236 444.932 76.8346 444.932 Q80.4689 444.932 82.2744 441.39 Q84.1031 437.825 84.1031 430.719 Q84.1031 423.589 82.2744 420.048 Q80.4689 416.483 76.8346 416.483 M76.8346 412.779 Q82.6448 412.779 85.7003 417.386 Q88.779 421.969 88.779 430.719 Q88.779 439.446 85.7003 444.052 Q82.6448 448.635 76.8346 448.635 Q71.0245 448.635 67.9458 444.052 Q64.8903 439.446 64.8903 430.719 Q64.8903 421.969 67.9458 417.386 Q71.0245 412.779 76.8346 412.779 Z\" fill=\"#000000\" fill-rule=\"evenodd\" fill-opacity=\"1\" /><path clip-path=\"url(#clip750)\" d=\"M 0 0 M93.8484 442.085 L98.7327 442.085 L98.7327 447.964 L93.8484 447.964 L93.8484 442.085 Z\" fill=\"#000000\" fill-rule=\"evenodd\" fill-opacity=\"1\" /><path clip-path=\"url(#clip750)\" d=\"M 0 0 M102.622 413.404 L124.844 413.404 L124.844 415.395 L112.297 447.964 L107.413 447.964 L119.219 417.339 L102.622 417.339 L102.622 413.404 Z\" fill=\"#000000\" fill-rule=\"evenodd\" fill-opacity=\"1\" /><path clip-path=\"url(#clip750)\" d=\"M 0 0 M129.959 413.404 L148.316 413.404 L148.316 417.339 L134.242 417.339 L134.242 425.811 Q135.26 425.464 136.279 425.302 Q137.297 425.117 138.316 425.117 Q144.103 425.117 147.482 428.288 Q150.862 431.46 150.862 436.876 Q150.862 442.455 147.39 445.557 Q143.918 448.635 137.598 448.635 Q135.422 448.635 133.154 448.265 Q130.908 447.895 128.501 447.154 L128.501 442.455 Q130.584 443.589 132.807 444.145 Q135.029 444.7 137.506 444.7 Q141.51 444.7 143.848 442.594 Q146.186 440.487 146.186 436.876 Q146.186 433.265 143.848 431.159 Q141.51 429.052 137.506 429.052 Q135.631 429.052 133.756 429.469 Q131.904 429.886 129.959 430.765 L129.959 413.404 Z\" fill=\"#000000\" fill-rule=\"evenodd\" fill-opacity=\"1\" /><path clip-path=\"url(#clip750)\" d=\"M 0 0 M66.9736 98.7913 L74.6124 98.7913 L74.6124 72.4257 L66.3023 74.0923 L66.3023 69.8331 L74.5661 68.1664 L79.242 68.1664 L79.242 98.7913 L86.8809 98.7913 L86.8809 102.726 L66.9736 102.726 L66.9736 98.7913 Z\" fill=\"#000000\" fill-rule=\"evenodd\" fill-opacity=\"1\" /><path clip-path=\"url(#clip750)\" d=\"M 0 0 M91.9503 96.8468 L96.8345 96.8468 L96.8345 102.726 L91.9503 102.726 L91.9503 96.8468 Z\" fill=\"#000000\" fill-rule=\"evenodd\" fill-opacity=\"1\" /><path clip-path=\"url(#clip750)\" d=\"M 0 0 M111.904 71.2451 Q108.293 71.2451 106.464 74.8099 Q104.659 78.3516 104.659 85.4811 Q104.659 92.5876 106.464 96.1524 Q108.293 99.694 111.904 99.694 Q115.538 99.694 117.344 96.1524 Q119.172 92.5876 119.172 85.4811 Q119.172 78.3516 117.344 74.8099 Q115.538 71.2451 111.904 71.2451 M111.904 67.5414 Q117.714 67.5414 120.77 72.1479 Q123.848 76.7312 123.848 85.4811 Q123.848 94.2079 120.77 98.8144 Q117.714 103.398 111.904 103.398 Q106.094 103.398 103.015 98.8144 Q99.9595 94.2079 99.9595 85.4811 Q99.9595 76.7312 103.015 72.1479 Q106.094 67.5414 111.904 67.5414 Z\" fill=\"#000000\" fill-rule=\"evenodd\" fill-opacity=\"1\" /><path clip-path=\"url(#clip750)\" d=\"M 0 0 M138.918 71.2451 Q135.307 71.2451 133.478 74.8099 Q131.672 78.3516 131.672 85.4811 Q131.672 92.5876 133.478 96.1524 Q135.307 99.694 138.918 99.694 Q142.552 99.694 144.357 96.1524 Q146.186 92.5876 146.186 85.4811 Q146.186 78.3516 144.357 74.8099 Q142.552 71.2451 138.918 71.2451 M138.918 67.5414 Q144.728 67.5414 147.783 72.1479 Q150.862 76.7312 150.862 85.4811 Q150.862 94.2079 147.783 98.8144 Q144.728 103.398 138.918 103.398 Q133.107 103.398 130.029 98.8144 Q126.973 94.2079 126.973 85.4811 Q126.973 76.7312 130.029 72.1479 Q133.107 67.5414 138.918 67.5414 Z\" fill=\"#000000\" fill-rule=\"evenodd\" fill-opacity=\"1\" /><polyline clip-path=\"url(#clip752)\" style=\"stroke:#009af9; stroke-width:4; stroke-opacity:1; fill:none\" points=\"\n",
       "  236.501,305.616 464.791,878.134 693.082,915.104 921.373,854.352 1149.66,975.941 1377.95,1387.79 1606.25,889.569 1834.54,95.2253 2062.83,535.618 2291.12,1445.72 \n",
       "  \n",
       "  \"/>\n",
       "<polyline clip-path=\"url(#clip752)\" style=\"stroke:#e26f46; stroke-width:4; stroke-opacity:1; fill:none\" points=\"\n",
       "  236.501,875.911 464.791,1412.16 693.082,1272.35 921.373,598.425 1149.66,318.861 1377.95,94.6154 1606.25,87.9763 1834.54,308.008 2062.83,183.584 2291.12,1028.61 \n",
       "  \n",
       "  \"/>\n",
       "<path clip-path=\"url(#clip750)\" d=\"\n",
       "M1987.15 276.658 L2280.16 276.658 L2280.16 95.2176 L1987.15 95.2176  Z\n",
       "  \" fill=\"#ffffff\" fill-rule=\"evenodd\" fill-opacity=\"1\"/>\n",
       "<polyline clip-path=\"url(#clip750)\" style=\"stroke:#000000; stroke-width:4; stroke-opacity:1; fill:none\" points=\"\n",
       "  1987.15,276.658 2280.16,276.658 2280.16,95.2176 1987.15,95.2176 1987.15,276.658 \n",
       "  \"/>\n",
       "<polyline clip-path=\"url(#clip750)\" style=\"stroke:#009af9; stroke-width:4; stroke-opacity:1; fill:none\" points=\"\n",
       "  2011.35,155.698 2156.54,155.698 \n",
       "  \"/>\n",
       "<path clip-path=\"url(#clip750)\" d=\"M 0 0 M2194.59 175.385 Q2192.78 180.015 2191.07 181.427 Q2189.35 182.839 2186.48 182.839 L2183.08 182.839 L2183.08 179.274 L2185.58 179.274 Q2187.34 179.274 2188.31 178.44 Q2189.29 177.607 2190.47 174.505 L2191.23 172.561 L2180.74 147.052 L2185.26 147.052 L2193.36 167.329 L2201.46 147.052 L2205.97 147.052 L2194.59 175.385 Z\" fill=\"#000000\" fill-rule=\"evenodd\" fill-opacity=\"1\" /><path clip-path=\"url(#clip750)\" d=\"M 0 0 M2211.85 169.042 L2219.49 169.042 L2219.49 142.677 L2211.18 144.343 L2211.18 140.084 L2219.45 138.418 L2224.12 138.418 L2224.12 169.042 L2231.76 169.042 L2231.76 172.978 L2211.85 172.978 L2211.85 169.042 Z\" fill=\"#000000\" fill-rule=\"evenodd\" fill-opacity=\"1\" /><polyline clip-path=\"url(#clip750)\" style=\"stroke:#e26f46; stroke-width:4; stroke-opacity:1; fill:none\" points=\"\n",
       "  2011.35,216.178 2156.54,216.178 \n",
       "  \"/>\n",
       "<path clip-path=\"url(#clip750)\" d=\"M 0 0 M2194.59 235.865 Q2192.78 240.495 2191.07 241.907 Q2189.35 243.319 2186.48 243.319 L2183.08 243.319 L2183.08 239.754 L2185.58 239.754 Q2187.34 239.754 2188.31 238.92 Q2189.29 238.087 2190.47 234.985 L2191.23 233.041 L2180.74 207.532 L2185.26 207.532 L2193.36 227.809 L2201.46 207.532 L2205.97 207.532 L2194.59 235.865 Z\" fill=\"#000000\" fill-rule=\"evenodd\" fill-opacity=\"1\" /><path clip-path=\"url(#clip750)\" d=\"M 0 0 M2215.07 229.522 L2231.39 229.522 L2231.39 233.458 L2209.45 233.458 L2209.45 229.522 Q2212.11 226.768 2216.69 222.138 Q2221.3 217.485 2222.48 216.143 Q2224.72 213.62 2225.6 211.884 Q2226.51 210.124 2226.51 208.435 Q2226.51 205.68 2224.56 203.944 Q2222.64 202.208 2219.54 202.208 Q2217.34 202.208 2214.89 202.972 Q2212.46 203.735 2209.68 205.286 L2209.68 200.564 Q2212.5 199.43 2214.96 198.851 Q2217.41 198.273 2219.45 198.273 Q2224.82 198.273 2228.01 200.958 Q2231.21 203.643 2231.21 208.134 Q2231.21 210.263 2230.4 212.185 Q2229.61 214.083 2227.5 216.675 Q2226.92 217.347 2223.82 220.564 Q2220.72 223.759 2215.07 229.522 Z\" fill=\"#000000\" fill-rule=\"evenodd\" fill-opacity=\"1\" /></svg>\n"
      ]
     },
     "execution_count": 46,
     "metadata": {},
     "output_type": "execute_result"
    }
   ],
   "source": [
    "x = 1:10\n",
    "y = rand(10, 2) # 2 columns means two lines\n",
    "plot(x, y)"
   ]
  },
  {
   "cell_type": "code",
   "execution_count": 47,
   "metadata": {},
   "outputs": [
    {
     "data": {
      "text/plain": [
       "2-element Array{Int64,1}:\n",
       " 4\n",
       " 5"
      ]
     },
     "execution_count": 47,
     "metadata": {},
     "output_type": "execute_result"
    }
   ],
   "source": [
    "# vector addition\n",
    "a = [1, 2]\n",
    "b = [3, 3]\n",
    "c = a + b"
   ]
  },
  {
   "cell_type": "code",
   "execution_count": 48,
   "metadata": {},
   "outputs": [
    {
     "data": {
      "text/plain": [
       "2-element Array{Int64,1}:\n",
       "  5\n",
       " 10"
      ]
     },
     "execution_count": 48,
     "metadata": {},
     "output_type": "execute_result"
    }
   ],
   "source": [
    "# Scalar-Vector Multiplication\n",
    "a * 5"
   ]
  },
  {
   "cell_type": "code",
   "execution_count": 49,
   "metadata": {},
   "outputs": [
    {
     "data": {
      "text/plain": [
       "2-element Array{Float64,1}:\n",
       " 0.5\n",
       " 1.0"
      ]
     },
     "execution_count": 49,
     "metadata": {},
     "output_type": "execute_result"
    }
   ],
   "source": [
    "# scalar-vector division\n",
    "a / 2"
   ]
  },
  {
   "cell_type": "code",
   "execution_count": 50,
   "metadata": {},
   "outputs": [
    {
     "data": {
      "text/plain": [
       "2-element Array{Int64,1}:\n",
       " 5\n",
       " 6"
      ]
     },
     "execution_count": 50,
     "metadata": {},
     "output_type": "execute_result"
    }
   ],
   "source": [
    "# add a scalar to each element in a vector\n",
    "# the . dot notation vectorizes the + operator\n",
    "a .+ 4"
   ]
  },
  {
   "cell_type": "code",
   "execution_count": 51,
   "metadata": {},
   "outputs": [
    {
     "data": {
      "text/plain": [
       "5-element Array{Float64,1}:\n",
       " 0.0\n",
       " 0.5\n",
       " 0.6666666666666666\n",
       " 0.5\n",
       " 0.4"
      ]
     },
     "execution_count": 51,
     "metadata": {},
     "output_type": "execute_result"
    }
   ],
   "source": [
    "# Element-wise operations\n",
    "# This is element-wise division\n",
    "\n",
    "initial = [1, 2, 3, 4, 5]\n",
    "final = [1, 3, 5, 6, 7]\n",
    "\n",
    "r = (final - initial) ./ initial"
   ]
  },
  {
   "cell_type": "code",
   "execution_count": 52,
   "metadata": {},
   "outputs": [
    {
     "data": {
      "text/plain": [
       "false"
      ]
     },
     "execution_count": 52,
     "metadata": {},
     "output_type": "execute_result"
    }
   ],
   "source": [
    "# element-wise operations with a scalar\n",
    "w = [1, 2, 2]\n",
    "z = [1, 2, 3]\n",
    "w == z # compares the entire vector"
   ]
  },
  {
   "cell_type": "code",
   "execution_count": 53,
   "metadata": {},
   "outputs": [
    {
     "data": {
      "text/plain": [
       "3-element BitArray{1}:\n",
       " 1\n",
       " 1\n",
       " 0"
      ]
     },
     "execution_count": 53,
     "metadata": {},
     "output_type": "execute_result"
    }
   ],
   "source": [
    "w .== z # bit array holding each equality at each index"
   ]
  },
  {
   "cell_type": "code",
   "execution_count": 54,
   "metadata": {},
   "outputs": [
    {
     "data": {
      "text/plain": [
       "5-element BitArray{1}:\n",
       " 0\n",
       " 0\n",
       " 1\n",
       " 1\n",
       " 1"
      ]
     },
     "execution_count": 54,
     "metadata": {},
     "output_type": "execute_result"
    }
   ],
   "source": [
    "# we can combine element-wise operations with conditions like so:\n",
    "x = randn(5)\n",
    "\n",
    "# Obtain the boolean mask\n",
    "x .> 0"
   ]
  },
  {
   "cell_type": "code",
   "execution_count": 55,
   "metadata": {},
   "outputs": [
    {
     "data": {
      "text/plain": [
       "3-element Array{Float64,1}:\n",
       " 2.401432507575197\n",
       " 1.3509359250766024\n",
       " 0.720432048143068"
      ]
     },
     "execution_count": 55,
     "metadata": {},
     "output_type": "execute_result"
    }
   ],
   "source": [
    "# Return only the positive values\n",
    "x[x .> 0]"
   ]
  },
  {
   "cell_type": "code",
   "execution_count": 56,
   "metadata": {},
   "outputs": [
    {
     "data": {
      "text/plain": [
       "3-element Array{Int64,1}:\n",
       " 1\n",
       " 3\n",
       " 3"
      ]
     },
     "execution_count": 56,
     "metadata": {},
     "output_type": "execute_result"
    }
   ],
   "source": [
    "# dot notation works with assignment, too\n",
    "x = [1, 2, 4]\n",
    "x[2:3] .= 3\n",
    "x"
   ]
  },
  {
   "cell_type": "markdown",
   "metadata": {},
   "source": [
    "## Linear Combinations\n",
    "We can form linear combinations in Julia using scalar-vector multiplication and addition"
   ]
  },
  {
   "cell_type": "code",
   "execution_count": 57,
   "metadata": {},
   "outputs": [
    {
     "data": {
      "text/plain": [
       "2-element Array{Float64,1}:\n",
       " 4.0\n",
       " 5.0"
      ]
     },
     "execution_count": 57,
     "metadata": {},
     "output_type": "execute_result"
    }
   ],
   "source": [
    "a = [1, 2]\n",
    "b = [3, 4]\n",
    "alpha = -.5\n",
    "beta = 1.5\n",
    "c = alpha*a + beta*b"
   ]
  },
  {
   "cell_type": "code",
   "execution_count": 58,
   "metadata": {},
   "outputs": [
    {
     "data": {
      "text/plain": [
       "linear_combination (generic function with 1 method)"
      ]
     },
     "execution_count": 58,
     "metadata": {},
     "output_type": "execute_result"
    }
   ],
   "source": [
    "# Let's make a function that produces linear combinations!\n",
    "function linear_combination(coeff, vectors)\n",
    "    n = length(vectors[1]) # Length of vectors\n",
    "    a = zeros(n)\n",
    "    for i = 1:length(vectors)\n",
    "        a = a + coeff[i] * vectors[i]\n",
    "    end\n",
    "    return a\n",
    "end\n"
   ]
  },
  {
   "cell_type": "code",
   "execution_count": 59,
   "metadata": {},
   "outputs": [
    {
     "data": {
      "text/plain": [
       "2-element Array{Float64,1}:\n",
       " 4.0\n",
       " 5.0"
      ]
     },
     "execution_count": 59,
     "metadata": {},
     "output_type": "execute_result"
    }
   ],
   "source": [
    "a = [1, 2]\n",
    "b = [3, 4]\n",
    "alpha = -.5\n",
    "beta = 1.5\n",
    "linear_combination((alpha, beta), (a, b))"
   ]
  },
  {
   "cell_type": "code",
   "execution_count": 60,
   "metadata": {},
   "outputs": [
    {
     "data": {
      "text/plain": [
       "2-element Array{Float64,1}:\n",
       " 4.0\n",
       " 5.0"
      ]
     },
     "execution_count": 60,
     "metadata": {},
     "output_type": "execute_result"
    }
   ],
   "source": [
    "# A more concise definition\n",
    "function lincomb(coeff, vectors)\n",
    "    return sum(coeff[i] * vectors[i] for i = 1:length(vectors))\n",
    "end\n",
    "\n",
    "lincomb((alpha, beta), (a, b))"
   ]
  },
  {
   "cell_type": "markdown",
   "metadata": {},
   "source": [
    "## Checking Properties!\n",
    "- let's check the disributive property\n",
    "- $\\beta(a + b) = \\beta a + \\beta b$"
   ]
  },
  {
   "cell_type": "code",
   "execution_count": 85,
   "metadata": {},
   "outputs": [
    {
     "data": {
      "text/plain": [
       "0.06793256705570494"
      ]
     },
     "execution_count": 85,
     "metadata": {},
     "output_type": "execute_result"
    }
   ],
   "source": [
    "a = rand(3); b = rand(3)\n",
    "beta = rand()"
   ]
  },
  {
   "cell_type": "code",
   "execution_count": 86,
   "metadata": {},
   "outputs": [
    {
     "data": {
      "text/plain": [
       "3-element Array{Float64,1}:\n",
       " 0.07920314999464437\n",
       " 0.06504131362869045\n",
       " 0.04723093451359907"
      ]
     },
     "execution_count": 86,
     "metadata": {},
     "output_type": "execute_result"
    }
   ],
   "source": [
    "lhs = beta*(a + b)"
   ]
  },
  {
   "cell_type": "code",
   "execution_count": 87,
   "metadata": {},
   "outputs": [
    {
     "data": {
      "text/plain": [
       "3-element Array{Float64,1}:\n",
       " 0.07920314999464437\n",
       " 0.06504131362869045\n",
       " 0.04723093451359906"
      ]
     },
     "execution_count": 87,
     "metadata": {},
     "output_type": "execute_result"
    }
   ],
   "source": [
    "rhs = beta*a + beta*b"
   ]
  },
  {
   "cell_type": "code",
   "execution_count": 88,
   "metadata": {},
   "outputs": [
    {
     "data": {
      "text/plain": [
       "true"
      ]
     },
     "execution_count": 88,
     "metadata": {},
     "output_type": "execute_result"
    }
   ],
   "source": [
    "# arrays are approximately equal\n",
    "lhs ≈ rhs"
   ]
  },
  {
   "cell_type": "code",
   "execution_count": 89,
   "metadata": {},
   "outputs": [
    {
     "data": {
      "text/plain": [
       "3-element BitArray{1}:\n",
       " 1\n",
       " 1\n",
       " 1"
      ]
     },
     "execution_count": 89,
     "metadata": {},
     "output_type": "execute_result"
    }
   ],
   "source": [
    "# let's check element-wise approximate equality\n",
    "lhs .≈ rhs"
   ]
  },
  {
   "cell_type": "code",
   "execution_count": 94,
   "metadata": {},
   "outputs": [
    {
     "data": {
      "text/plain": [
       "false"
      ]
     },
     "execution_count": 94,
     "metadata": {},
     "output_type": "execute_result"
    }
   ],
   "source": [
    "# Since == is exact, we should probably use \\approx to account for rounding errors and ieee754 floating point issues\n",
    "lhs == rhs"
   ]
  },
  {
   "cell_type": "code",
   "execution_count": 95,
   "metadata": {},
   "outputs": [
    {
     "data": {
      "text/plain": [
       "3-element BitArray{1}:\n",
       " 1\n",
       " 1\n",
       " 0"
      ]
     },
     "execution_count": 95,
     "metadata": {},
     "output_type": "execute_result"
    }
   ],
   "source": [
    "lhs .== rhs"
   ]
  },
  {
   "cell_type": "markdown",
   "metadata": {},
   "source": [
    "## Inner Product"
   ]
  },
  {
   "cell_type": "code",
   "execution_count": 96,
   "metadata": {},
   "outputs": [
    {
     "data": {
      "text/plain": [
       "20"
      ]
     },
     "execution_count": 96,
     "metadata": {},
     "output_type": "execute_result"
    }
   ],
   "source": [
    "x = [1, 2, 3]\n",
    "y = [2, 3, 4]\n",
    "x'y"
   ]
  },
  {
   "cell_type": "code",
   "execution_count": 100,
   "metadata": {},
   "outputs": [
    {
     "data": {
      "text/plain": [
       "4-element Array{Float64,1}:\n",
       " 1.0\n",
       " 0.9523809523809523\n",
       " 0.9070294784580498\n",
       " 0.863837598531476"
      ]
     },
     "execution_count": 100,
     "metadata": {},
     "output_type": "execute_result"
    }
   ],
   "source": [
    "# Net present value (Net present value of a cashflow vector c, with per-period interest rate r)\n",
    "c = [0.1, 0.1, 0.1, 1.1] # Cashflow vector\n",
    "n = length(c)\n",
    "r = 0.05 # 5% per period interest rate\n",
    "\n",
    "d = (1 + r).^ -(0:n-1)"
   ]
  },
  {
   "cell_type": "code",
   "execution_count": 101,
   "metadata": {},
   "outputs": [
    {
     "data": {
      "text/plain": [
       "1.236162401468524"
      ]
     },
     "execution_count": 101,
     "metadata": {},
     "output_type": "execute_result"
    }
   ],
   "source": [
    "NPV = c'd"
   ]
  },
  {
   "cell_type": "code",
   "execution_count": 115,
   "metadata": {},
   "outputs": [
    {
     "data": {
      "text/plain": [
       "8718.0"
      ]
     },
     "execution_count": 115,
     "metadata": {},
     "output_type": "execute_result"
    }
   ],
   "source": [
    "# school aged population is between 6 to 19\n",
    "s = [zeros(5); ones(14); zeros(81)]\n",
    "\n",
    "# Produce a random distribution of number of people per age\n",
    "x = rand(length(s)) * 1000\n",
    "\n",
    "# Inner product of s and x is the sum\n",
    "round(s'x)"
   ]
  },
  {
   "cell_type": "markdown",
   "metadata": {},
   "source": [
    "## Complexity of Vector Computations\n",
    "- Floating point operations\n",
    "- Example: $(a + b)(a - b) = a^2 - b^2$"
   ]
  },
  {
   "cell_type": "code",
   "execution_count": 118,
   "metadata": {},
   "outputs": [
    {
     "data": {
      "text/plain": [
       "0.24011440670316742"
      ]
     },
     "execution_count": 118,
     "metadata": {},
     "output_type": "execute_result"
    }
   ],
   "source": [
    "a = rand(); b = rand()\n",
    "lhs = (a + b) * (a - b)\n",
    "rhs = a^2 - b^2"
   ]
  },
  {
   "cell_type": "code",
   "execution_count": 119,
   "metadata": {},
   "outputs": [
    {
     "data": {
      "text/plain": [
       "false"
      ]
     },
     "execution_count": 119,
     "metadata": {},
     "output_type": "execute_result"
    }
   ],
   "source": [
    "lhs == rhs"
   ]
  },
  {
   "cell_type": "code",
   "execution_count": 120,
   "metadata": {},
   "outputs": [
    {
     "data": {
      "text/plain": [
       "true"
      ]
     },
     "execution_count": 120,
     "metadata": {},
     "output_type": "execute_result"
    }
   ],
   "source": [
    "lhs ≈ rhs"
   ]
  },
  {
   "cell_type": "code",
   "execution_count": 121,
   "metadata": {},
   "outputs": [
    {
     "name": "stdout",
     "output_type": "stream",
     "text": [
      "  0.000151 seconds (2 allocations: 32 bytes)\n"
     ]
    },
    {
     "data": {
      "text/plain": [
       "25056.07971812992"
      ]
     },
     "execution_count": 121,
     "metadata": {},
     "output_type": "execute_result"
    }
   ],
   "source": [
    "# Complexity of operations\n",
    "# With Julia, we can add @time to time things\n",
    "a = rand(10^5); b = rand(10^5)\n",
    "@time a'b"
   ]
  },
  {
   "cell_type": "code",
   "execution_count": 122,
   "metadata": {},
   "outputs": [
    {
     "name": "stdout",
     "output_type": "stream",
     "text": [
      "  0.000116 seconds (2 allocations: 32 bytes)\n"
     ]
    },
    {
     "data": {
      "text/plain": [
       "25056.07971812992"
      ]
     },
     "execution_count": 122,
     "metadata": {},
     "output_type": "execute_result"
    }
   ],
   "source": [
    "@time a'b"
   ]
  },
  {
   "cell_type": "code",
   "execution_count": 124,
   "metadata": {},
   "outputs": [
    {
     "data": {
      "text/plain": [
       "1000000-element SparseVector{Float64,Int64} with 2 stored entries:\n",
       "  [123456 ]  =  1.0\n",
       "  [123457 ]  =  -1.0"
      ]
     },
     "execution_count": 124,
     "metadata": {},
     "output_type": "execute_result"
    }
   ],
   "source": [
    "# Working with sparse vectors\n",
    "a = sparsevec([123456, 123457], [1.0, -1.0], 10^6)"
   ]
  },
  {
   "cell_type": "code",
   "execution_count": 126,
   "metadata": {},
   "outputs": [
    {
     "data": {
      "text/plain": [
       "2"
      ]
     },
     "execution_count": 126,
     "metadata": {},
     "output_type": "execute_result"
    }
   ],
   "source": [
    "# Number of nonzero entries\n",
    "nnz(a)"
   ]
  },
  {
   "cell_type": "code",
   "execution_count": 129,
   "metadata": {},
   "outputs": [
    {
     "name": "stdout",
     "output_type": "stream",
     "text": [
      "  0.079481 seconds (167.76 k allocations: 8.395 MiB)\n"
     ]
    },
    {
     "data": {
      "text/plain": [
       "1000000-element SparseVector{Float64,Int64} with 2 stored entries:\n",
       "  [123456 ]  =  2.0\n",
       "  [123457 ]  =  -2.0"
      ]
     },
     "execution_count": 129,
     "metadata": {},
     "output_type": "execute_result"
    }
   ],
   "source": [
    "b = randn(10^6) # an ordinary vector of the same length"
   ]
  },
  {
   "cell_type": "code",
   "execution_count": 130,
   "metadata": {},
   "outputs": [
    {
     "name": "stdout",
     "output_type": "stream",
     "text": [
      "  0.000007 seconds (3 allocations: 224 bytes)\n"
     ]
    },
    {
     "data": {
      "text/plain": [
       "1000000-element SparseVector{Float64,Int64} with 2 stored entries:\n",
       "  [123456 ]  =  2.0\n",
       "  [123457 ]  =  -2.0"
      ]
     },
     "execution_count": 130,
     "metadata": {},
     "output_type": "execute_result"
    }
   ],
   "source": [
    "@time 2*a\n"
   ]
  },
  {
   "cell_type": "code",
   "execution_count": 131,
   "metadata": {},
   "outputs": [
    {
     "name": "stdout",
     "output_type": "stream",
     "text": [
      "  0.014833 seconds (103 allocations: 7.635 MiB, 68.25% gc time)\n"
     ]
    },
    {
     "data": {
      "text/plain": [
       "1000000-element Array{Float64,1}:\n",
       "  1.871638614263517\n",
       " -3.57427630862097\n",
       "  0.09378814874229188\n",
       "  4.979501223312514\n",
       "  2.1695077704446373\n",
       "  2.7327143397031826\n",
       "  0.6841217575149326\n",
       " -2.1696733508921797\n",
       "  4.075242413909834\n",
       "  2.9875477149186223\n",
       " -1.703582886013732\n",
       " -1.1160256834227409\n",
       "  1.259897665121962\n",
       "  ⋮\n",
       " -1.8787046124871911\n",
       "  0.6609790614114054\n",
       "  3.1482661588891614\n",
       " -1.2973384703734068\n",
       " -2.8943268359410457\n",
       "  3.1359170801219047\n",
       "  1.6126823032524389\n",
       "  1.0066555858095216\n",
       " -3.243927765080001\n",
       "  1.3043480889605072\n",
       "  1.228439885780828\n",
       " -0.6246853709913928"
      ]
     },
     "execution_count": 131,
     "metadata": {},
     "output_type": "execute_result"
    }
   ],
   "source": [
    "@time 2*b"
   ]
  },
  {
   "cell_type": "code",
   "execution_count": 132,
   "metadata": {},
   "outputs": [
    {
     "name": "stdout",
     "output_type": "stream",
     "text": [
      "  0.000431 seconds (2 allocations: 32 bytes)\n"
     ]
    },
    {
     "data": {
      "text/plain": [
       "1.0004412605874831e6"
      ]
     },
     "execution_count": 132,
     "metadata": {},
     "output_type": "execute_result"
    }
   ],
   "source": [
    "@time b'b"
   ]
  },
  {
   "cell_type": "code",
   "execution_count": 133,
   "metadata": {},
   "outputs": [
    {
     "name": "stdout",
     "output_type": "stream",
     "text": [
      "  0.073696 seconds (96.14 k allocations: 5.001 MiB)\n"
     ]
    },
    {
     "data": {
      "text/plain": [
       "2.0"
      ]
     },
     "execution_count": 133,
     "metadata": {},
     "output_type": "execute_result"
    }
   ],
   "source": [
    "@time a'a"
   ]
  },
  {
   "cell_type": "code",
   "execution_count": 134,
   "metadata": {},
   "outputs": [
    {
     "name": "stdout",
     "output_type": "stream",
     "text": [
      "  0.426075 seconds (1.36 M allocations: 99.444 MiB, 5.64% gc time)\n"
     ]
    },
    {
     "data": {
      "text/plain": [
       "1000000-element SparseVector{Float64,Int64} with 1000000 stored entries:\n",
       "  [1      ]  =  0.935819\n",
       "  [2      ]  =  -1.78714\n",
       "  [3      ]  =  0.0468941\n",
       "  [4      ]  =  2.48975\n",
       "  [5      ]  =  1.08475\n",
       "  [6      ]  =  1.36636\n",
       "  [7      ]  =  0.342061\n",
       "  [8      ]  =  -1.08484\n",
       "  [9      ]  =  2.03762\n",
       "  [10     ]  =  1.49377\n",
       "             ⋮\n",
       "  [999990 ]  =  0.33049\n",
       "  [999991 ]  =  1.57413\n",
       "  [999992 ]  =  -0.648669\n",
       "  [999993 ]  =  -1.44716\n",
       "  [999994 ]  =  1.56796\n",
       "  [999995 ]  =  0.806341\n",
       "  [999996 ]  =  0.503328\n",
       "  [999997 ]  =  -1.62196\n",
       "  [999998 ]  =  0.652174\n",
       "  [999999 ]  =  0.61422\n",
       "  [1000000]  =  -0.312343"
      ]
     },
     "execution_count": 134,
     "metadata": {},
     "output_type": "execute_result"
    }
   ],
   "source": [
    "@time c = a + b"
   ]
  },
  {
   "cell_type": "code",
   "execution_count": null,
   "metadata": {},
   "outputs": [],
   "source": []
  }
 ],
 "metadata": {
  "kernelspec": {
   "display_name": "Julia 1.4.2",
   "language": "julia",
   "name": "julia-1.4"
  },
  "language_info": {
   "file_extension": ".jl",
   "mimetype": "application/julia",
   "name": "julia",
   "version": "1.4.2"
  }
 },
 "nbformat": 4,
 "nbformat_minor": 4
}
