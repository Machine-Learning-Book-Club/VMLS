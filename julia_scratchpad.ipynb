{
 "cells": [
  {
   "cell_type": "markdown",
   "metadata": {},
   "source": [
    "# Julia Scratchpad for VMLS"
   ]
  },
  {
   "cell_type": "code",
   "execution_count": 1,
   "metadata": {},
   "outputs": [],
   "source": [
    "# Already Installed the appropriate libraries"
   ]
  },
  {
   "cell_type": "code",
   "execution_count": 2,
   "metadata": {},
   "outputs": [
    {
     "name": "stderr",
     "output_type": "stream",
     "text": [
      "┌ Info: Precompiling VMLS [44dac47c-a70e-11e8-3cff-fbf5f1f7c554]\n",
      "└ @ Base loading.jl:1278\n",
      "┌ Info: Precompiling Plots [91a5bcdd-55d7-5caf-9e0b-520d859cae80]\n",
      "└ @ Base loading.jl:1278\n"
     ]
    }
   ],
   "source": [
    "using LinearAlgebra, SparseArrays, VMLS, Plots"
   ]
  },
  {
   "cell_type": "code",
   "execution_count": 3,
   "metadata": {},
   "outputs": [
    {
     "data": {
      "text/plain": [
       "Array{Int64,1}"
      ]
     },
     "execution_count": 3,
     "metadata": {},
     "output_type": "execute_result"
    }
   ],
   "source": [
    "a = [1, 2, 3]\n",
    "typeof(a)"
   ]
  },
  {
   "cell_type": "code",
   "execution_count": 4,
   "metadata": {},
   "outputs": [
    {
     "data": {
      "text/plain": [
       "3"
      ]
     },
     "execution_count": 4,
     "metadata": {},
     "output_type": "execute_result"
    }
   ],
   "source": [
    "length(a)"
   ]
  },
  {
   "cell_type": "code",
   "execution_count": 5,
   "metadata": {},
   "outputs": [
    {
     "data": {
      "text/plain": [
       "length (generic function with 179 methods)"
      ]
     },
     "execution_count": 5,
     "metadata": {},
     "output_type": "execute_result"
    }
   ],
   "source": [
    "# Mini-Python API for utility, error-correction, and poka-yoke (see https://www.google.com/search?q=Poka-yoke)\n",
    "type = typeof\n",
    "len = length"
   ]
  },
  {
   "cell_type": "markdown",
   "metadata": {},
   "source": [
    "## Cuidado!\n",
    "- Always remember commas between elements in Julia (or we'll get something that's not a vector)\n",
    "- Always remember square brackets for vectors/arrays or we'll get tuples"
   ]
  },
  {
   "cell_type": "code",
   "execution_count": 6,
   "metadata": {},
   "outputs": [
    {
     "data": {
      "text/plain": [
       "5"
      ]
     },
     "execution_count": 6,
     "metadata": {},
     "output_type": "execute_result"
    }
   ],
   "source": [
    "# Julia indexing is 1-index\n",
    "a = [5, 6, 7, 8]\n",
    "a[1]"
   ]
  },
  {
   "cell_type": "code",
   "execution_count": 7,
   "metadata": {},
   "outputs": [
    {
     "data": {
      "text/plain": [
       "3-element Array{Int64,1}:\n",
       " 1\n",
       " 5\n",
       " 3"
      ]
     },
     "execution_count": 7,
     "metadata": {},
     "output_type": "execute_result"
    }
   ],
   "source": [
    "# Assignment vs. copying\n",
    "# It appears that Julia assignment works like referenes to objects...\n",
    "a = [1, 2, 3]\n",
    "b = a\n",
    "b[2] = 5\n",
    "a"
   ]
  },
  {
   "cell_type": "code",
   "execution_count": 8,
   "metadata": {},
   "outputs": [
    {
     "data": {
      "text/plain": [
       "3-element Array{Int64,1}:\n",
       " 1\n",
       " 2\n",
       " 3"
      ]
     },
     "execution_count": 8,
     "metadata": {},
     "output_type": "execute_result"
    }
   ],
   "source": [
    "# So if we want a copy, we'll need to make a copy\n",
    "a = [1, 2, 3]\n",
    "b = copy(a)\n",
    "b[2] = 5\n",
    "a"
   ]
  },
  {
   "cell_type": "code",
   "execution_count": 9,
   "metadata": {},
   "outputs": [
    {
     "data": {
      "text/plain": [
       "false"
      ]
     },
     "execution_count": 9,
     "metadata": {},
     "output_type": "execute_result"
    }
   ],
   "source": [
    "# Vector Equality\n",
    "a == b"
   ]
  },
  {
   "cell_type": "code",
   "execution_count": 10,
   "metadata": {},
   "outputs": [
    {
     "data": {
      "text/plain": [
       "true"
      ]
     },
     "execution_count": 10,
     "metadata": {},
     "output_type": "execute_result"
    }
   ],
   "source": [
    "a == [1, 2, 3]"
   ]
  },
  {
   "cell_type": "code",
   "execution_count": 11,
   "metadata": {},
   "outputs": [
    {
     "data": {
      "text/plain": [
       "false"
      ]
     },
     "execution_count": 11,
     "metadata": {},
     "output_type": "execute_result"
    }
   ],
   "source": [
    "# Julia doesn't treat 1-vectors as scalars or scalars as 1-vectors, unfortunately.\n",
    "# It would be nice to expand the functionality of the data types and operators to support this...\n",
    "1 == [1]"
   ]
  },
  {
   "cell_type": "code",
   "execution_count": 12,
   "metadata": {},
   "outputs": [
    {
     "data": {
      "text/plain": [
       "true"
      ]
     },
     "execution_count": 12,
     "metadata": {},
     "output_type": "execute_result"
    }
   ],
   "source": [
    "a = [3]\n",
    "3 == a[1]"
   ]
  },
  {
   "cell_type": "code",
   "execution_count": 13,
   "metadata": {},
   "outputs": [
    {
     "data": {
      "text/plain": [
       "6-element Array{Int64,1}:\n",
       " 1\n",
       " 2\n",
       " 3\n",
       " 4\n",
       " 5\n",
       " 6"
      ]
     },
     "execution_count": 13,
     "metadata": {},
     "output_type": "execute_result"
    }
   ],
   "source": [
    "# Blocked or stacked Vectors use the semicolon operator or the vcat vertical concatenation function\n",
    "x = [1, 2, 3]\n",
    "y = [4, 5, 6]\n",
    "z = [x; y]\n",
    "z"
   ]
  },
  {
   "cell_type": "code",
   "execution_count": 14,
   "metadata": {},
   "outputs": [
    {
     "data": {
      "text/plain": [
       "6-element Array{Int64,1}:\n",
       " 1\n",
       " 2\n",
       " 3\n",
       " 4\n",
       " 5\n",
       " 6"
      ]
     },
     "execution_count": 14,
     "metadata": {},
     "output_type": "execute_result"
    }
   ],
   "source": [
    "z = vcat(x, y)\n",
    "z"
   ]
  },
  {
   "cell_type": "code",
   "execution_count": 15,
   "metadata": {},
   "outputs": [
    {
     "data": {
      "text/plain": [
       "9-element Array{Float64,1}:\n",
       " 1.0\n",
       " 2.0\n",
       " 3.0\n",
       " 3.141\n",
       " 4.0\n",
       " 5.0\n",
       " 6.0\n",
       " 4.0\n",
       " 4.0"
      ]
     },
     "execution_count": 15,
     "metadata": {},
     "output_type": "execute_result"
    }
   ],
   "source": [
    "# As with the mathematical notation, we can concatenate/block/stack vectors with scalars\n",
    "z = [x; 3.141; y; [4, 4]]"
   ]
  },
  {
   "cell_type": "code",
   "execution_count": 16,
   "metadata": {},
   "outputs": [
    {
     "data": {
      "text/plain": [
       "3-element Array{Int64,1}:\n",
       " 5\n",
       " 6\n",
       " 7"
      ]
     },
     "execution_count": 16,
     "metadata": {},
     "output_type": "execute_result"
    }
   ],
   "source": [
    "# Subvectors and slicing\n",
    "# Slicing is inclusive of beginning and ending elements\n",
    "a = [5, 6, 7, 8]\n",
    "a[1:3]"
   ]
  },
  {
   "cell_type": "code",
   "execution_count": 17,
   "metadata": {},
   "outputs": [
    {
     "data": {
      "text/plain": [
       "4-element Array{Int64,1}:\n",
       " 2\n",
       " 2\n",
       " 2\n",
       " 8"
      ]
     },
     "execution_count": 17,
     "metadata": {},
     "output_type": "execute_result"
    }
   ],
   "source": [
    "# Reassign a slice\n",
    "a[1:3] = [2, 2, 2]\n",
    "a"
   ]
  },
  {
   "cell_type": "code",
   "execution_count": 18,
   "metadata": {},
   "outputs": [
    {
     "data": {
      "text/plain": [
       "true"
      ]
     },
     "execution_count": 18,
     "metadata": {},
     "output_type": "execute_result"
    }
   ],
   "source": [
    "1 in [1, 2, 3]"
   ]
  },
  {
   "cell_type": "code",
   "execution_count": 19,
   "metadata": {},
   "outputs": [
    {
     "data": {
      "text/plain": [
       "false"
      ]
     },
     "execution_count": 19,
     "metadata": {},
     "output_type": "execute_result"
    }
   ],
   "source": [
    "# this would be cooler if it were vectorized...\n",
    "[1, 2] in [2, 2, 3]"
   ]
  },
  {
   "cell_type": "code",
   "execution_count": 20,
   "metadata": {},
   "outputs": [
    {
     "data": {
      "text/plain": [
       "true"
      ]
     },
     "execution_count": 20,
     "metadata": {},
     "output_type": "execute_result"
    }
   ],
   "source": [
    "# The issubset function works\n",
    "issubset([1, 2], [1, 2, 3])"
   ]
  },
  {
   "cell_type": "code",
   "execution_count": 21,
   "metadata": {},
   "outputs": [
    {
     "data": {
      "text/plain": [
       "true"
      ]
     },
     "execution_count": 21,
     "metadata": {},
     "output_type": "execute_result"
    }
   ],
   "source": [
    "# Holy Guacamole!\n",
    "# Use the latex symbol \\subseteq and it works\n",
    "[1, 2] ⊆ [1, 2, 3]"
   ]
  },
  {
   "cell_type": "code",
   "execution_count": 22,
   "metadata": {},
   "outputs": [
    {
     "data": {
      "text/plain": [
       "12.566370614359172"
      ]
     },
     "execution_count": 22,
     "metadata": {},
     "output_type": "execute_result"
    }
   ],
   "source": [
    "π * 4"
   ]
  },
  {
   "cell_type": "code",
   "execution_count": 23,
   "metadata": {},
   "outputs": [
    {
     "data": {
      "text/plain": [
       "true"
      ]
     },
     "execution_count": 23,
     "metadata": {},
     "output_type": "execute_result"
    }
   ],
   "source": [
    "# The latex \\leq produces the correct operator and the correct operation!\n",
    "2 ≤ 3"
   ]
  },
  {
   "cell_type": "code",
   "execution_count": 24,
   "metadata": {},
   "outputs": [
    {
     "data": {
      "text/plain": [
       "true"
      ]
     },
     "execution_count": 24,
     "metadata": {},
     "output_type": "execute_result"
    }
   ],
   "source": [
    "# The latex \\in symbol is fully operational (for scalar membership)\n",
    "2 ∈ [1, 2, 3]"
   ]
  },
  {
   "cell_type": "code",
   "execution_count": 25,
   "metadata": {},
   "outputs": [
    {
     "data": {
      "text/plain": [
       "true"
      ]
     },
     "execution_count": 25,
     "metadata": {},
     "output_type": "execute_result"
    }
   ],
   "source": [
    "[1, 2] ∈ [[1, 2], 3]"
   ]
  },
  {
   "cell_type": "code",
   "execution_count": 26,
   "metadata": {},
   "outputs": [
    {
     "data": {
      "text/plain": [
       "false"
      ]
     },
     "execution_count": 26,
     "metadata": {},
     "output_type": "execute_result"
    }
   ],
   "source": [
    "[1] ∈ [1; 2; 3]"
   ]
  },
  {
   "cell_type": "code",
   "execution_count": 27,
   "metadata": {},
   "outputs": [
    {
     "data": {
      "text/plain": [
       "3-element Array{Int64,1}:\n",
       " 3\n",
       " 4\n",
       " 5"
      ]
     },
     "execution_count": 27,
     "metadata": {},
     "output_type": "execute_result"
    }
   ],
   "source": [
    "a = [1, 2, 3, 4, 5]\n",
    "\n",
    "# the end argument is right on target!\n",
    "a[3:end]"
   ]
  },
  {
   "cell_type": "code",
   "execution_count": 28,
   "metadata": {},
   "outputs": [
    {
     "data": {
      "text/plain": [
       "5"
      ]
     },
     "execution_count": 28,
     "metadata": {},
     "output_type": "execute_result"
    }
   ],
   "source": [
    "# End returns the last element of the array\n",
    "a[end]"
   ]
  },
  {
   "cell_type": "code",
   "execution_count": 29,
   "metadata": {},
   "outputs": [
    {
     "data": {
      "text/plain": [
       "4-element Array{Int64,1}:\n",
       " -1\n",
       "  0\n",
       " -2\n",
       "  4"
      ]
     },
     "execution_count": 29,
     "metadata": {},
     "output_type": "execute_result"
    }
   ],
   "source": [
    "x = [1, 0, 0, -2, 2]\n",
    "\n",
    "# Build a vector of differences using \"end\"\n",
    "# \"end-1\" needs the operator/operands right close together\n",
    "d = x[2:end] - x[1:end-1]"
   ]
  },
  {
   "cell_type": "code",
   "execution_count": 30,
   "metadata": {},
   "outputs": [
    {
     "data": {
      "text/plain": [
       "3-element Array{Array{Int64,1},1}:\n",
       " [1, 2, 3]\n",
       " [4, 5, 6]\n",
       " [7, 8, 9]"
      ]
     },
     "execution_count": 30,
     "metadata": {},
     "output_type": "execute_result"
    }
   ],
   "source": [
    "# Making lists of vectors in Julia\n",
    "a = [1, 2, 3]\n",
    "b = [4, 5, 6]\n",
    "c = [7, 8, 9]\n",
    "list = [a, b, c]"
   ]
  },
  {
   "cell_type": "code",
   "execution_count": 31,
   "metadata": {},
   "outputs": [
    {
     "data": {
      "text/plain": [
       "3-element Array{Int64,1}:\n",
       " 4\n",
       " 5\n",
       " 6"
      ]
     },
     "execution_count": 31,
     "metadata": {},
     "output_type": "execute_result"
    }
   ],
   "source": [
    "# second element of the list\n",
    "list[2]"
   ]
  },
  {
   "cell_type": "code",
   "execution_count": 32,
   "metadata": {},
   "outputs": [],
   "source": [
    "# NOTE the difference between the list [a, b, c] (which is an array of arrays) and the block vector [a; b; c]"
   ]
  },
  {
   "cell_type": "code",
   "execution_count": 33,
   "metadata": {},
   "outputs": [
    {
     "name": "stdout",
     "output_type": "stream",
     "text": [
      "d is[1, 2, 2, 3, 3, 4]\n",
      "e is[[1, 2], [2, 3], [3, 4]]\n"
     ]
    }
   ],
   "source": [
    "# list of vectors vs. concatednated vectors\n",
    "a = [1, 2]\n",
    "b = [2, 3]\n",
    "c = [3, 4]\n",
    "\n",
    "# block/stack/concatenated vectors\n",
    "d = [a; b; c]\n",
    "\n",
    "e = [a, b, c]\n",
    "\n",
    "println(\"d is\", d)\n",
    "println(\"e is\", e)"
   ]
  },
  {
   "cell_type": "code",
   "execution_count": 34,
   "metadata": {},
   "outputs": [
    {
     "data": {
      "text/plain": [
       "2-element Array{Float64,1}:\n",
       " 0.0\n",
       " 0.0"
      ]
     },
     "execution_count": 34,
     "metadata": {},
     "output_type": "execute_result"
    }
   ],
   "source": [
    "# Zero vectors\n",
    "zeros(2)"
   ]
  },
  {
   "cell_type": "code",
   "execution_count": 35,
   "metadata": {},
   "outputs": [
    {
     "data": {
      "text/plain": [
       "2-element Array{Float64,1}:\n",
       " 0.0\n",
       " 0.0"
      ]
     },
     "execution_count": 35,
     "metadata": {},
     "output_type": "execute_result"
    }
   ],
   "source": [
    "# Creates a vector of zeros the length of a\n",
    "zeros(length(a))"
   ]
  },
  {
   "cell_type": "code",
   "execution_count": 36,
   "metadata": {},
   "outputs": [
    {
     "data": {
      "text/plain": [
       "4-element Array{Float64,1}:\n",
       " 0.0\n",
       " 1.0\n",
       " 0.0\n",
       " 0.0"
      ]
     },
     "execution_count": 36,
     "metadata": {},
     "output_type": "execute_result"
    }
   ],
   "source": [
    "# Unit vectors\n",
    "i = 2; n = 4;\n",
    "\n",
    "ei = zeros(n)\n",
    "\n",
    "# Set the i-th element to 1\n",
    "ei[i] = 1 \n",
    "ei"
   ]
  },
  {
   "cell_type": "code",
   "execution_count": 37,
   "metadata": {},
   "outputs": [
    {
     "data": {
      "text/plain": [
       "unit_vector (generic function with 1 method)"
      ]
     },
     "execution_count": 37,
     "metadata": {},
     "output_type": "execute_result"
    }
   ],
   "source": [
    "function unit_vector(i, n)\n",
    "    return [zeros(i-1); i; [zeros(n-i)]]\n",
    "end"
   ]
  },
  {
   "cell_type": "code",
   "execution_count": 38,
   "metadata": {},
   "outputs": [
    {
     "data": {
      "text/plain": [
       "unit_vector (generic function with 1 method)"
      ]
     },
     "execution_count": 38,
     "metadata": {},
     "output_type": "execute_result"
    }
   ],
   "source": [
    "# Another way to create ei\n",
    "\n",
    "# This creates a funcion\n",
    "unit_vector(i, n) = [zeros(i-1); 1; zeros(n-i)]"
   ]
  },
  {
   "cell_type": "code",
   "execution_count": 39,
   "metadata": {},
   "outputs": [
    {
     "name": "stdout",
     "output_type": "stream",
     "text": [
      "e_i for 1 is [1.0, 0.0, 0.0]\n",
      "e_i for 2 is [0.0, 1.0, 0.0]\n",
      "e_i for 3 is [0.0, 0.0, 1.0]\n"
     ]
    }
   ],
   "source": [
    "println(\"e_i for 1 is \", unit_vector(1, 3))\n",
    "println(\"e_i for 2 is \", unit_vector(2, 3))\n",
    "println(\"e_i for 3 is \", unit_vector(3, 3))"
   ]
  },
  {
   "cell_type": "code",
   "execution_count": 40,
   "metadata": {},
   "outputs": [
    {
     "data": {
      "text/plain": [
       "2-element Array{Float64,1}:\n",
       " 1.0\n",
       " 1.0"
      ]
     },
     "execution_count": 40,
     "metadata": {},
     "output_type": "execute_result"
    }
   ],
   "source": [
    "# Ones vector\n",
    "ones(2)"
   ]
  },
  {
   "cell_type": "code",
   "execution_count": 41,
   "metadata": {},
   "outputs": [
    {
     "data": {
      "text/plain": [
       "3-element Array{Float64,1}:\n",
       " 0.0672415669696198\n",
       " 0.5614848111832593\n",
       " 0.5174842851751231"
      ]
     },
     "execution_count": 41,
     "metadata": {},
     "output_type": "execute_result"
    }
   ],
   "source": [
    "# rand is a function that makes a vector of random numbers between 0 and 1\n",
    "rand(3)"
   ]
  },
  {
   "cell_type": "code",
   "execution_count": 42,
   "metadata": {},
   "outputs": [
    {
     "data": {
      "text/plain": [
       "3-element Array{Float64,1}:\n",
       " -0.09177898494299164\n",
       " -1.2548981161454174\n",
       "  1.4301516949339843"
      ]
     },
     "execution_count": 42,
     "metadata": {},
     "output_type": "execute_result"
    }
   ],
   "source": [
    "# randn generates random numbers with a Gaussian distribution\n",
    "randn(3)"
   ]
  },
  {
   "cell_type": "markdown",
   "metadata": {},
   "source": [
    "## Plotting with Plots.jl"
   ]
  },
  {
   "cell_type": "code",
   "execution_count": 43,
   "metadata": {},
   "outputs": [],
   "source": [
    "# import\n",
    "using Plots"
   ]
  },
  {
   "cell_type": "code",
   "execution_count": 44,
   "metadata": {},
   "outputs": [
    {
     "data": {
      "text/plain": [
       "20-element Array{Float64,1}:\n",
       " 68.6904629253788\n",
       " 16.6210219453054\n",
       " 13.149306147089721\n",
       " 48.33281902675928\n",
       " 59.65436608983474\n",
       " 59.65614009547109\n",
       " 36.767038394119105\n",
       " 66.17082794368797\n",
       " 31.003782481902622\n",
       " 17.87477787325031\n",
       " 68.21974157732377\n",
       " 25.518255482745946\n",
       " 56.64585935706447\n",
       "  0.40711290765949926\n",
       " 29.044885353280634\n",
       " 25.129100523523817\n",
       " 23.021181849737538\n",
       " 15.378384534461382\n",
       " 77.30529915260787\n",
       " 13.665436528045163"
      ]
     },
     "execution_count": 44,
     "metadata": {},
     "output_type": "execute_result"
    }
   ],
   "source": [
    "temps = rand(20) * 80"
   ]
  },
  {
   "cell_type": "code",
   "execution_count": 45,
   "metadata": {},
   "outputs": [
    {
     "data": {
      "image/svg+xml": [
       "<?xml version=\"1.0\" encoding=\"utf-8\"?>\n",
       "<svg xmlns=\"http://www.w3.org/2000/svg\" xmlns:xlink=\"http://www.w3.org/1999/xlink\" width=\"600\" height=\"400\" viewBox=\"0 0 2400 1600\">\n",
       "<defs>\n",
       "  <clipPath id=\"clip460\">\n",
       "    <rect x=\"0\" y=\"0\" width=\"2400\" height=\"1600\"/>\n",
       "  </clipPath>\n",
       "</defs>\n",
       "<path clip-path=\"url(#clip460)\" d=\"\n",
       "M0 1600 L2400 1600 L2400 0 L0 0  Z\n",
       "  \" fill=\"#ffffff\" fill-rule=\"evenodd\" fill-opacity=\"1\"/>\n",
       "<defs>\n",
       "  <clipPath id=\"clip461\">\n",
       "    <rect x=\"480\" y=\"0\" width=\"1681\" height=\"1600\"/>\n",
       "  </clipPath>\n",
       "</defs>\n",
       "<path clip-path=\"url(#clip460)\" d=\"\n",
       "M139.191 1486.45 L2352.76 1486.45 L2352.76 123.472 L139.191 123.472  Z\n",
       "  \" fill=\"#ffffff\" fill-rule=\"evenodd\" fill-opacity=\"1\"/>\n",
       "<defs>\n",
       "  <clipPath id=\"clip462\">\n",
       "    <rect x=\"139\" y=\"123\" width=\"2215\" height=\"1364\"/>\n",
       "  </clipPath>\n",
       "</defs>\n",
       "<polyline clip-path=\"url(#clip460)\" style=\"stroke:#000000; stroke-width:4; stroke-opacity:1; fill:none\" points=\"\n",
       "  139.191,1486.45 2352.76,1486.45 \n",
       "  \"/>\n",
       "<polyline clip-path=\"url(#clip460)\" style=\"stroke:#000000; stroke-width:4; stroke-opacity:1; fill:none\" points=\"\n",
       "  139.191,1486.45 139.191,123.472 \n",
       "  \"/>\n",
       "<polyline clip-path=\"url(#clip460)\" style=\"stroke:#000000; stroke-width:4; stroke-opacity:1; fill:none\" points=\"\n",
       "  641.475,1486.45 641.475,1470.09 \n",
       "  \"/>\n",
       "<polyline clip-path=\"url(#clip460)\" style=\"stroke:#000000; stroke-width:4; stroke-opacity:1; fill:none\" points=\"\n",
       "  1191.02,1486.45 1191.02,1470.09 \n",
       "  \"/>\n",
       "<polyline clip-path=\"url(#clip460)\" style=\"stroke:#000000; stroke-width:4; stroke-opacity:1; fill:none\" points=\"\n",
       "  1740.56,1486.45 1740.56,1470.09 \n",
       "  \"/>\n",
       "<polyline clip-path=\"url(#clip460)\" style=\"stroke:#000000; stroke-width:4; stroke-opacity:1; fill:none\" points=\"\n",
       "  2290.11,1486.45 2290.11,1470.09 \n",
       "  \"/>\n",
       "<polyline clip-path=\"url(#clip460)\" style=\"stroke:#000000; stroke-width:4; stroke-opacity:1; fill:none\" points=\"\n",
       "  139.191,1454.68 165.754,1454.68 \n",
       "  \"/>\n",
       "<polyline clip-path=\"url(#clip460)\" style=\"stroke:#000000; stroke-width:4; stroke-opacity:1; fill:none\" points=\"\n",
       "  139.191,1120.26 165.754,1120.26 \n",
       "  \"/>\n",
       "<polyline clip-path=\"url(#clip460)\" style=\"stroke:#000000; stroke-width:4; stroke-opacity:1; fill:none\" points=\"\n",
       "  139.191,785.834 165.754,785.834 \n",
       "  \"/>\n",
       "<polyline clip-path=\"url(#clip460)\" style=\"stroke:#000000; stroke-width:4; stroke-opacity:1; fill:none\" points=\"\n",
       "  139.191,451.411 165.754,451.411 \n",
       "  \"/>\n",
       "<path clip-path=\"url(#clip460)\" d=\"M 0 0 M631.752 1505.36 L650.109 1505.36 L650.109 1509.3 L636.035 1509.3 L636.035 1517.77 Q637.053 1517.42 638.072 1517.26 Q639.09 1517.07 640.109 1517.07 Q645.896 1517.07 649.275 1520.24 Q652.655 1523.42 652.655 1528.83 Q652.655 1534.41 649.183 1537.51 Q645.711 1540.59 639.391 1540.59 Q637.215 1540.59 634.947 1540.22 Q632.701 1539.85 630.294 1539.11 L630.294 1534.41 Q632.377 1535.54 634.6 1536.1 Q636.822 1536.66 639.299 1536.66 Q643.303 1536.66 645.641 1534.55 Q647.979 1532.44 647.979 1528.83 Q647.979 1525.22 645.641 1523.11 Q643.303 1521.01 639.299 1521.01 Q637.424 1521.01 635.549 1521.42 Q633.697 1521.84 631.752 1522.72 L631.752 1505.36 Z\" fill=\"#000000\" fill-rule=\"evenodd\" fill-opacity=\"1\" /><path clip-path=\"url(#clip460)\" d=\"M 0 0 M1167.89 1535.98 L1175.53 1535.98 L1175.53 1509.62 L1167.22 1511.29 L1167.22 1507.03 L1175.49 1505.36 L1180.16 1505.36 L1180.16 1535.98 L1187.8 1535.98 L1187.8 1539.92 L1167.89 1539.92 L1167.89 1535.98 Z\" fill=\"#000000\" fill-rule=\"evenodd\" fill-opacity=\"1\" /><path clip-path=\"url(#clip460)\" d=\"M 0 0 M1202.87 1508.44 Q1199.26 1508.44 1197.43 1512 Q1195.63 1515.55 1195.63 1522.67 Q1195.63 1529.78 1197.43 1533.35 Q1199.26 1536.89 1202.87 1536.89 Q1206.5 1536.89 1208.31 1533.35 Q1210.14 1529.78 1210.14 1522.67 Q1210.14 1515.55 1208.31 1512 Q1206.5 1508.44 1202.87 1508.44 M1202.87 1504.73 Q1208.68 1504.73 1211.74 1509.34 Q1214.82 1513.92 1214.82 1522.67 Q1214.82 1531.4 1211.74 1536.01 Q1208.68 1540.59 1202.87 1540.59 Q1197.06 1540.59 1193.98 1536.01 Q1190.93 1531.4 1190.93 1522.67 Q1190.93 1513.92 1193.98 1509.34 Q1197.06 1504.73 1202.87 1504.73 Z\" fill=\"#000000\" fill-rule=\"evenodd\" fill-opacity=\"1\" /><path clip-path=\"url(#clip460)\" d=\"M 0 0 M1717.94 1535.98 L1725.58 1535.98 L1725.58 1509.62 L1717.26 1511.29 L1717.26 1507.03 L1725.53 1505.36 L1730.2 1505.36 L1730.2 1535.98 L1737.84 1535.98 L1737.84 1539.92 L1717.94 1539.92 L1717.94 1535.98 Z\" fill=\"#000000\" fill-rule=\"evenodd\" fill-opacity=\"1\" /><path clip-path=\"url(#clip460)\" d=\"M 0 0 M1742.96 1505.36 L1761.32 1505.36 L1761.32 1509.3 L1747.24 1509.3 L1747.24 1517.77 Q1748.26 1517.42 1749.28 1517.26 Q1750.3 1517.07 1751.32 1517.07 Q1757.1 1517.07 1760.48 1520.24 Q1763.86 1523.42 1763.86 1528.83 Q1763.86 1534.41 1760.39 1537.51 Q1756.92 1540.59 1750.6 1540.59 Q1748.42 1540.59 1746.15 1540.22 Q1743.91 1539.85 1741.5 1539.11 L1741.5 1534.41 Q1743.58 1535.54 1745.81 1536.1 Q1748.03 1536.66 1750.51 1536.66 Q1754.51 1536.66 1756.85 1534.55 Q1759.19 1532.44 1759.19 1528.83 Q1759.19 1525.22 1756.85 1523.11 Q1754.51 1521.01 1750.51 1521.01 Q1748.63 1521.01 1746.76 1521.42 Q1744.9 1521.84 1742.96 1522.72 L1742.96 1505.36 Z\" fill=\"#000000\" fill-rule=\"evenodd\" fill-opacity=\"1\" /><path clip-path=\"url(#clip460)\" d=\"M 0 0 M2271.25 1535.98 L2287.57 1535.98 L2287.57 1539.92 L2265.63 1539.92 L2265.63 1535.98 Q2268.29 1533.23 2272.87 1528.6 Q2277.48 1523.95 2278.66 1522.61 Q2280.91 1520.08 2281.79 1518.35 Q2282.69 1516.59 2282.69 1514.9 Q2282.69 1512.14 2280.74 1510.41 Q2278.82 1508.67 2275.72 1508.67 Q2273.52 1508.67 2271.07 1509.43 Q2268.64 1510.2 2265.86 1511.75 L2265.86 1507.03 Q2268.68 1505.89 2271.14 1505.31 Q2273.59 1504.73 2275.63 1504.73 Q2281 1504.73 2284.19 1507.42 Q2287.39 1510.11 2287.39 1514.6 Q2287.39 1516.73 2286.58 1518.65 Q2285.79 1520.54 2283.68 1523.14 Q2283.11 1523.81 2280 1527.03 Q2276.9 1530.22 2271.25 1535.98 Z\" fill=\"#000000\" fill-rule=\"evenodd\" fill-opacity=\"1\" /><path clip-path=\"url(#clip460)\" d=\"M 0 0 M2302.64 1508.44 Q2299.03 1508.44 2297.2 1512 Q2295.4 1515.55 2295.4 1522.67 Q2295.4 1529.78 2297.2 1533.35 Q2299.03 1536.89 2302.64 1536.89 Q2306.28 1536.89 2308.08 1533.35 Q2309.91 1529.78 2309.91 1522.67 Q2309.91 1515.55 2308.08 1512 Q2306.28 1508.44 2302.64 1508.44 M2302.64 1504.73 Q2308.45 1504.73 2311.51 1509.34 Q2314.59 1513.92 2314.59 1522.67 Q2314.59 1531.4 2311.51 1536.01 Q2308.45 1540.59 2302.64 1540.59 Q2296.83 1540.59 2293.75 1536.01 Q2290.7 1531.4 2290.7 1522.67 Q2290.7 1513.92 2293.75 1509.34 Q2296.83 1504.73 2302.64 1504.73 Z\" fill=\"#000000\" fill-rule=\"evenodd\" fill-opacity=\"1\" /><path clip-path=\"url(#clip460)\" d=\"M 0 0 M103.247 1440.48 Q99.6354 1440.48 97.8068 1444.04 Q96.0012 1447.59 96.0012 1454.72 Q96.0012 1461.82 97.8068 1465.39 Q99.6354 1468.93 103.247 1468.93 Q106.881 1468.93 108.686 1465.39 Q110.515 1461.82 110.515 1454.72 Q110.515 1447.59 108.686 1444.04 Q106.881 1440.48 103.247 1440.48 M103.247 1436.78 Q109.057 1436.78 112.112 1441.38 Q115.191 1445.97 115.191 1454.72 Q115.191 1463.44 112.112 1468.05 Q109.057 1472.63 103.247 1472.63 Q97.4364 1472.63 94.3577 1468.05 Q91.3022 1463.44 91.3022 1454.72 Q91.3022 1445.97 94.3577 1441.38 Q97.4364 1436.78 103.247 1436.78 Z\" fill=\"#000000\" fill-rule=\"evenodd\" fill-opacity=\"1\" /><path clip-path=\"url(#clip460)\" d=\"M 0 0 M71.8578 1133.6 L88.1772 1133.6 L88.1772 1137.54 L66.2328 1137.54 L66.2328 1133.6 Q68.8949 1130.85 73.4782 1126.22 Q78.0846 1121.57 79.2652 1120.22 Q81.5105 1117.7 82.3902 1115.96 Q83.2929 1114.2 83.2929 1112.51 Q83.2929 1109.76 81.3485 1108.02 Q79.4272 1106.29 76.3254 1106.29 Q74.1263 1106.29 71.6726 1107.05 Q69.2421 1107.82 66.4643 1109.37 L66.4643 1104.64 Q69.2884 1103.51 71.7421 1102.93 Q74.1958 1102.35 76.2328 1102.35 Q81.6031 1102.35 84.7976 1105.04 Q87.992 1107.72 87.992 1112.21 Q87.992 1114.34 87.1818 1116.26 Q86.3948 1118.16 84.2883 1120.76 Q83.7096 1121.43 80.6078 1124.64 Q77.5059 1127.84 71.8578 1133.6 Z\" fill=\"#000000\" fill-rule=\"evenodd\" fill-opacity=\"1\" /><path clip-path=\"url(#clip460)\" d=\"M 0 0 M103.247 1106.06 Q99.6354 1106.06 97.8068 1109.62 Q96.0012 1113.16 96.0012 1120.29 Q96.0012 1127.4 97.8068 1130.96 Q99.6354 1134.51 103.247 1134.51 Q106.881 1134.51 108.686 1130.96 Q110.515 1127.4 110.515 1120.29 Q110.515 1113.16 108.686 1109.62 Q106.881 1106.06 103.247 1106.06 M103.247 1102.35 Q109.057 1102.35 112.112 1106.96 Q115.191 1111.54 115.191 1120.29 Q115.191 1129.02 112.112 1133.63 Q109.057 1138.21 103.247 1138.21 Q97.4364 1138.21 94.3577 1133.63 Q91.3022 1129.02 91.3022 1120.29 Q91.3022 1111.54 94.3577 1106.96 Q97.4364 1102.35 103.247 1102.35 Z\" fill=\"#000000\" fill-rule=\"evenodd\" fill-opacity=\"1\" /><path clip-path=\"url(#clip460)\" d=\"M 0 0 M78.5939 772.629 L66.7884 791.077 L78.5939 791.077 L78.5939 772.629 M77.367 768.554 L83.2466 768.554 L83.2466 791.077 L88.1772 791.077 L88.1772 794.966 L83.2466 794.966 L83.2466 803.114 L78.5939 803.114 L78.5939 794.966 L62.9921 794.966 L62.9921 790.452 L77.367 768.554 Z\" fill=\"#000000\" fill-rule=\"evenodd\" fill-opacity=\"1\" /><path clip-path=\"url(#clip460)\" d=\"M 0 0 M103.247 771.633 Q99.6354 771.633 97.8068 775.198 Q96.0012 778.74 96.0012 785.869 Q96.0012 792.976 97.8068 796.54 Q99.6354 800.082 103.247 800.082 Q106.881 800.082 108.686 796.54 Q110.515 792.976 110.515 785.869 Q110.515 778.74 108.686 775.198 Q106.881 771.633 103.247 771.633 M103.247 767.929 Q109.057 767.929 112.112 772.536 Q115.191 777.119 115.191 785.869 Q115.191 794.596 112.112 799.202 Q109.057 803.786 103.247 803.786 Q97.4364 803.786 94.3577 799.202 Q91.3022 794.596 91.3022 785.869 Q91.3022 777.119 94.3577 772.536 Q97.4364 767.929 103.247 767.929 Z\" fill=\"#000000\" fill-rule=\"evenodd\" fill-opacity=\"1\" /><path clip-path=\"url(#clip460)\" d=\"M 0 0 M76.6495 449.548 Q73.5013 449.548 71.6495 451.701 Q69.8208 453.854 69.8208 457.604 Q69.8208 461.33 71.6495 463.506 Q73.5013 465.659 76.6495 465.659 Q79.7976 465.659 81.6263 463.506 Q83.4781 461.33 83.4781 457.604 Q83.4781 453.854 81.6263 451.701 Q79.7976 449.548 76.6495 449.548 M85.9318 434.895 L85.9318 439.155 Q84.1726 438.321 82.367 437.881 Q80.5846 437.442 78.8254 437.442 Q74.1958 437.442 71.7421 440.567 Q69.3115 443.692 68.9643 450.011 Q70.33 447.997 72.3902 446.932 Q74.4504 445.844 76.9272 445.844 Q82.1355 445.844 85.1448 449.016 Q88.1772 452.164 88.1772 457.604 Q88.1772 462.928 85.029 466.145 Q81.8809 469.363 76.6495 469.363 Q70.6541 469.363 67.4828 464.779 Q64.3116 460.173 64.3116 451.446 Q64.3116 443.252 68.2004 438.391 Q72.0893 433.506 78.6402 433.506 Q80.3994 433.506 82.1818 433.854 Q83.9874 434.201 85.9318 434.895 Z\" fill=\"#000000\" fill-rule=\"evenodd\" fill-opacity=\"1\" /><path clip-path=\"url(#clip460)\" d=\"M 0 0 M103.247 437.21 Q99.6354 437.21 97.8068 440.775 Q96.0012 444.317 96.0012 451.446 Q96.0012 458.553 97.8068 462.117 Q99.6354 465.659 103.247 465.659 Q106.881 465.659 108.686 462.117 Q110.515 458.553 110.515 451.446 Q110.515 444.317 108.686 440.775 Q106.881 437.21 103.247 437.21 M103.247 433.506 Q109.057 433.506 112.112 438.113 Q115.191 442.696 115.191 451.446 Q115.191 460.173 112.112 464.779 Q109.057 469.363 103.247 469.363 Q97.4364 469.363 94.3577 464.779 Q91.3022 460.173 91.3022 451.446 Q91.3022 442.696 94.3577 438.113 Q97.4364 433.506 103.247 433.506 Z\" fill=\"#000000\" fill-rule=\"evenodd\" fill-opacity=\"1\" /><path clip-path=\"url(#clip460)\" d=\"M 0 0 M667.707 18.8205 L667.707 41.5461 L677.996 41.5461 Q683.708 41.5461 686.827 38.5889 Q689.946 35.6318 689.946 30.163 Q689.946 24.7348 686.827 21.7777 Q683.708 18.8205 677.996 18.8205 L667.707 18.8205 M659.524 12.096 L677.996 12.096 Q688.164 12.096 693.349 16.714 Q698.575 21.2916 698.575 30.163 Q698.575 39.1155 693.349 43.6931 Q688.164 48.2706 677.996 48.2706 L667.707 48.2706 L667.707 72.576 L659.524 72.576 L659.524 12.096 Z\" fill=\"#000000\" fill-rule=\"evenodd\" fill-opacity=\"1\" /><path clip-path=\"url(#clip460)\" d=\"M 0 0 M706.393 9.54393 L713.847 9.54393 L713.847 72.576 L706.393 72.576 L706.393 9.54393 Z\" fill=\"#000000\" fill-rule=\"evenodd\" fill-opacity=\"1\" /><path clip-path=\"url(#clip460)\" d=\"M 0 0 M739.246 32.4315 Q733.25 32.4315 729.767 37.1306 Q726.283 41.7891 726.283 49.9314 Q726.283 58.0738 729.726 62.7728 Q733.21 67.4314 739.246 67.4314 Q745.201 67.4314 748.684 62.7323 Q752.168 58.0333 752.168 49.9314 Q752.168 41.8701 748.684 37.1711 Q745.201 32.4315 739.246 32.4315 M739.246 26.1121 Q748.968 26.1121 754.518 32.4315 Q760.067 38.7509 760.067 49.9314 Q760.067 61.0714 754.518 67.4314 Q748.968 73.7508 739.246 73.7508 Q729.483 73.7508 723.933 67.4314 Q718.424 61.0714 718.424 49.9314 Q718.424 38.7509 723.933 32.4315 Q729.483 26.1121 739.246 26.1121 Z\" fill=\"#000000\" fill-rule=\"evenodd\" fill-opacity=\"1\" /><path clip-path=\"url(#clip460)\" d=\"M 0 0 M775.258 14.324 L775.258 27.2059 L790.611 27.2059 L790.611 32.9987 L775.258 32.9987 L775.258 57.6282 Q775.258 63.1779 776.757 64.7578 Q778.297 66.3376 782.955 66.3376 L790.611 66.3376 L790.611 72.576 L782.955 72.576 Q774.327 72.576 771.045 69.3758 Q767.764 66.1351 767.764 57.6282 L767.764 32.9987 L762.295 32.9987 L762.295 27.2059 L767.764 27.2059 L767.764 14.324 L775.258 14.324 Z\" fill=\"#000000\" fill-rule=\"evenodd\" fill-opacity=\"1\" /><path clip-path=\"url(#clip460)\" d=\"M 0 0 M805.802 14.324 L805.802 27.2059 L821.155 27.2059 L821.155 32.9987 L805.802 32.9987 L805.802 57.6282 Q805.802 63.1779 807.301 64.7578 Q808.84 66.3376 813.499 66.3376 L821.155 66.3376 L821.155 72.576 L813.499 72.576 Q804.87 72.576 801.589 69.3758 Q798.308 66.1351 798.308 57.6282 L798.308 32.9987 L792.839 32.9987 L792.839 27.2059 L798.308 27.2059 L798.308 14.324 L805.802 14.324 Z\" fill=\"#000000\" fill-rule=\"evenodd\" fill-opacity=\"1\" /><path clip-path=\"url(#clip460)\" d=\"M 0 0 M828.973 27.2059 L836.427 27.2059 L836.427 72.576 L828.973 72.576 L828.973 27.2059 M828.973 9.54393 L836.427 9.54393 L836.427 18.9825 L828.973 18.9825 L828.973 9.54393 Z\" fill=\"#000000\" fill-rule=\"evenodd\" fill-opacity=\"1\" /><path clip-path=\"url(#clip460)\" d=\"M 0 0 M881.959 45.1919 L881.959 72.576 L874.505 72.576 L874.505 45.4349 Q874.505 38.994 871.994 35.7938 Q869.482 32.5936 864.459 32.5936 Q858.423 32.5936 854.94 36.4419 Q851.456 40.2903 851.456 46.9338 L851.456 72.576 L843.962 72.576 L843.962 27.2059 L851.456 27.2059 L851.456 34.2544 Q854.129 30.163 857.735 28.1376 Q861.381 26.1121 866.12 26.1121 Q873.938 26.1121 877.949 30.9732 Q881.959 35.7938 881.959 45.1919 Z\" fill=\"#000000\" fill-rule=\"evenodd\" fill-opacity=\"1\" /><path clip-path=\"url(#clip460)\" d=\"M 0 0 M919.633 49.3643 Q919.633 41.2625 916.27 36.8065 Q912.949 32.3505 906.913 32.3505 Q900.917 32.3505 897.555 36.8065 Q894.233 41.2625 894.233 49.3643 Q894.233 57.4256 897.555 61.8816 Q900.917 66.3376 906.913 66.3376 Q912.949 66.3376 916.27 61.8816 Q919.633 57.4256 919.633 49.3643 M927.086 66.9452 Q927.086 78.5308 921.942 84.1616 Q916.797 89.8329 906.184 89.8329 Q902.254 89.8329 898.77 89.2252 Q895.287 88.6581 892.005 87.4428 L892.005 80.1917 Q895.287 81.9741 898.487 82.8248 Q901.687 83.6755 905.009 83.6755 Q912.341 83.6755 915.987 79.8271 Q919.633 76.0193 919.633 68.282 L919.633 64.5957 Q917.324 68.6061 913.718 70.5911 Q910.113 72.576 905.09 72.576 Q896.745 72.576 891.641 66.2161 Q886.537 59.8562 886.537 49.3643 Q886.537 38.832 891.641 32.472 Q896.745 26.1121 905.09 26.1121 Q910.113 26.1121 913.718 28.0971 Q917.324 30.082 919.633 34.0924 L919.633 27.2059 L927.086 27.2059 L927.086 66.9452 Z\" fill=\"#000000\" fill-rule=\"evenodd\" fill-opacity=\"1\" /><path clip-path=\"url(#clip460)\" d=\"M 0 0 M990.199 28.5427 L990.199 35.5912 Q987.04 33.9709 983.637 33.1607 Q980.234 32.3505 976.588 32.3505 Q971.039 32.3505 968.243 34.0519 Q965.489 35.7533 965.489 39.156 Q965.489 41.7486 967.474 43.2475 Q969.459 44.7058 975.454 46.0426 L978.006 46.6097 Q985.946 48.3111 989.268 51.4303 Q992.63 54.509 992.63 60.0587 Q992.63 66.3781 987.607 70.0644 Q982.624 73.7508 973.874 73.7508 Q970.228 73.7508 966.258 73.0216 Q962.329 72.3329 957.954 70.9151 L957.954 63.2184 Q962.086 65.3654 966.096 66.4591 Q970.107 67.5124 974.036 67.5124 Q979.302 67.5124 982.138 65.73 Q984.974 63.9071 984.974 60.6258 Q984.974 57.5877 982.908 55.9673 Q980.882 54.3469 973.955 52.8481 L971.363 52.2405 Q964.436 50.7821 961.357 47.7845 Q958.278 44.7463 958.278 39.4801 Q958.278 33.0797 962.815 29.5959 Q967.352 26.1121 975.697 26.1121 Q979.829 26.1121 983.475 26.7198 Q987.121 27.3274 990.199 28.5427 Z\" fill=\"#000000\" fill-rule=\"evenodd\" fill-opacity=\"1\" /><path clip-path=\"url(#clip460)\" d=\"M 0 0 M1018.03 32.4315 Q1012.03 32.4315 1008.55 37.1306 Q1005.07 41.7891 1005.07 49.9314 Q1005.07 58.0738 1008.51 62.7728 Q1011.99 67.4314 1018.03 67.4314 Q1023.98 67.4314 1027.47 62.7323 Q1030.95 58.0333 1030.95 49.9314 Q1030.95 41.8701 1027.47 37.1711 Q1023.98 32.4315 1018.03 32.4315 M1018.03 26.1121 Q1027.75 26.1121 1033.3 32.4315 Q1038.85 38.7509 1038.85 49.9314 Q1038.85 61.0714 1033.3 67.4314 Q1027.75 73.7508 1018.03 73.7508 Q1008.27 73.7508 1002.72 67.4314 Q997.207 61.0714 997.207 49.9314 Q997.207 38.7509 1002.72 32.4315 Q1008.27 26.1121 1018.03 26.1121 Z\" fill=\"#000000\" fill-rule=\"evenodd\" fill-opacity=\"1\" /><path clip-path=\"url(#clip460)\" d=\"M 0 0 M1081.99 35.9153 Q1084.79 30.8922 1088.68 28.5022 Q1092.57 26.1121 1097.83 26.1121 Q1104.92 26.1121 1108.77 31.0947 Q1112.62 36.0368 1112.62 45.1919 L1112.62 72.576 L1105.12 72.576 L1105.12 45.4349 Q1105.12 38.913 1102.81 35.7533 Q1100.51 32.5936 1095.77 32.5936 Q1089.97 32.5936 1086.61 36.4419 Q1083.25 40.2903 1083.25 46.9338 L1083.25 72.576 L1075.75 72.576 L1075.75 45.4349 Q1075.75 38.8725 1073.45 35.7533 Q1071.14 32.5936 1066.32 32.5936 Q1060.6 32.5936 1057.24 36.4824 Q1053.88 40.3308 1053.88 46.9338 L1053.88 72.576 L1046.39 72.576 L1046.39 27.2059 L1053.88 27.2059 L1053.88 34.2544 Q1056.43 30.082 1060 28.0971 Q1063.56 26.1121 1068.46 26.1121 Q1073.4 26.1121 1076.85 28.6237 Q1080.33 31.1352 1081.99 35.9153 Z\" fill=\"#000000\" fill-rule=\"evenodd\" fill-opacity=\"1\" /><path clip-path=\"url(#clip460)\" d=\"M 0 0 M1159.24 48.0275 L1159.24 51.6733 L1124.97 51.6733 Q1125.46 59.3701 1129.59 63.421 Q1133.76 67.4314 1141.18 67.4314 Q1145.47 67.4314 1149.48 66.3781 Q1153.53 65.3249 1157.5 63.2184 L1157.5 70.267 Q1153.49 71.9684 1149.28 72.8596 Q1145.07 73.7508 1140.73 73.7508 Q1129.87 73.7508 1123.51 67.4314 Q1117.2 61.1119 1117.2 50.3365 Q1117.2 39.1965 1123.19 32.6746 Q1129.23 26.1121 1139.43 26.1121 Q1148.59 26.1121 1153.9 32.0264 Q1159.24 37.9003 1159.24 48.0275 M1151.79 45.84 Q1151.71 39.7232 1148.35 36.0774 Q1145.02 32.4315 1139.52 32.4315 Q1133.28 32.4315 1129.51 35.9558 Q1125.78 39.4801 1125.22 45.8805 L1151.79 45.84 Z\" fill=\"#000000\" fill-rule=\"evenodd\" fill-opacity=\"1\" /><path clip-path=\"url(#clip460)\" d=\"M 0 0 M1219.72 34.1734 Q1218.47 33.4443 1216.97 33.1202 Q1215.51 32.7556 1213.73 32.7556 Q1207.41 32.7556 1204.01 36.8875 Q1200.64 40.9789 1200.64 48.6757 L1200.64 72.576 L1193.15 72.576 L1193.15 27.2059 L1200.64 27.2059 L1200.64 34.2544 Q1202.99 30.1225 1206.76 28.1376 Q1210.53 26.1121 1215.92 26.1121 Q1216.69 26.1121 1217.62 26.2337 Q1218.55 26.3147 1219.68 26.5172 L1219.72 34.1734 Z\" fill=\"#000000\" fill-rule=\"evenodd\" fill-opacity=\"1\" /><path clip-path=\"url(#clip460)\" d=\"M 0 0 M1248.16 49.7694 Q1239.13 49.7694 1235.64 51.8354 Q1232.16 53.9013 1232.16 58.8839 Q1232.16 62.8538 1234.75 65.2034 Q1237.39 67.5124 1241.88 67.5124 Q1248.08 67.5124 1251.81 63.1374 Q1255.57 58.7219 1255.57 51.4303 L1255.57 49.7694 L1248.16 49.7694 M1263.03 46.6907 L1263.03 72.576 L1255.57 72.576 L1255.57 65.6895 Q1253.02 69.8214 1249.21 71.8063 Q1245.41 73.7508 1239.9 73.7508 Q1232.93 73.7508 1228.8 69.8619 Q1224.71 65.9325 1224.71 59.3701 Q1224.71 51.7138 1229.81 47.825 Q1234.95 43.9361 1245.12 43.9361 L1255.57 43.9361 L1255.57 43.2069 Q1255.57 38.0623 1252.17 35.2672 Q1248.81 32.4315 1242.69 32.4315 Q1238.8 32.4315 1235.12 33.3632 Q1231.43 34.295 1228.03 36.1584 L1228.03 29.2718 Q1232.12 27.692 1235.97 26.9223 Q1239.82 26.1121 1243.46 26.1121 Q1253.31 26.1121 1258.17 31.2163 Q1263.03 36.3204 1263.03 46.6907 Z\" fill=\"#000000\" fill-rule=\"evenodd\" fill-opacity=\"1\" /><path clip-path=\"url(#clip460)\" d=\"M 0 0 M1308.56 45.1919 L1308.56 72.576 L1301.11 72.576 L1301.11 45.4349 Q1301.11 38.994 1298.59 35.7938 Q1296.08 32.5936 1291.06 32.5936 Q1285.02 32.5936 1281.54 36.4419 Q1278.06 40.2903 1278.06 46.9338 L1278.06 72.576 L1270.56 72.576 L1270.56 27.2059 L1278.06 27.2059 L1278.06 34.2544 Q1280.73 30.163 1284.34 28.1376 Q1287.98 26.1121 1292.72 26.1121 Q1300.54 26.1121 1304.55 30.9732 Q1308.56 35.7938 1308.56 45.1919 Z\" fill=\"#000000\" fill-rule=\"evenodd\" fill-opacity=\"1\" /><path clip-path=\"url(#clip460)\" d=\"M 0 0 M1346.23 34.0924 L1346.23 9.54393 L1353.69 9.54393 L1353.69 72.576 L1346.23 72.576 L1346.23 65.7705 Q1343.88 69.8214 1340.28 71.8063 Q1336.71 73.7508 1331.69 73.7508 Q1323.47 73.7508 1318.28 67.1883 Q1313.14 60.6258 1313.14 49.9314 Q1313.14 39.2371 1318.28 32.6746 Q1323.47 26.1121 1331.69 26.1121 Q1336.71 26.1121 1340.28 28.0971 Q1343.88 30.0415 1346.23 34.0924 M1320.83 49.9314 Q1320.83 58.1548 1324.2 62.8538 Q1327.6 67.5124 1333.51 67.5124 Q1339.43 67.5124 1342.83 62.8538 Q1346.23 58.1548 1346.23 49.9314 Q1346.23 41.7081 1342.83 37.0496 Q1339.43 32.3505 1333.51 32.3505 Q1327.6 32.3505 1324.2 37.0496 Q1320.83 41.7081 1320.83 49.9314 Z\" fill=\"#000000\" fill-rule=\"evenodd\" fill-opacity=\"1\" /><path clip-path=\"url(#clip460)\" d=\"M 0 0 M1379.09 32.4315 Q1373.09 32.4315 1369.61 37.1306 Q1366.12 41.7891 1366.12 49.9314 Q1366.12 58.0738 1369.57 62.7728 Q1373.05 67.4314 1379.09 67.4314 Q1385.04 67.4314 1388.52 62.7323 Q1392.01 58.0333 1392.01 49.9314 Q1392.01 41.8701 1388.52 37.1711 Q1385.04 32.4315 1379.09 32.4315 M1379.09 26.1121 Q1388.81 26.1121 1394.36 32.4315 Q1399.91 38.7509 1399.91 49.9314 Q1399.91 61.0714 1394.36 67.4314 Q1388.81 73.7508 1379.09 73.7508 Q1369.32 73.7508 1363.77 67.4314 Q1358.26 61.0714 1358.26 49.9314 Q1358.26 38.7509 1363.77 32.4315 Q1369.32 26.1121 1379.09 26.1121 Z\" fill=\"#000000\" fill-rule=\"evenodd\" fill-opacity=\"1\" /><path clip-path=\"url(#clip460)\" d=\"M 0 0 M1443.05 35.9153 Q1445.85 30.8922 1449.73 28.5022 Q1453.62 26.1121 1458.89 26.1121 Q1465.98 26.1121 1469.83 31.0947 Q1473.67 36.0368 1473.67 45.1919 L1473.67 72.576 L1466.18 72.576 L1466.18 45.4349 Q1466.18 38.913 1463.87 35.7533 Q1461.56 32.5936 1456.82 32.5936 Q1451.03 32.5936 1447.67 36.4419 Q1444.31 40.2903 1444.31 46.9338 L1444.31 72.576 L1436.81 72.576 L1436.81 45.4349 Q1436.81 38.8725 1434.5 35.7533 Q1432.19 32.5936 1427.37 32.5936 Q1421.66 32.5936 1418.3 36.4824 Q1414.94 40.3308 1414.94 46.9338 L1414.94 72.576 L1407.44 72.576 L1407.44 27.2059 L1414.94 27.2059 L1414.94 34.2544 Q1417.49 30.082 1421.05 28.0971 Q1424.62 26.1121 1429.52 26.1121 Q1434.46 26.1121 1437.91 28.6237 Q1441.39 31.1352 1443.05 35.9153 Z\" fill=\"#000000\" fill-rule=\"evenodd\" fill-opacity=\"1\" /><path clip-path=\"url(#clip460)\" d=\"M 0 0 M1545.58 45.1919 L1545.58 72.576 L1538.12 72.576 L1538.12 45.4349 Q1538.12 38.994 1535.61 35.7938 Q1533.1 32.5936 1528.08 32.5936 Q1522.04 32.5936 1518.56 36.4419 Q1515.07 40.2903 1515.07 46.9338 L1515.07 72.576 L1507.58 72.576 L1507.58 27.2059 L1515.07 27.2059 L1515.07 34.2544 Q1517.75 30.163 1521.35 28.1376 Q1525 26.1121 1529.74 26.1121 Q1537.56 26.1121 1541.57 30.9732 Q1545.58 35.7938 1545.58 45.1919 Z\" fill=\"#000000\" fill-rule=\"evenodd\" fill-opacity=\"1\" /><path clip-path=\"url(#clip460)\" d=\"M 0 0 M1552.63 54.671 L1552.63 27.2059 L1560.08 27.2059 L1560.08 54.3874 Q1560.08 60.8284 1562.59 64.0691 Q1565.1 67.2693 1570.13 67.2693 Q1576.16 67.2693 1579.65 63.421 Q1583.17 59.5726 1583.17 52.9291 L1583.17 27.2059 L1590.62 27.2059 L1590.62 72.576 L1583.17 72.576 L1583.17 65.6084 Q1580.46 69.7404 1576.85 71.7658 Q1573.29 73.7508 1568.55 73.7508 Q1560.73 73.7508 1556.68 68.8897 Q1552.63 64.0286 1552.63 54.671 M1571.38 26.1121 L1571.38 26.1121 Z\" fill=\"#000000\" fill-rule=\"evenodd\" fill-opacity=\"1\" /><path clip-path=\"url(#clip460)\" d=\"M 0 0 M1633.77 35.9153 Q1636.56 30.8922 1640.45 28.5022 Q1644.34 26.1121 1649.61 26.1121 Q1656.69 26.1121 1660.54 31.0947 Q1664.39 36.0368 1664.39 45.1919 L1664.39 72.576 L1656.9 72.576 L1656.9 45.4349 Q1656.9 38.913 1654.59 35.7533 Q1652.28 32.5936 1647.54 32.5936 Q1641.75 32.5936 1638.38 36.4419 Q1635.02 40.2903 1635.02 46.9338 L1635.02 72.576 L1627.53 72.576 L1627.53 45.4349 Q1627.53 38.8725 1625.22 35.7533 Q1622.91 32.5936 1618.09 32.5936 Q1612.38 32.5936 1609.02 36.4824 Q1605.65 40.3308 1605.65 46.9338 L1605.65 72.576 L1598.16 72.576 L1598.16 27.2059 L1605.65 27.2059 L1605.65 34.2544 Q1608.21 30.082 1611.77 28.0971 Q1615.33 26.1121 1620.24 26.1121 Q1625.18 26.1121 1628.62 28.6237 Q1632.11 31.1352 1633.77 35.9153 Z\" fill=\"#000000\" fill-rule=\"evenodd\" fill-opacity=\"1\" /><path clip-path=\"url(#clip460)\" d=\"M 0 0 M1704.78 49.9314 Q1704.78 41.7081 1701.38 37.0496 Q1698.01 32.3505 1692.1 32.3505 Q1686.19 32.3505 1682.78 37.0496 Q1679.42 41.7081 1679.42 49.9314 Q1679.42 58.1548 1682.78 62.8538 Q1686.19 67.5124 1692.1 67.5124 Q1698.01 67.5124 1701.38 62.8538 Q1704.78 58.1548 1704.78 49.9314 M1679.42 34.0924 Q1681.77 30.0415 1685.33 28.0971 Q1688.94 26.1121 1693.92 26.1121 Q1702.19 26.1121 1707.33 32.6746 Q1712.52 39.2371 1712.52 49.9314 Q1712.52 60.6258 1707.33 67.1883 Q1702.19 73.7508 1693.92 73.7508 Q1688.94 73.7508 1685.33 71.8063 Q1681.77 69.8214 1679.42 65.7705 L1679.42 72.576 L1671.93 72.576 L1671.93 9.54393 L1679.42 9.54393 L1679.42 34.0924 Z\" fill=\"#000000\" fill-rule=\"evenodd\" fill-opacity=\"1\" /><path clip-path=\"url(#clip460)\" d=\"M 0 0 M1759.14 48.0275 L1759.14 51.6733 L1724.87 51.6733 Q1725.36 59.3701 1729.49 63.421 Q1733.66 67.4314 1741.07 67.4314 Q1745.37 67.4314 1749.38 66.3781 Q1753.43 65.3249 1757.4 63.2184 L1757.4 70.267 Q1753.39 71.9684 1749.18 72.8596 Q1744.96 73.7508 1740.63 73.7508 Q1729.77 73.7508 1723.41 67.4314 Q1717.09 61.1119 1717.09 50.3365 Q1717.09 39.1965 1723.09 32.6746 Q1729.12 26.1121 1739.33 26.1121 Q1748.49 26.1121 1753.79 32.0264 Q1759.14 37.9003 1759.14 48.0275 M1751.69 45.84 Q1751.61 39.7232 1748.25 36.0774 Q1744.92 32.4315 1739.41 32.4315 Q1733.18 32.4315 1729.41 35.9558 Q1725.68 39.4801 1725.11 45.8805 L1751.69 45.84 Z\" fill=\"#000000\" fill-rule=\"evenodd\" fill-opacity=\"1\" /><path clip-path=\"url(#clip460)\" d=\"M 0 0 M1793.25 34.1734 Q1791.99 33.4443 1790.5 33.1202 Q1789.04 32.7556 1787.26 32.7556 Q1780.94 32.7556 1777.53 36.8875 Q1774.17 40.9789 1774.17 48.6757 L1774.17 72.576 L1766.68 72.576 L1766.68 27.2059 L1774.17 27.2059 L1774.17 34.2544 Q1776.52 30.1225 1780.29 28.1376 Q1784.06 26.1121 1789.44 26.1121 Q1790.21 26.1121 1791.14 26.2337 Q1792.08 26.3147 1793.21 26.5172 L1793.25 34.1734 Z\" fill=\"#000000\" fill-rule=\"evenodd\" fill-opacity=\"1\" /><path clip-path=\"url(#clip460)\" d=\"M 0 0 M1829.99 28.5427 L1829.99 35.5912 Q1826.83 33.9709 1823.43 33.1607 Q1820.03 32.3505 1816.38 32.3505 Q1810.83 32.3505 1808.04 34.0519 Q1805.28 35.7533 1805.28 39.156 Q1805.28 41.7486 1807.27 43.2475 Q1809.25 44.7058 1815.25 46.0426 L1817.8 46.6097 Q1825.74 48.3111 1829.06 51.4303 Q1832.42 54.509 1832.42 60.0587 Q1832.42 66.3781 1827.4 70.0644 Q1822.42 73.7508 1813.67 73.7508 Q1810.02 73.7508 1806.05 73.0216 Q1802.12 72.3329 1797.75 70.9151 L1797.75 63.2184 Q1801.88 65.3654 1805.89 66.4591 Q1809.9 67.5124 1813.83 67.5124 Q1819.1 67.5124 1821.93 65.73 Q1824.77 63.9071 1824.77 60.6258 Q1824.77 57.5877 1822.7 55.9673 Q1820.68 54.3469 1813.75 52.8481 L1811.16 52.2405 Q1804.23 50.7821 1801.15 47.7845 Q1798.07 44.7463 1798.07 39.4801 Q1798.07 33.0797 1802.61 29.5959 Q1807.15 26.1121 1815.49 26.1121 Q1819.62 26.1121 1823.27 26.7198 Q1826.91 27.3274 1829.99 28.5427 Z\" fill=\"#000000\" fill-rule=\"evenodd\" fill-opacity=\"1\" /><polyline clip-path=\"url(#clip462)\" style=\"stroke:#009af9; stroke-width:4; stroke-opacity:1; fill:none\" points=\"\n",
       "  201.839,306.097 311.748,1176.76 421.657,1234.81 531.566,646.5 641.475,457.191 751.383,457.161 861.292,839.893 971.201,348.228 1081.11,936.262 1191.02,1155.79 \n",
       "  1300.93,313.968 1410.84,1027.99 1520.75,507.497 1630.65,1447.87 1740.56,969.017 1850.47,1034.49 1960.38,1069.74 2070.29,1197.54 2180.2,162.047 2290.11,1226.18 \n",
       "  \n",
       "  \"/>\n",
       "<circle clip-path=\"url(#clip462)\" cx=\"201.839\" cy=\"306.097\" r=\"14\" fill=\"#009af9\" fill-rule=\"evenodd\" fill-opacity=\"1\" stroke=\"#000000\" stroke-opacity=\"1\" stroke-width=\"3.2\"/>\n",
       "<circle clip-path=\"url(#clip462)\" cx=\"311.748\" cy=\"1176.76\" r=\"14\" fill=\"#009af9\" fill-rule=\"evenodd\" fill-opacity=\"1\" stroke=\"#000000\" stroke-opacity=\"1\" stroke-width=\"3.2\"/>\n",
       "<circle clip-path=\"url(#clip462)\" cx=\"421.657\" cy=\"1234.81\" r=\"14\" fill=\"#009af9\" fill-rule=\"evenodd\" fill-opacity=\"1\" stroke=\"#000000\" stroke-opacity=\"1\" stroke-width=\"3.2\"/>\n",
       "<circle clip-path=\"url(#clip462)\" cx=\"531.566\" cy=\"646.5\" r=\"14\" fill=\"#009af9\" fill-rule=\"evenodd\" fill-opacity=\"1\" stroke=\"#000000\" stroke-opacity=\"1\" stroke-width=\"3.2\"/>\n",
       "<circle clip-path=\"url(#clip462)\" cx=\"641.475\" cy=\"457.191\" r=\"14\" fill=\"#009af9\" fill-rule=\"evenodd\" fill-opacity=\"1\" stroke=\"#000000\" stroke-opacity=\"1\" stroke-width=\"3.2\"/>\n",
       "<circle clip-path=\"url(#clip462)\" cx=\"751.383\" cy=\"457.161\" r=\"14\" fill=\"#009af9\" fill-rule=\"evenodd\" fill-opacity=\"1\" stroke=\"#000000\" stroke-opacity=\"1\" stroke-width=\"3.2\"/>\n",
       "<circle clip-path=\"url(#clip462)\" cx=\"861.292\" cy=\"839.893\" r=\"14\" fill=\"#009af9\" fill-rule=\"evenodd\" fill-opacity=\"1\" stroke=\"#000000\" stroke-opacity=\"1\" stroke-width=\"3.2\"/>\n",
       "<circle clip-path=\"url(#clip462)\" cx=\"971.201\" cy=\"348.228\" r=\"14\" fill=\"#009af9\" fill-rule=\"evenodd\" fill-opacity=\"1\" stroke=\"#000000\" stroke-opacity=\"1\" stroke-width=\"3.2\"/>\n",
       "<circle clip-path=\"url(#clip462)\" cx=\"1081.11\" cy=\"936.262\" r=\"14\" fill=\"#009af9\" fill-rule=\"evenodd\" fill-opacity=\"1\" stroke=\"#000000\" stroke-opacity=\"1\" stroke-width=\"3.2\"/>\n",
       "<circle clip-path=\"url(#clip462)\" cx=\"1191.02\" cy=\"1155.79\" r=\"14\" fill=\"#009af9\" fill-rule=\"evenodd\" fill-opacity=\"1\" stroke=\"#000000\" stroke-opacity=\"1\" stroke-width=\"3.2\"/>\n",
       "<circle clip-path=\"url(#clip462)\" cx=\"1300.93\" cy=\"313.968\" r=\"14\" fill=\"#009af9\" fill-rule=\"evenodd\" fill-opacity=\"1\" stroke=\"#000000\" stroke-opacity=\"1\" stroke-width=\"3.2\"/>\n",
       "<circle clip-path=\"url(#clip462)\" cx=\"1410.84\" cy=\"1027.99\" r=\"14\" fill=\"#009af9\" fill-rule=\"evenodd\" fill-opacity=\"1\" stroke=\"#000000\" stroke-opacity=\"1\" stroke-width=\"3.2\"/>\n",
       "<circle clip-path=\"url(#clip462)\" cx=\"1520.75\" cy=\"507.497\" r=\"14\" fill=\"#009af9\" fill-rule=\"evenodd\" fill-opacity=\"1\" stroke=\"#000000\" stroke-opacity=\"1\" stroke-width=\"3.2\"/>\n",
       "<circle clip-path=\"url(#clip462)\" cx=\"1630.65\" cy=\"1447.87\" r=\"14\" fill=\"#009af9\" fill-rule=\"evenodd\" fill-opacity=\"1\" stroke=\"#000000\" stroke-opacity=\"1\" stroke-width=\"3.2\"/>\n",
       "<circle clip-path=\"url(#clip462)\" cx=\"1740.56\" cy=\"969.017\" r=\"14\" fill=\"#009af9\" fill-rule=\"evenodd\" fill-opacity=\"1\" stroke=\"#000000\" stroke-opacity=\"1\" stroke-width=\"3.2\"/>\n",
       "<circle clip-path=\"url(#clip462)\" cx=\"1850.47\" cy=\"1034.49\" r=\"14\" fill=\"#009af9\" fill-rule=\"evenodd\" fill-opacity=\"1\" stroke=\"#000000\" stroke-opacity=\"1\" stroke-width=\"3.2\"/>\n",
       "<circle clip-path=\"url(#clip462)\" cx=\"1960.38\" cy=\"1069.74\" r=\"14\" fill=\"#009af9\" fill-rule=\"evenodd\" fill-opacity=\"1\" stroke=\"#000000\" stroke-opacity=\"1\" stroke-width=\"3.2\"/>\n",
       "<circle clip-path=\"url(#clip462)\" cx=\"2070.29\" cy=\"1197.54\" r=\"14\" fill=\"#009af9\" fill-rule=\"evenodd\" fill-opacity=\"1\" stroke=\"#000000\" stroke-opacity=\"1\" stroke-width=\"3.2\"/>\n",
       "<circle clip-path=\"url(#clip462)\" cx=\"2180.2\" cy=\"162.047\" r=\"14\" fill=\"#009af9\" fill-rule=\"evenodd\" fill-opacity=\"1\" stroke=\"#000000\" stroke-opacity=\"1\" stroke-width=\"3.2\"/>\n",
       "<circle clip-path=\"url(#clip462)\" cx=\"2290.11\" cy=\"1226.18\" r=\"14\" fill=\"#009af9\" fill-rule=\"evenodd\" fill-opacity=\"1\" stroke=\"#000000\" stroke-opacity=\"1\" stroke-width=\"3.2\"/>\n",
       "</svg>\n"
      ]
     },
     "execution_count": 45,
     "metadata": {},
     "output_type": "execute_result"
    }
   ],
   "source": [
    "plot(temps, marker = :circle, legend=false, grid=false, title=\"Plotting some random numbers\")"
   ]
  },
  {
   "cell_type": "code",
   "execution_count": 46,
   "metadata": {},
   "outputs": [
    {
     "data": {
      "image/svg+xml": [
       "<?xml version=\"1.0\" encoding=\"utf-8\"?>\n",
       "<svg xmlns=\"http://www.w3.org/2000/svg\" xmlns:xlink=\"http://www.w3.org/1999/xlink\" width=\"600\" height=\"400\" viewBox=\"0 0 2400 1600\">\n",
       "<defs>\n",
       "  <clipPath id=\"clip500\">\n",
       "    <rect x=\"0\" y=\"0\" width=\"2400\" height=\"1600\"/>\n",
       "  </clipPath>\n",
       "</defs>\n",
       "<path clip-path=\"url(#clip500)\" d=\"\n",
       "M0 1600 L2400 1600 L2400 0 L0 0  Z\n",
       "  \" fill=\"#ffffff\" fill-rule=\"evenodd\" fill-opacity=\"1\"/>\n",
       "<defs>\n",
       "  <clipPath id=\"clip501\">\n",
       "    <rect x=\"480\" y=\"0\" width=\"1681\" height=\"1600\"/>\n",
       "  </clipPath>\n",
       "</defs>\n",
       "<path clip-path=\"url(#clip500)\" d=\"\n",
       "M148.334 1486.45 L2352.76 1486.45 L2352.76 47.2441 L148.334 47.2441  Z\n",
       "  \" fill=\"#ffffff\" fill-rule=\"evenodd\" fill-opacity=\"1\"/>\n",
       "<defs>\n",
       "  <clipPath id=\"clip502\">\n",
       "    <rect x=\"148\" y=\"47\" width=\"2205\" height=\"1440\"/>\n",
       "  </clipPath>\n",
       "</defs>\n",
       "<polyline clip-path=\"url(#clip502)\" style=\"stroke:#000000; stroke-width:2; stroke-opacity:0.1; fill:none\" points=\"\n",
       "  441.795,1486.45 441.795,47.2441 \n",
       "  \"/>\n",
       "<polyline clip-path=\"url(#clip502)\" style=\"stroke:#000000; stroke-width:2; stroke-opacity:0.1; fill:none\" points=\"\n",
       "  903.938,1486.45 903.938,47.2441 \n",
       "  \"/>\n",
       "<polyline clip-path=\"url(#clip502)\" style=\"stroke:#000000; stroke-width:2; stroke-opacity:0.1; fill:none\" points=\"\n",
       "  1366.08,1486.45 1366.08,47.2441 \n",
       "  \"/>\n",
       "<polyline clip-path=\"url(#clip502)\" style=\"stroke:#000000; stroke-width:2; stroke-opacity:0.1; fill:none\" points=\"\n",
       "  1828.22,1486.45 1828.22,47.2441 \n",
       "  \"/>\n",
       "<polyline clip-path=\"url(#clip502)\" style=\"stroke:#000000; stroke-width:2; stroke-opacity:0.1; fill:none\" points=\"\n",
       "  2290.37,1486.45 2290.37,47.2441 \n",
       "  \"/>\n",
       "<polyline clip-path=\"url(#clip502)\" style=\"stroke:#000000; stroke-width:2; stroke-opacity:0.1; fill:none\" points=\"\n",
       "  148.334,1167.47 2352.76,1167.47 \n",
       "  \"/>\n",
       "<polyline clip-path=\"url(#clip502)\" style=\"stroke:#000000; stroke-width:2; stroke-opacity:0.1; fill:none\" points=\"\n",
       "  148.334,803.598 2352.76,803.598 \n",
       "  \"/>\n",
       "<polyline clip-path=\"url(#clip502)\" style=\"stroke:#000000; stroke-width:2; stroke-opacity:0.1; fill:none\" points=\"\n",
       "  148.334,439.729 2352.76,439.729 \n",
       "  \"/>\n",
       "<polyline clip-path=\"url(#clip502)\" style=\"stroke:#000000; stroke-width:2; stroke-opacity:0.1; fill:none\" points=\"\n",
       "  148.334,75.8605 2352.76,75.8605 \n",
       "  \"/>\n",
       "<polyline clip-path=\"url(#clip500)\" style=\"stroke:#000000; stroke-width:4; stroke-opacity:1; fill:none\" points=\"\n",
       "  148.334,1486.45 2352.76,1486.45 \n",
       "  \"/>\n",
       "<polyline clip-path=\"url(#clip500)\" style=\"stroke:#000000; stroke-width:4; stroke-opacity:1; fill:none\" points=\"\n",
       "  148.334,1486.45 148.334,47.2441 \n",
       "  \"/>\n",
       "<polyline clip-path=\"url(#clip500)\" style=\"stroke:#000000; stroke-width:4; stroke-opacity:1; fill:none\" points=\"\n",
       "  441.795,1486.45 441.795,1469.18 \n",
       "  \"/>\n",
       "<polyline clip-path=\"url(#clip500)\" style=\"stroke:#000000; stroke-width:4; stroke-opacity:1; fill:none\" points=\"\n",
       "  903.938,1486.45 903.938,1469.18 \n",
       "  \"/>\n",
       "<polyline clip-path=\"url(#clip500)\" style=\"stroke:#000000; stroke-width:4; stroke-opacity:1; fill:none\" points=\"\n",
       "  1366.08,1486.45 1366.08,1469.18 \n",
       "  \"/>\n",
       "<polyline clip-path=\"url(#clip500)\" style=\"stroke:#000000; stroke-width:4; stroke-opacity:1; fill:none\" points=\"\n",
       "  1828.22,1486.45 1828.22,1469.18 \n",
       "  \"/>\n",
       "<polyline clip-path=\"url(#clip500)\" style=\"stroke:#000000; stroke-width:4; stroke-opacity:1; fill:none\" points=\"\n",
       "  2290.37,1486.45 2290.37,1469.18 \n",
       "  \"/>\n",
       "<polyline clip-path=\"url(#clip500)\" style=\"stroke:#000000; stroke-width:4; stroke-opacity:1; fill:none\" points=\"\n",
       "  148.334,1167.47 174.787,1167.47 \n",
       "  \"/>\n",
       "<polyline clip-path=\"url(#clip500)\" style=\"stroke:#000000; stroke-width:4; stroke-opacity:1; fill:none\" points=\"\n",
       "  148.334,803.598 174.787,803.598 \n",
       "  \"/>\n",
       "<polyline clip-path=\"url(#clip500)\" style=\"stroke:#000000; stroke-width:4; stroke-opacity:1; fill:none\" points=\"\n",
       "  148.334,439.729 174.787,439.729 \n",
       "  \"/>\n",
       "<polyline clip-path=\"url(#clip500)\" style=\"stroke:#000000; stroke-width:4; stroke-opacity:1; fill:none\" points=\"\n",
       "  148.334,75.8605 174.787,75.8605 \n",
       "  \"/>\n",
       "<path clip-path=\"url(#clip500)\" d=\"M 0 0 M436.448 1535.98 L452.767 1535.98 L452.767 1539.92 L430.823 1539.92 L430.823 1535.98 Q433.485 1533.23 438.068 1528.6 Q442.675 1523.95 443.855 1522.61 Q446.101 1520.08 446.98 1518.35 Q447.883 1516.59 447.883 1514.9 Q447.883 1512.14 445.939 1510.41 Q444.017 1508.67 440.915 1508.67 Q438.716 1508.67 436.263 1509.43 Q433.832 1510.2 431.054 1511.75 L431.054 1507.03 Q433.878 1505.89 436.332 1505.31 Q438.786 1504.73 440.823 1504.73 Q446.193 1504.73 449.388 1507.42 Q452.582 1510.11 452.582 1514.6 Q452.582 1516.73 451.772 1518.65 Q450.985 1520.54 448.878 1523.14 Q448.3 1523.81 445.198 1527.03 Q442.096 1530.22 436.448 1535.98 Z\" fill=\"#000000\" fill-rule=\"evenodd\" fill-opacity=\"1\" /><path clip-path=\"url(#clip500)\" d=\"M 0 0 M906.947 1509.43 L895.142 1527.88 L906.947 1527.88 L906.947 1509.43 M905.72 1505.36 L911.6 1505.36 L911.6 1527.88 L916.531 1527.88 L916.531 1531.77 L911.6 1531.77 L911.6 1539.92 L906.947 1539.92 L906.947 1531.77 L891.345 1531.77 L891.345 1527.26 L905.72 1505.36 Z\" fill=\"#000000\" fill-rule=\"evenodd\" fill-opacity=\"1\" /><path clip-path=\"url(#clip500)\" d=\"M 0 0 M1366.49 1520.78 Q1363.34 1520.78 1361.49 1522.93 Q1359.66 1525.08 1359.66 1528.83 Q1359.66 1532.56 1361.49 1534.73 Q1363.34 1536.89 1366.49 1536.89 Q1369.63 1536.89 1371.46 1534.73 Q1373.31 1532.56 1373.31 1528.83 Q1373.31 1525.08 1371.46 1522.93 Q1369.63 1520.78 1366.49 1520.78 M1375.77 1506.12 L1375.77 1510.38 Q1374.01 1509.55 1372.2 1509.11 Q1370.42 1508.67 1368.66 1508.67 Q1364.03 1508.67 1361.58 1511.8 Q1359.15 1514.92 1358.8 1521.24 Q1360.17 1519.23 1362.23 1518.16 Q1364.29 1517.07 1366.76 1517.07 Q1371.97 1517.07 1374.98 1520.24 Q1378.01 1523.39 1378.01 1528.83 Q1378.01 1534.16 1374.87 1537.37 Q1371.72 1540.59 1366.49 1540.59 Q1360.49 1540.59 1357.32 1536.01 Q1354.15 1531.4 1354.15 1522.67 Q1354.15 1514.48 1358.04 1509.62 Q1361.93 1504.73 1368.48 1504.73 Q1370.24 1504.73 1372.02 1505.08 Q1373.82 1505.43 1375.77 1506.12 Z\" fill=\"#000000\" fill-rule=\"evenodd\" fill-opacity=\"1\" /><path clip-path=\"url(#clip500)\" d=\"M 0 0 M1828.22 1523.51 Q1824.89 1523.51 1822.97 1525.29 Q1821.07 1527.07 1821.07 1530.2 Q1821.07 1533.32 1822.97 1535.11 Q1824.89 1536.89 1828.22 1536.89 Q1831.56 1536.89 1833.48 1535.11 Q1835.4 1533.3 1835.4 1530.2 Q1835.4 1527.07 1833.48 1525.29 Q1831.58 1523.51 1828.22 1523.51 M1823.55 1521.52 Q1820.54 1520.78 1818.85 1518.72 Q1817.18 1516.66 1817.18 1513.69 Q1817.18 1509.55 1820.12 1507.14 Q1823.08 1504.73 1828.22 1504.73 Q1833.39 1504.73 1836.33 1507.14 Q1839.27 1509.55 1839.27 1513.69 Q1839.27 1516.66 1837.58 1518.72 Q1835.91 1520.78 1832.92 1521.52 Q1836.3 1522.3 1838.18 1524.6 Q1840.08 1526.89 1840.08 1530.2 Q1840.08 1535.22 1837 1537.91 Q1833.94 1540.59 1828.22 1540.59 Q1822.51 1540.59 1819.43 1537.91 Q1816.37 1535.22 1816.37 1530.2 Q1816.37 1526.89 1818.27 1524.6 Q1820.17 1522.3 1823.55 1521.52 M1821.83 1514.13 Q1821.83 1516.82 1823.5 1518.32 Q1825.19 1519.83 1828.22 1519.83 Q1831.23 1519.83 1832.92 1518.32 Q1834.64 1516.82 1834.64 1514.13 Q1834.64 1511.45 1832.92 1509.94 Q1831.23 1508.44 1828.22 1508.44 Q1825.19 1508.44 1823.5 1509.94 Q1821.83 1511.45 1821.83 1514.13 Z\" fill=\"#000000\" fill-rule=\"evenodd\" fill-opacity=\"1\" /><path clip-path=\"url(#clip500)\" d=\"M 0 0 M2267.24 1535.98 L2274.88 1535.98 L2274.88 1509.62 L2266.57 1511.29 L2266.57 1507.03 L2274.83 1505.36 L2279.51 1505.36 L2279.51 1535.98 L2287.15 1535.98 L2287.15 1539.92 L2267.24 1539.92 L2267.24 1535.98 Z\" fill=\"#000000\" fill-rule=\"evenodd\" fill-opacity=\"1\" /><path clip-path=\"url(#clip500)\" d=\"M 0 0 M2302.22 1508.44 Q2298.61 1508.44 2296.78 1512 Q2294.97 1515.55 2294.97 1522.67 Q2294.97 1529.78 2296.78 1533.35 Q2298.61 1536.89 2302.22 1536.89 Q2305.85 1536.89 2307.66 1533.35 Q2309.49 1529.78 2309.49 1522.67 Q2309.49 1515.55 2307.66 1512 Q2305.85 1508.44 2302.22 1508.44 M2302.22 1504.73 Q2308.03 1504.73 2311.08 1509.34 Q2314.16 1513.92 2314.16 1522.67 Q2314.16 1531.4 2311.08 1536.01 Q2308.03 1540.59 2302.22 1540.59 Q2296.41 1540.59 2293.33 1536.01 Q2290.27 1531.4 2290.27 1522.67 Q2290.27 1513.92 2293.33 1509.34 Q2296.41 1504.73 2302.22 1504.73 Z\" fill=\"#000000\" fill-rule=\"evenodd\" fill-opacity=\"1\" /><path clip-path=\"url(#clip500)\" d=\"M 0 0 M77.0198 1153.26 Q73.4087 1153.26 71.58 1156.83 Q69.7745 1160.37 69.7745 1167.5 Q69.7745 1174.61 71.58 1178.17 Q73.4087 1181.71 77.0198 1181.71 Q80.6541 1181.71 82.4596 1178.17 Q84.2883 1174.61 84.2883 1167.5 Q84.2883 1160.37 82.4596 1156.83 Q80.6541 1153.26 77.0198 1153.26 M77.0198 1149.56 Q82.83 1149.56 85.8855 1154.17 Q88.9642 1158.75 88.9642 1167.5 Q88.9642 1176.23 85.8855 1180.83 Q82.83 1185.42 77.0198 1185.42 Q71.2097 1185.42 68.131 1180.83 Q65.0754 1176.23 65.0754 1167.5 Q65.0754 1158.75 68.131 1154.17 Q71.2097 1149.56 77.0198 1149.56 Z\" fill=\"#000000\" fill-rule=\"evenodd\" fill-opacity=\"1\" /><path clip-path=\"url(#clip500)\" d=\"M 0 0 M94.0336 1178.87 L98.9179 1178.87 L98.9179 1184.75 L94.0336 1184.75 L94.0336 1178.87 Z\" fill=\"#000000\" fill-rule=\"evenodd\" fill-opacity=\"1\" /><path clip-path=\"url(#clip500)\" d=\"M 0 0 M108.015 1180.81 L124.334 1180.81 L124.334 1184.75 L102.39 1184.75 L102.39 1180.81 Q105.052 1178.06 109.635 1173.43 Q114.242 1168.77 115.422 1167.43 Q117.668 1164.91 118.547 1163.17 Q119.45 1161.41 119.45 1159.72 Q119.45 1156.97 117.506 1155.23 Q115.584 1153.5 112.483 1153.5 Q110.284 1153.5 107.83 1154.26 Q105.399 1155.02 102.622 1156.57 L102.622 1151.85 Q105.446 1150.72 107.899 1150.14 Q110.353 1149.56 112.39 1149.56 Q117.76 1149.56 120.955 1152.25 Q124.149 1154.93 124.149 1159.42 Q124.149 1161.55 123.339 1163.47 Q122.552 1165.37 120.446 1167.96 Q119.867 1168.64 116.765 1171.85 Q113.663 1175.05 108.015 1180.81 Z\" fill=\"#000000\" fill-rule=\"evenodd\" fill-opacity=\"1\" /><path clip-path=\"url(#clip500)\" d=\"M 0 0 M74.9365 789.396 Q71.3254 789.396 69.4967 792.961 Q67.6912 796.503 67.6912 803.632 Q67.6912 810.739 69.4967 814.303 Q71.3254 817.845 74.9365 817.845 Q78.5707 817.845 80.3763 814.303 Q82.205 810.739 82.205 803.632 Q82.205 796.503 80.3763 792.961 Q78.5707 789.396 74.9365 789.396 M74.9365 785.693 Q80.7467 785.693 83.8022 790.299 Q86.8809 794.882 86.8809 803.632 Q86.8809 812.359 83.8022 816.966 Q80.7467 821.549 74.9365 821.549 Q69.1264 821.549 66.0477 816.966 Q62.9921 812.359 62.9921 803.632 Q62.9921 794.882 66.0477 790.299 Q69.1264 785.693 74.9365 785.693 Z\" fill=\"#000000\" fill-rule=\"evenodd\" fill-opacity=\"1\" /><path clip-path=\"url(#clip500)\" d=\"M 0 0 M91.9503 814.998 L96.8345 814.998 L96.8345 820.878 L91.9503 820.878 L91.9503 814.998 Z\" fill=\"#000000\" fill-rule=\"evenodd\" fill-opacity=\"1\" /><path clip-path=\"url(#clip500)\" d=\"M 0 0 M114.751 790.392 L102.946 808.841 L114.751 808.841 L114.751 790.392 M113.524 786.318 L119.404 786.318 L119.404 808.841 L124.334 808.841 L124.334 812.729 L119.404 812.729 L119.404 820.878 L114.751 820.878 L114.751 812.729 L99.1493 812.729 L99.1493 808.216 L113.524 786.318 Z\" fill=\"#000000\" fill-rule=\"evenodd\" fill-opacity=\"1\" /><path clip-path=\"url(#clip500)\" d=\"M 0 0 M75.2606 425.528 Q71.6495 425.528 69.8208 429.092 Q68.0152 432.634 68.0152 439.764 Q68.0152 446.87 69.8208 450.435 Q71.6495 453.977 75.2606 453.977 Q78.8948 453.977 80.7004 450.435 Q82.5291 446.87 82.5291 439.764 Q82.5291 432.634 80.7004 429.092 Q78.8948 425.528 75.2606 425.528 M75.2606 421.824 Q81.0707 421.824 84.1263 426.43 Q87.205 431.014 87.205 439.764 Q87.205 448.491 84.1263 453.097 Q81.0707 457.68 75.2606 457.68 Q69.4504 457.68 66.3717 453.097 Q63.3162 448.491 63.3162 439.764 Q63.3162 431.014 66.3717 426.43 Q69.4504 421.824 75.2606 421.824 Z\" fill=\"#000000\" fill-rule=\"evenodd\" fill-opacity=\"1\" /><path clip-path=\"url(#clip500)\" d=\"M 0 0 M92.2744 451.129 L97.1586 451.129 L97.1586 457.009 L92.2744 457.009 L92.2744 451.129 Z\" fill=\"#000000\" fill-rule=\"evenodd\" fill-opacity=\"1\" /><path clip-path=\"url(#clip500)\" d=\"M 0 0 M112.807 437.866 Q109.659 437.866 107.807 440.018 Q105.978 442.171 105.978 445.921 Q105.978 449.648 107.807 451.824 Q109.659 453.977 112.807 453.977 Q115.955 453.977 117.783 451.824 Q119.635 449.648 119.635 445.921 Q119.635 442.171 117.783 440.018 Q115.955 437.866 112.807 437.866 M122.089 423.213 L122.089 427.472 Q120.33 426.639 118.524 426.199 Q116.742 425.759 114.983 425.759 Q110.353 425.759 107.899 428.884 Q105.469 432.009 105.122 438.329 Q106.487 436.315 108.547 435.25 Q110.608 434.162 113.084 434.162 Q118.293 434.162 121.302 437.333 Q124.334 440.481 124.334 445.921 Q124.334 451.245 121.186 454.463 Q118.038 457.68 112.807 457.68 Q106.811 457.68 103.64 453.097 Q100.469 448.491 100.469 439.764 Q100.469 431.569 104.358 426.708 Q108.247 421.824 114.797 421.824 Q116.557 421.824 118.339 422.171 Q120.145 422.518 122.089 423.213 Z\" fill=\"#000000\" fill-rule=\"evenodd\" fill-opacity=\"1\" /><path clip-path=\"url(#clip500)\" d=\"M 0 0 M75.5152 61.6592 Q71.9041 61.6592 70.0754 65.224 Q68.2699 68.7656 68.2699 75.8952 Q68.2699 83.0016 70.0754 86.5664 Q71.9041 90.1081 75.5152 90.1081 Q79.1494 90.1081 80.955 86.5664 Q82.7837 83.0016 82.7837 75.8952 Q82.7837 68.7656 80.955 65.224 Q79.1494 61.6592 75.5152 61.6592 M75.5152 57.9555 Q81.3254 57.9555 84.3809 62.5619 Q87.4596 67.1452 87.4596 75.8952 Q87.4596 84.622 84.3809 89.2285 Q81.3254 93.8118 75.5152 93.8118 Q69.7051 93.8118 66.6264 89.2285 Q63.5708 84.622 63.5708 75.8952 Q63.5708 67.1452 66.6264 62.5619 Q69.7051 57.9555 75.5152 57.9555 Z\" fill=\"#000000\" fill-rule=\"evenodd\" fill-opacity=\"1\" /><path clip-path=\"url(#clip500)\" d=\"M 0 0 M92.529 87.2609 L97.4132 87.2609 L97.4132 93.1405 L92.529 93.1405 L92.529 87.2609 Z\" fill=\"#000000\" fill-rule=\"evenodd\" fill-opacity=\"1\" /><path clip-path=\"url(#clip500)\" d=\"M 0 0 M112.483 76.7285 Q109.149 76.7285 107.228 78.5109 Q105.33 80.2933 105.33 83.4183 Q105.33 86.5433 107.228 88.3257 Q109.149 90.1081 112.483 90.1081 Q115.816 90.1081 117.737 88.3257 Q119.658 86.5201 119.658 83.4183 Q119.658 80.2933 117.737 78.5109 Q115.839 76.7285 112.483 76.7285 M107.807 74.7378 Q104.797 73.9971 103.108 71.9369 Q101.441 69.8767 101.441 66.9138 Q101.441 62.7703 104.381 60.3629 Q107.344 57.9555 112.483 57.9555 Q117.645 57.9555 120.584 60.3629 Q123.524 62.7703 123.524 66.9138 Q123.524 69.8767 121.834 71.9369 Q120.168 73.9971 117.182 74.7378 Q120.561 75.5248 122.436 77.8165 Q124.334 80.1081 124.334 83.4183 Q124.334 88.4414 121.256 91.1266 Q118.2 93.8118 112.483 93.8118 Q106.765 93.8118 103.686 91.1266 Q100.631 88.4414 100.631 83.4183 Q100.631 80.1081 102.529 77.8165 Q104.427 75.5248 107.807 74.7378 M106.094 67.3536 Q106.094 70.0387 107.76 71.5434 Q109.45 73.048 112.483 73.048 Q115.492 73.048 117.182 71.5434 Q118.895 70.0387 118.895 67.3536 Q118.895 64.6684 117.182 63.1638 Q115.492 61.6592 112.483 61.6592 Q109.45 61.6592 107.76 63.1638 Q106.094 64.6684 106.094 67.3536 Z\" fill=\"#000000\" fill-rule=\"evenodd\" fill-opacity=\"1\" /><polyline clip-path=\"url(#clip502)\" style=\"stroke:#009af9; stroke-width:4; stroke-opacity:1; fill:none\" points=\"\n",
       "  210.724,1280.64 441.795,87.9763 672.867,612.965 903.938,1445.72 1135.01,432.081 1366.08,942.365 1597.15,1085.97 1828.22,109.038 2059.3,989.309 2290.37,1424.88 \n",
       "  \n",
       "  \"/>\n",
       "<polyline clip-path=\"url(#clip502)\" style=\"stroke:#e26f46; stroke-width:4; stroke-opacity:1; fill:none\" points=\"\n",
       "  210.724,1049.72 441.795,766.279 672.867,648.087 903.938,833.792 1135.01,849.498 1366.08,1063.08 1597.15,1390.75 1828.22,612.076 2059.3,1294.5 2290.37,933.947 \n",
       "  \n",
       "  \"/>\n",
       "<path clip-path=\"url(#clip500)\" d=\"\n",
       "M1983.32 276.658 L2279.28 276.658 L2279.28 95.2176 L1983.32 95.2176  Z\n",
       "  \" fill=\"#ffffff\" fill-rule=\"evenodd\" fill-opacity=\"1\"/>\n",
       "<polyline clip-path=\"url(#clip500)\" style=\"stroke:#000000; stroke-width:4; stroke-opacity:1; fill:none\" points=\"\n",
       "  1983.32,276.658 2279.28,276.658 2279.28,95.2176 1983.32,95.2176 1983.32,276.658 \n",
       "  \"/>\n",
       "<polyline clip-path=\"url(#clip500)\" style=\"stroke:#009af9; stroke-width:4; stroke-opacity:1; fill:none\" points=\"\n",
       "  2007.81,155.698 2154.78,155.698 \n",
       "  \"/>\n",
       "<path clip-path=\"url(#clip500)\" d=\"M 0 0 M2193.11 175.385 Q2191.31 180.015 2189.59 181.427 Q2187.88 182.839 2185.01 182.839 L2181.61 182.839 L2181.61 179.274 L2184.11 179.274 Q2185.87 179.274 2186.84 178.44 Q2187.81 177.607 2188.99 174.505 L2189.76 172.561 L2179.27 147.052 L2183.78 147.052 L2191.89 167.329 L2199.99 147.052 L2204.5 147.052 L2193.11 175.385 Z\" fill=\"#000000\" fill-rule=\"evenodd\" fill-opacity=\"1\" /><path clip-path=\"url(#clip500)\" d=\"M 0 0 M2210.38 169.042 L2218.02 169.042 L2218.02 142.677 L2209.71 144.343 L2209.71 140.084 L2217.97 138.418 L2222.65 138.418 L2222.65 169.042 L2230.29 169.042 L2230.29 172.978 L2210.38 172.978 L2210.38 169.042 Z\" fill=\"#000000\" fill-rule=\"evenodd\" fill-opacity=\"1\" /><polyline clip-path=\"url(#clip500)\" style=\"stroke:#e26f46; stroke-width:4; stroke-opacity:1; fill:none\" points=\"\n",
       "  2007.81,216.178 2154.78,216.178 \n",
       "  \"/>\n",
       "<path clip-path=\"url(#clip500)\" d=\"M 0 0 M2193.11 235.865 Q2191.31 240.495 2189.59 241.907 Q2187.88 243.319 2185.01 243.319 L2181.61 243.319 L2181.61 239.754 L2184.11 239.754 Q2185.87 239.754 2186.84 238.92 Q2187.81 238.087 2188.99 234.985 L2189.76 233.041 L2179.27 207.532 L2183.78 207.532 L2191.89 227.809 L2199.99 207.532 L2204.5 207.532 L2193.11 235.865 Z\" fill=\"#000000\" fill-rule=\"evenodd\" fill-opacity=\"1\" /><path clip-path=\"url(#clip500)\" d=\"M 0 0 M2213.6 229.522 L2229.92 229.522 L2229.92 233.458 L2207.97 233.458 L2207.97 229.522 Q2210.64 226.768 2215.22 222.138 Q2219.83 217.485 2221.01 216.143 Q2223.25 213.62 2224.13 211.884 Q2225.03 210.124 2225.03 208.435 Q2225.03 205.68 2223.09 203.944 Q2221.17 202.208 2218.07 202.208 Q2215.87 202.208 2213.41 202.972 Q2210.98 203.735 2208.2 205.286 L2208.2 200.564 Q2211.03 199.43 2213.48 198.851 Q2215.94 198.273 2217.97 198.273 Q2223.34 198.273 2226.54 200.958 Q2229.73 203.643 2229.73 208.134 Q2229.73 210.263 2228.92 212.185 Q2228.14 214.083 2226.03 216.675 Q2225.45 217.347 2222.35 220.564 Q2219.25 223.759 2213.6 229.522 Z\" fill=\"#000000\" fill-rule=\"evenodd\" fill-opacity=\"1\" /></svg>\n"
      ]
     },
     "execution_count": 46,
     "metadata": {},
     "output_type": "execute_result"
    }
   ],
   "source": [
    "x = 1:10\n",
    "y = rand(10, 2) # 2 columns means two lines\n",
    "plot(x, y)"
   ]
  },
  {
   "cell_type": "code",
   "execution_count": 47,
   "metadata": {},
   "outputs": [
    {
     "data": {
      "text/plain": [
       "2-element Array{Int64,1}:\n",
       " 4\n",
       " 5"
      ]
     },
     "execution_count": 47,
     "metadata": {},
     "output_type": "execute_result"
    }
   ],
   "source": [
    "# vector addition\n",
    "a = [1, 2]\n",
    "b = [3, 3]\n",
    "c = a + b"
   ]
  },
  {
   "cell_type": "code",
   "execution_count": 48,
   "metadata": {},
   "outputs": [
    {
     "data": {
      "text/plain": [
       "2-element Array{Int64,1}:\n",
       "  5\n",
       " 10"
      ]
     },
     "execution_count": 48,
     "metadata": {},
     "output_type": "execute_result"
    }
   ],
   "source": [
    "# Scalar-Vector Multiplication\n",
    "a * 5"
   ]
  },
  {
   "cell_type": "code",
   "execution_count": 49,
   "metadata": {},
   "outputs": [
    {
     "data": {
      "text/plain": [
       "2-element Array{Float64,1}:\n",
       " 0.5\n",
       " 1.0"
      ]
     },
     "execution_count": 49,
     "metadata": {},
     "output_type": "execute_result"
    }
   ],
   "source": [
    "# scalar-vector division\n",
    "a / 2"
   ]
  },
  {
   "cell_type": "code",
   "execution_count": 50,
   "metadata": {},
   "outputs": [
    {
     "data": {
      "text/plain": [
       "2-element Array{Int64,1}:\n",
       " 5\n",
       " 6"
      ]
     },
     "execution_count": 50,
     "metadata": {},
     "output_type": "execute_result"
    }
   ],
   "source": [
    "# add a scalar to each element in a vector\n",
    "# the . dot notation vectorizes the + operator\n",
    "a .+ 4"
   ]
  },
  {
   "cell_type": "code",
   "execution_count": 51,
   "metadata": {},
   "outputs": [
    {
     "data": {
      "text/plain": [
       "5-element Array{Float64,1}:\n",
       " 0.0\n",
       " 0.5\n",
       " 0.6666666666666666\n",
       " 0.5\n",
       " 0.4"
      ]
     },
     "execution_count": 51,
     "metadata": {},
     "output_type": "execute_result"
    }
   ],
   "source": [
    "# Element-wise operations\n",
    "# This is element-wise division\n",
    "\n",
    "initial = [1, 2, 3, 4, 5]\n",
    "final = [1, 3, 5, 6, 7]\n",
    "\n",
    "r = (final - initial) ./ initial"
   ]
  },
  {
   "cell_type": "code",
   "execution_count": 52,
   "metadata": {},
   "outputs": [
    {
     "data": {
      "text/plain": [
       "false"
      ]
     },
     "execution_count": 52,
     "metadata": {},
     "output_type": "execute_result"
    }
   ],
   "source": [
    "# element-wise operations with a scalar\n",
    "w = [1, 2, 2]\n",
    "z = [1, 2, 3]\n",
    "w == z # compares the entire vector"
   ]
  },
  {
   "cell_type": "code",
   "execution_count": 53,
   "metadata": {},
   "outputs": [
    {
     "data": {
      "text/plain": [
       "3-element BitArray{1}:\n",
       " 1\n",
       " 1\n",
       " 0"
      ]
     },
     "execution_count": 53,
     "metadata": {},
     "output_type": "execute_result"
    }
   ],
   "source": [
    "w .== z # bit array holding each equality at each index"
   ]
  },
  {
   "cell_type": "code",
   "execution_count": 54,
   "metadata": {},
   "outputs": [
    {
     "data": {
      "text/plain": [
       "5-element BitArray{1}:\n",
       " 0\n",
       " 0\n",
       " 0\n",
       " 0\n",
       " 0"
      ]
     },
     "execution_count": 54,
     "metadata": {},
     "output_type": "execute_result"
    }
   ],
   "source": [
    "# we can combine element-wise operations with conditions like so:\n",
    "x = randn(5)\n",
    "\n",
    "# Obtain the boolean mask\n",
    "x .> 0"
   ]
  },
  {
   "cell_type": "code",
   "execution_count": 55,
   "metadata": {},
   "outputs": [
    {
     "data": {
      "text/plain": [
       "Float64[]"
      ]
     },
     "execution_count": 55,
     "metadata": {},
     "output_type": "execute_result"
    }
   ],
   "source": [
    "# Return only the positive values\n",
    "x[x .> 0]"
   ]
  },
  {
   "cell_type": "code",
   "execution_count": 56,
   "metadata": {},
   "outputs": [
    {
     "data": {
      "text/plain": [
       "3-element Array{Int64,1}:\n",
       " 1\n",
       " 3\n",
       " 3"
      ]
     },
     "execution_count": 56,
     "metadata": {},
     "output_type": "execute_result"
    }
   ],
   "source": [
    "# dot notation works with assignment, too\n",
    "x = [1, 2, 4]\n",
    "x[2:3] .= 3\n",
    "x"
   ]
  },
  {
   "cell_type": "markdown",
   "metadata": {},
   "source": [
    "## Linear Combinations\n",
    "We can form linear combinations in Julia using scalar-vector multiplication and addition"
   ]
  },
  {
   "cell_type": "code",
   "execution_count": 57,
   "metadata": {},
   "outputs": [
    {
     "data": {
      "text/plain": [
       "2-element Array{Float64,1}:\n",
       " 4.0\n",
       " 5.0"
      ]
     },
     "execution_count": 57,
     "metadata": {},
     "output_type": "execute_result"
    }
   ],
   "source": [
    "a = [1, 2]\n",
    "b = [3, 4]\n",
    "alpha = -.5\n",
    "beta = 1.5\n",
    "c = alpha*a + beta*b"
   ]
  },
  {
   "cell_type": "code",
   "execution_count": 58,
   "metadata": {},
   "outputs": [
    {
     "data": {
      "text/plain": [
       "linear_combination (generic function with 1 method)"
      ]
     },
     "execution_count": 58,
     "metadata": {},
     "output_type": "execute_result"
    }
   ],
   "source": [
    "# Let's make a function that produces linear combinations!\n",
    "function linear_combination(coeff, vectors)\n",
    "    n = length(vectors[1]) # Length of vectors\n",
    "    a = zeros(n)\n",
    "    for i = 1:length(vectors)\n",
    "        a = a + coeff[i] * vectors[i]\n",
    "    end\n",
    "    return a\n",
    "end\n"
   ]
  },
  {
   "cell_type": "code",
   "execution_count": 59,
   "metadata": {},
   "outputs": [
    {
     "data": {
      "text/plain": [
       "2-element Array{Float64,1}:\n",
       " 4.0\n",
       " 5.0"
      ]
     },
     "execution_count": 59,
     "metadata": {},
     "output_type": "execute_result"
    }
   ],
   "source": [
    "a = [1, 2]\n",
    "b = [3, 4]\n",
    "alpha = -.5\n",
    "beta = 1.5\n",
    "linear_combination((alpha, beta), (a, b))"
   ]
  },
  {
   "cell_type": "code",
   "execution_count": 60,
   "metadata": {},
   "outputs": [
    {
     "data": {
      "text/plain": [
       "2-element Array{Float64,1}:\n",
       " 4.0\n",
       " 5.0"
      ]
     },
     "execution_count": 60,
     "metadata": {},
     "output_type": "execute_result"
    }
   ],
   "source": [
    "# A more concise definition\n",
    "function lincomb(coeff, vectors)\n",
    "    return sum(coeff[i] * vectors[i] for i = 1:length(vectors))\n",
    "end\n",
    "\n",
    "lincomb((alpha, beta), (a, b))"
   ]
  },
  {
   "cell_type": "markdown",
   "metadata": {},
   "source": [
    "## Checking Properties!\n",
    "- let's check the disributive property\n",
    "- $\\beta(a + b) = \\beta a + \\beta b$"
   ]
  },
  {
   "cell_type": "code",
   "execution_count": 61,
   "metadata": {},
   "outputs": [
    {
     "data": {
      "text/plain": [
       "0.5088129720067633"
      ]
     },
     "execution_count": 61,
     "metadata": {},
     "output_type": "execute_result"
    }
   ],
   "source": [
    "a = rand(3); b = rand(3)\n",
    "beta = rand()"
   ]
  },
  {
   "cell_type": "code",
   "execution_count": 62,
   "metadata": {},
   "outputs": [
    {
     "data": {
      "text/plain": [
       "3-element Array{Float64,1}:\n",
       " 0.5217539581401269\n",
       " 0.5521782908021339\n",
       " 0.5144694476385927"
      ]
     },
     "execution_count": 62,
     "metadata": {},
     "output_type": "execute_result"
    }
   ],
   "source": [
    "lhs = beta*(a + b)"
   ]
  },
  {
   "cell_type": "code",
   "execution_count": 63,
   "metadata": {},
   "outputs": [
    {
     "data": {
      "text/plain": [
       "3-element Array{Float64,1}:\n",
       " 0.5217539581401269\n",
       " 0.5521782908021339\n",
       " 0.5144694476385927"
      ]
     },
     "execution_count": 63,
     "metadata": {},
     "output_type": "execute_result"
    }
   ],
   "source": [
    "rhs = beta*a + beta*b"
   ]
  },
  {
   "cell_type": "code",
   "execution_count": 64,
   "metadata": {},
   "outputs": [
    {
     "data": {
      "text/plain": [
       "true"
      ]
     },
     "execution_count": 64,
     "metadata": {},
     "output_type": "execute_result"
    }
   ],
   "source": [
    "# arrays are approximately equal\n",
    "lhs ≈ rhs"
   ]
  },
  {
   "cell_type": "code",
   "execution_count": 65,
   "metadata": {},
   "outputs": [
    {
     "data": {
      "text/plain": [
       "3-element BitArray{1}:\n",
       " 1\n",
       " 1\n",
       " 1"
      ]
     },
     "execution_count": 65,
     "metadata": {},
     "output_type": "execute_result"
    }
   ],
   "source": [
    "# let's check element-wise approximate equality\n",
    "lhs .≈ rhs"
   ]
  },
  {
   "cell_type": "code",
   "execution_count": 66,
   "metadata": {},
   "outputs": [
    {
     "data": {
      "text/plain": [
       "true"
      ]
     },
     "execution_count": 66,
     "metadata": {},
     "output_type": "execute_result"
    }
   ],
   "source": [
    "# Since == is exact, we should probably use \\approx to account for rounding errors and ieee754 floating point issues\n",
    "lhs == rhs"
   ]
  },
  {
   "cell_type": "code",
   "execution_count": 67,
   "metadata": {},
   "outputs": [
    {
     "data": {
      "text/plain": [
       "3-element BitArray{1}:\n",
       " 1\n",
       " 1\n",
       " 1"
      ]
     },
     "execution_count": 67,
     "metadata": {},
     "output_type": "execute_result"
    }
   ],
   "source": [
    "lhs .== rhs"
   ]
  },
  {
   "cell_type": "markdown",
   "metadata": {},
   "source": [
    "## Inner Product"
   ]
  },
  {
   "cell_type": "code",
   "execution_count": 68,
   "metadata": {},
   "outputs": [
    {
     "data": {
      "text/plain": [
       "20"
      ]
     },
     "execution_count": 68,
     "metadata": {},
     "output_type": "execute_result"
    }
   ],
   "source": [
    "x = [1, 2, 3]\n",
    "y = [2, 3, 4]\n",
    "x'y"
   ]
  },
  {
   "cell_type": "code",
   "execution_count": 69,
   "metadata": {},
   "outputs": [
    {
     "data": {
      "text/plain": [
       "4-element Array{Float64,1}:\n",
       " 1.0\n",
       " 0.9523809523809523\n",
       " 0.9070294784580498\n",
       " 0.863837598531476"
      ]
     },
     "execution_count": 69,
     "metadata": {},
     "output_type": "execute_result"
    }
   ],
   "source": [
    "# Net present value (Net present value of a cashflow vector c, with per-period interest rate r)\n",
    "c = [0.1, 0.1, 0.1, 1.1] # Cashflow vector\n",
    "n = length(c)\n",
    "r = 0.05 # 5% per period interest rate\n",
    "\n",
    "d = (1 + r).^ -(0:n-1)"
   ]
  },
  {
   "cell_type": "code",
   "execution_count": 70,
   "metadata": {},
   "outputs": [
    {
     "data": {
      "text/plain": [
       "1.236162401468524"
      ]
     },
     "execution_count": 70,
     "metadata": {},
     "output_type": "execute_result"
    }
   ],
   "source": [
    "NPV = c'd"
   ]
  },
  {
   "cell_type": "code",
   "execution_count": 71,
   "metadata": {},
   "outputs": [
    {
     "data": {
      "text/plain": [
       "7890.0"
      ]
     },
     "execution_count": 71,
     "metadata": {},
     "output_type": "execute_result"
    }
   ],
   "source": [
    "# school aged population is between 6 to 19\n",
    "s = [zeros(5); ones(14); zeros(81)]\n",
    "\n",
    "# Produce a random distribution of number of people per age\n",
    "x = rand(length(s)) * 1000\n",
    "\n",
    "# Inner product of s and x is the sum\n",
    "round(s'x)"
   ]
  },
  {
   "cell_type": "markdown",
   "metadata": {},
   "source": [
    "## Complexity of Vector Computations\n",
    "- Floating point operations\n",
    "- Example: $(a + b)(a - b) = a^2 - b^2$"
   ]
  },
  {
   "cell_type": "code",
   "execution_count": 72,
   "metadata": {},
   "outputs": [
    {
     "data": {
      "text/plain": [
       "-0.47822252542423804"
      ]
     },
     "execution_count": 72,
     "metadata": {},
     "output_type": "execute_result"
    }
   ],
   "source": [
    "a = rand(); b = rand()\n",
    "lhs = (a + b) * (a - b)\n",
    "rhs = a^2 - b^2"
   ]
  },
  {
   "cell_type": "code",
   "execution_count": 73,
   "metadata": {},
   "outputs": [
    {
     "data": {
      "text/plain": [
       "true"
      ]
     },
     "execution_count": 73,
     "metadata": {},
     "output_type": "execute_result"
    }
   ],
   "source": [
    "lhs == rhs"
   ]
  },
  {
   "cell_type": "code",
   "execution_count": 74,
   "metadata": {},
   "outputs": [
    {
     "data": {
      "text/plain": [
       "true"
      ]
     },
     "execution_count": 74,
     "metadata": {},
     "output_type": "execute_result"
    }
   ],
   "source": [
    "lhs ≈ rhs"
   ]
  },
  {
   "cell_type": "code",
   "execution_count": 75,
   "metadata": {},
   "outputs": [
    {
     "name": "stdout",
     "output_type": "stream",
     "text": [
      "  0.000161 seconds (2 allocations: 32 bytes)\n"
     ]
    },
    {
     "data": {
      "text/plain": [
       "25009.616360497814"
      ]
     },
     "execution_count": 75,
     "metadata": {},
     "output_type": "execute_result"
    }
   ],
   "source": [
    "# Complexity of operations\n",
    "# With Julia, we can add @time to time things\n",
    "a = rand(10^5); b = rand(10^5)\n",
    "@time a'b"
   ]
  },
  {
   "cell_type": "code",
   "execution_count": 76,
   "metadata": {},
   "outputs": [
    {
     "name": "stdout",
     "output_type": "stream",
     "text": [
      "  0.000094 seconds (2 allocations: 32 bytes)\n"
     ]
    },
    {
     "data": {
      "text/plain": [
       "25009.616360497814"
      ]
     },
     "execution_count": 76,
     "metadata": {},
     "output_type": "execute_result"
    }
   ],
   "source": [
    "@time a'b"
   ]
  },
  {
   "cell_type": "code",
   "execution_count": 77,
   "metadata": {},
   "outputs": [
    {
     "data": {
      "text/plain": [
       "1000000-element SparseVector{Float64,Int64} with 2 stored entries:\n",
       "  [123456 ]  =  1.0\n",
       "  [123457 ]  =  -1.0"
      ]
     },
     "execution_count": 77,
     "metadata": {},
     "output_type": "execute_result"
    }
   ],
   "source": [
    "# Working with sparse vectors\n",
    "a = sparsevec([123456, 123457], [1.0, -1.0], 10^6)"
   ]
  },
  {
   "cell_type": "code",
   "execution_count": 78,
   "metadata": {},
   "outputs": [
    {
     "data": {
      "text/plain": [
       "2"
      ]
     },
     "execution_count": 78,
     "metadata": {},
     "output_type": "execute_result"
    }
   ],
   "source": [
    "# Number of nonzero entries\n",
    "nnz(a)"
   ]
  },
  {
   "cell_type": "code",
   "execution_count": 79,
   "metadata": {},
   "outputs": [
    {
     "data": {
      "text/plain": [
       "1000000-element Array{Float64,1}:\n",
       " -1.8226296988868247\n",
       " -0.15519595453120108\n",
       "  0.2958933749263185\n",
       "  0.20137006553603676\n",
       "  0.7442758428375917\n",
       " -0.4299753786242495\n",
       "  0.7760039512902339\n",
       " -1.7888061139473082\n",
       "  0.4555339454775161\n",
       " -0.1474177630003791\n",
       "  0.4845119973649062\n",
       " -0.4938372354758468\n",
       " -0.2590967972405181\n",
       "  ⋮\n",
       "  0.10486499705306838\n",
       "  0.6303052778542186\n",
       "  0.4703312857434053\n",
       "  0.6866810827183389\n",
       " -1.5724541795882399\n",
       " -0.05559455776129448\n",
       " -1.753345472184254\n",
       " -0.15169449324598913\n",
       "  1.655424680277913\n",
       "  0.9858432639508826\n",
       "  1.3920990267499118\n",
       "  0.8429821031868624"
      ]
     },
     "execution_count": 79,
     "metadata": {},
     "output_type": "execute_result"
    }
   ],
   "source": [
    "b = randn(10^6) # an ordinary vector of the same length"
   ]
  },
  {
   "cell_type": "code",
   "execution_count": 80,
   "metadata": {},
   "outputs": [
    {
     "name": "stdout",
     "output_type": "stream",
     "text": [
      "  0.067053 seconds (148.45 k allocations: 7.600 MiB)\n"
     ]
    },
    {
     "data": {
      "text/plain": [
       "1000000-element SparseVector{Float64,Int64} with 2 stored entries:\n",
       "  [123456 ]  =  2.0\n",
       "  [123457 ]  =  -2.0"
      ]
     },
     "execution_count": 80,
     "metadata": {},
     "output_type": "execute_result"
    }
   ],
   "source": [
    "@time 2*a\n"
   ]
  },
  {
   "cell_type": "code",
   "execution_count": 81,
   "metadata": {},
   "outputs": [
    {
     "name": "stdout",
     "output_type": "stream",
     "text": [
      "  0.017965 seconds (5 allocations: 7.630 MiB, 73.93% gc time)\n"
     ]
    },
    {
     "data": {
      "text/plain": [
       "1000000-element Array{Float64,1}:\n",
       " -3.6452593977736494\n",
       " -0.31039190906240216\n",
       "  0.591786749852637\n",
       "  0.4027401310720735\n",
       "  1.4885516856751835\n",
       " -0.859950757248499\n",
       "  1.5520079025804678\n",
       " -3.5776122278946163\n",
       "  0.9110678909550322\n",
       " -0.2948355260007582\n",
       "  0.9690239947298124\n",
       " -0.9876744709516936\n",
       " -0.5181935944810362\n",
       "  ⋮\n",
       "  0.20972999410613677\n",
       "  1.2606105557084373\n",
       "  0.9406625714868107\n",
       "  1.3733621654366779\n",
       " -3.1449083591764797\n",
       " -0.11118911552258896\n",
       " -3.506690944368508\n",
       " -0.30338898649197826\n",
       "  3.310849360555826\n",
       "  1.9716865279017652\n",
       "  2.7841980534998236\n",
       "  1.6859642063737248"
      ]
     },
     "execution_count": 81,
     "metadata": {},
     "output_type": "execute_result"
    }
   ],
   "source": [
    "@time 2*b"
   ]
  },
  {
   "cell_type": "code",
   "execution_count": 82,
   "metadata": {},
   "outputs": [
    {
     "name": "stdout",
     "output_type": "stream",
     "text": [
      "  0.000883 seconds (2 allocations: 32 bytes)\n"
     ]
    },
    {
     "data": {
      "text/plain": [
       "999198.3835031702"
      ]
     },
     "execution_count": 82,
     "metadata": {},
     "output_type": "execute_result"
    }
   ],
   "source": [
    "@time b'b"
   ]
  },
  {
   "cell_type": "code",
   "execution_count": 83,
   "metadata": {},
   "outputs": [
    {
     "name": "stdout",
     "output_type": "stream",
     "text": [
      "  0.070080 seconds (89.46 k allocations: 4.857 MiB)\n"
     ]
    },
    {
     "data": {
      "text/plain": [
       "2.0"
      ]
     },
     "execution_count": 83,
     "metadata": {},
     "output_type": "execute_result"
    }
   ],
   "source": [
    "@time a'a"
   ]
  },
  {
   "cell_type": "code",
   "execution_count": 84,
   "metadata": {},
   "outputs": [
    {
     "name": "stdout",
     "output_type": "stream",
     "text": [
      "  0.415176 seconds (1.28 M allocations: 96.221 MiB, 5.40% gc time)\n"
     ]
    },
    {
     "data": {
      "text/plain": [
       "1000000-element SparseVector{Float64,Int64} with 1000000 stored entries:\n",
       "  [1      ]  =  -1.82263\n",
       "  [2      ]  =  -0.155196\n",
       "  [3      ]  =  0.295893\n",
       "  [4      ]  =  0.20137\n",
       "  [5      ]  =  0.744276\n",
       "  [6      ]  =  -0.429975\n",
       "  [7      ]  =  0.776004\n",
       "  [8      ]  =  -1.78881\n",
       "  [9      ]  =  0.455534\n",
       "  [10     ]  =  -0.147418\n",
       "             ⋮\n",
       "  [999990 ]  =  0.630305\n",
       "  [999991 ]  =  0.470331\n",
       "  [999992 ]  =  0.686681\n",
       "  [999993 ]  =  -1.57245\n",
       "  [999994 ]  =  -0.0555946\n",
       "  [999995 ]  =  -1.75335\n",
       "  [999996 ]  =  -0.151694\n",
       "  [999997 ]  =  1.65542\n",
       "  [999998 ]  =  0.985843\n",
       "  [999999 ]  =  1.3921\n",
       "  [1000000]  =  0.842982"
      ]
     },
     "execution_count": 84,
     "metadata": {},
     "output_type": "execute_result"
    }
   ],
   "source": [
    "@time c = a + b"
   ]
  },
  {
   "cell_type": "markdown",
   "metadata": {},
   "source": [
    "  "
   ]
  }
 ],
 "metadata": {
  "kernelspec": {
   "display_name": "Julia 1.5.1",
   "language": "julia",
   "name": "julia-1.5"
  },
  "language_info": {
   "file_extension": ".jl",
   "mimetype": "application/julia",
   "name": "julia",
   "version": "1.5.1"
  }
 },
 "nbformat": 4,
 "nbformat_minor": 4
}
